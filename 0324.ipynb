{
 "cells": [
  {
   "cell_type": "markdown",
   "metadata": {
    "id": "f8af11c0-2e3b-4f3f-a793-ef2397e553d1"
   },
   "source": [
    "# 0324"
   ]
  },
  {
   "cell_type": "markdown",
   "metadata": {
    "id": "8e61f13c-1d70-401d-a47a-ae7dc19b0f1d"
   },
   "source": [
    "Related links\n",
    "\n",
    "- [Course website](https://www-math.nsysu.edu.tw/~chlin/2025SMath599/2025SMath599.html)\n",
    "- [Python Data Science Handbook](https://jakevdp.github.io/PythonDataScienceHandbook/)"
   ]
  },
  {
   "cell_type": "markdown",
   "metadata": {},
   "source": [
    "## Data"
   ]
  },
  {
   "cell_type": "code",
   "execution_count": 1,
   "id": "3cc42ff3",
   "metadata": {},
   "outputs": [],
   "source": [
    "### load nsysu\n",
    "\n",
    "import os\n",
    "import urllib\n",
    "import numpy as np\n",
    "\n",
    "base = r\"https://github.com/SageLabTW/auto-grading/raw/master/nsysu-digits/\"\n",
    "for c in ['X', 'y']:\n",
    "    filename = \"nsysu-digits-%s.csv\"%c\n",
    "    if filename not in os.listdir('.'):\n",
    "        print(filename, 'not found --- will download')\n",
    "        urllib.request.urlretrieve(base + c + \".csv\", filename)\n",
    "\n",
    "Xsys = np.genfromtxt('nsysu-digits-X.csv', dtype=int, delimiter=',') ### flattened already\n",
    "ysys = np.genfromtxt('nsysu-digits-y.csv', dtype=int, delimiter=',')"
   ]
  },
  {
   "cell_type": "code",
   "execution_count": 2,
   "id": "4cf6191c",
   "metadata": {},
   "outputs": [],
   "source": [
    "# load MNIST (long)\n",
    "\n",
    "from sklearn.datasets import fetch_openml\n",
    "mnist = fetch_openml('mnist_784')"
   ]
  },
  {
   "cell_type": "markdown",
   "id": "9fb02da6",
   "metadata": {},
   "source": [
    "[Sample DataFrame](https://docs.google.com/spreadsheets/d/1pzcuTVMyRhBrwmcpOnGILUjMsPeF8fjkSSLwUuevXJ0/edit?usp=sharing)"
   ]
  },
  {
   "cell_type": "code",
   "execution_count": 3,
   "id": "0b12ef4b",
   "metadata": {},
   "outputs": [],
   "source": [
    "from sklearn import datasets\n",
    "titanic = datasets.fetch_openml(name='titanic', version=1, as_frame=True)"
   ]
  },
  {
   "cell_type": "code",
   "execution_count": 4,
   "id": "56a4eef6",
   "metadata": {},
   "outputs": [],
   "source": [
    "# required packages\n",
    "import numpy as np\n",
    "import pandas as pd"
   ]
  },
  {
   "cell_type": "markdown",
   "id": "3e768e57",
   "metadata": {},
   "source": [
    "## [Pivot Tables](https://jakevdp.github.io/PythonDataScienceHandbook/03.09-pivot-tables.html)"
   ]
  },
  {
   "cell_type": "markdown",
   "id": "f246beef",
   "metadata": {},
   "source": [
    "[Sample DataFrame](https://docs.google.com/spreadsheets/d/1pzcuTVMyRhBrwmcpOnGILUjMsPeF8fjkSSLwUuevXJ0/edit?usp=sharing)"
   ]
  },
  {
   "cell_type": "markdown",
   "id": "18fce140",
   "metadata": {},
   "source": [
    "By Google spreadsheet"
   ]
  },
  {
   "cell_type": "code",
   "execution_count": 5,
   "id": "95cc1060",
   "metadata": {},
   "outputs": [
    {
     "data": {
      "text/html": [
       "<div>\n",
       "<style scoped>\n",
       "    .dataframe tbody tr th:only-of-type {\n",
       "        vertical-align: middle;\n",
       "    }\n",
       "\n",
       "    .dataframe tbody tr th {\n",
       "        vertical-align: top;\n",
       "    }\n",
       "\n",
       "    .dataframe thead th {\n",
       "        text-align: right;\n",
       "    }\n",
       "</style>\n",
       "<table border=\"1\" class=\"dataframe\">\n",
       "  <thead>\n",
       "    <tr style=\"text-align: right;\">\n",
       "      <th></th>\n",
       "      <th>GENDER</th>\n",
       "      <th>YEAR</th>\n",
       "      <th>SCORE</th>\n",
       "    </tr>\n",
       "    <tr>\n",
       "      <th>STD_ID</th>\n",
       "      <th></th>\n",
       "      <th></th>\n",
       "      <th></th>\n",
       "    </tr>\n",
       "  </thead>\n",
       "  <tbody>\n",
       "    <tr>\n",
       "      <th>1</th>\n",
       "      <td>M</td>\n",
       "      <td>1</td>\n",
       "      <td>42</td>\n",
       "    </tr>\n",
       "    <tr>\n",
       "      <th>2</th>\n",
       "      <td>M</td>\n",
       "      <td>1</td>\n",
       "      <td>18</td>\n",
       "    </tr>\n",
       "    <tr>\n",
       "      <th>3</th>\n",
       "      <td>M</td>\n",
       "      <td>1</td>\n",
       "      <td>32</td>\n",
       "    </tr>\n",
       "    <tr>\n",
       "      <th>4</th>\n",
       "      <td>F</td>\n",
       "      <td>1</td>\n",
       "      <td>100</td>\n",
       "    </tr>\n",
       "    <tr>\n",
       "      <th>5</th>\n",
       "      <td>F</td>\n",
       "      <td>1</td>\n",
       "      <td>14</td>\n",
       "    </tr>\n",
       "  </tbody>\n",
       "</table>\n",
       "</div>"
      ],
      "text/plain": [
       "       GENDER  YEAR  SCORE\n",
       "STD_ID                    \n",
       "1           M     1     42\n",
       "2           M     1     18\n",
       "3           M     1     32\n",
       "4           F     1    100\n",
       "5           F     1     14"
      ]
     },
     "execution_count": 5,
     "metadata": {},
     "output_type": "execute_result"
    }
   ],
   "source": [
    "df = pd.read_csv(\"pivot.csv\").set_index(\"STD_ID\")\n",
    "df.head()"
   ]
  },
  {
   "cell_type": "code",
   "execution_count": 6,
   "id": "f86073a0",
   "metadata": {},
   "outputs": [
    {
     "data": {
      "text/html": [
       "<div>\n",
       "<style scoped>\n",
       "    .dataframe tbody tr th:only-of-type {\n",
       "        vertical-align: middle;\n",
       "    }\n",
       "\n",
       "    .dataframe tbody tr th {\n",
       "        vertical-align: top;\n",
       "    }\n",
       "\n",
       "    .dataframe thead th {\n",
       "        text-align: right;\n",
       "    }\n",
       "</style>\n",
       "<table border=\"1\" class=\"dataframe\">\n",
       "  <thead>\n",
       "    <tr style=\"text-align: right;\">\n",
       "      <th></th>\n",
       "      <th></th>\n",
       "      <th>SCORE</th>\n",
       "    </tr>\n",
       "    <tr>\n",
       "      <th>GENDER</th>\n",
       "      <th>YEAR</th>\n",
       "      <th></th>\n",
       "    </tr>\n",
       "  </thead>\n",
       "  <tbody>\n",
       "    <tr>\n",
       "      <th rowspan=\"4\" valign=\"top\">F</th>\n",
       "      <th>1</th>\n",
       "      <td>57.000000</td>\n",
       "    </tr>\n",
       "    <tr>\n",
       "      <th>2</th>\n",
       "      <td>48.666667</td>\n",
       "    </tr>\n",
       "    <tr>\n",
       "      <th>3</th>\n",
       "      <td>42.500000</td>\n",
       "    </tr>\n",
       "    <tr>\n",
       "      <th>4</th>\n",
       "      <td>28.000000</td>\n",
       "    </tr>\n",
       "    <tr>\n",
       "      <th rowspan=\"4\" valign=\"top\">M</th>\n",
       "      <th>1</th>\n",
       "      <td>30.666667</td>\n",
       "    </tr>\n",
       "    <tr>\n",
       "      <th>2</th>\n",
       "      <td>59.000000</td>\n",
       "    </tr>\n",
       "    <tr>\n",
       "      <th>3</th>\n",
       "      <td>92.000000</td>\n",
       "    </tr>\n",
       "    <tr>\n",
       "      <th>4</th>\n",
       "      <td>42.750000</td>\n",
       "    </tr>\n",
       "  </tbody>\n",
       "</table>\n",
       "</div>"
      ],
      "text/plain": [
       "                 SCORE\n",
       "GENDER YEAR           \n",
       "F      1     57.000000\n",
       "       2     48.666667\n",
       "       3     42.500000\n",
       "       4     28.000000\n",
       "M      1     30.666667\n",
       "       2     59.000000\n",
       "       3     92.000000\n",
       "       4     42.750000"
      ]
     },
     "execution_count": 6,
     "metadata": {},
     "output_type": "execute_result"
    }
   ],
   "source": [
    "# by GroupBy ~ split + apply + combine\n",
    "df.groupby([\"GENDER\",\"YEAR\"]).mean()"
   ]
  },
  {
   "cell_type": "code",
   "execution_count": 7,
   "id": "9b938c16",
   "metadata": {},
   "outputs": [
    {
     "data": {
      "text/html": [
       "<div>\n",
       "<style scoped>\n",
       "    .dataframe tbody tr th:only-of-type {\n",
       "        vertical-align: middle;\n",
       "    }\n",
       "\n",
       "    .dataframe tbody tr th {\n",
       "        vertical-align: top;\n",
       "    }\n",
       "\n",
       "    .dataframe thead tr th {\n",
       "        text-align: left;\n",
       "    }\n",
       "\n",
       "    .dataframe thead tr:last-of-type th {\n",
       "        text-align: right;\n",
       "    }\n",
       "</style>\n",
       "<table border=\"1\" class=\"dataframe\">\n",
       "  <thead>\n",
       "    <tr>\n",
       "      <th></th>\n",
       "      <th colspan=\"4\" halign=\"left\">SCORE</th>\n",
       "    </tr>\n",
       "    <tr>\n",
       "      <th>YEAR</th>\n",
       "      <th>1</th>\n",
       "      <th>2</th>\n",
       "      <th>3</th>\n",
       "      <th>4</th>\n",
       "    </tr>\n",
       "    <tr>\n",
       "      <th>GENDER</th>\n",
       "      <th></th>\n",
       "      <th></th>\n",
       "      <th></th>\n",
       "      <th></th>\n",
       "    </tr>\n",
       "  </thead>\n",
       "  <tbody>\n",
       "    <tr>\n",
       "      <th>F</th>\n",
       "      <td>57.000000</td>\n",
       "      <td>48.666667</td>\n",
       "      <td>42.5</td>\n",
       "      <td>28.00</td>\n",
       "    </tr>\n",
       "    <tr>\n",
       "      <th>M</th>\n",
       "      <td>30.666667</td>\n",
       "      <td>59.000000</td>\n",
       "      <td>92.0</td>\n",
       "      <td>42.75</td>\n",
       "    </tr>\n",
       "  </tbody>\n",
       "</table>\n",
       "</div>"
      ],
      "text/plain": [
       "            SCORE                        \n",
       "YEAR            1          2     3      4\n",
       "GENDER                                   \n",
       "F       57.000000  48.666667  42.5  28.00\n",
       "M       30.666667  59.000000  92.0  42.75"
      ]
     },
     "execution_count": 7,
     "metadata": {},
     "output_type": "execute_result"
    }
   ],
   "source": [
    "df.groupby([\"GENDER\",\"YEAR\"]).mean().unstack()"
   ]
  },
  {
   "cell_type": "code",
   "execution_count": 8,
   "id": "1256814d",
   "metadata": {},
   "outputs": [
    {
     "data": {
      "text/html": [
       "<div>\n",
       "<style scoped>\n",
       "    .dataframe tbody tr th:only-of-type {\n",
       "        vertical-align: middle;\n",
       "    }\n",
       "\n",
       "    .dataframe tbody tr th {\n",
       "        vertical-align: top;\n",
       "    }\n",
       "\n",
       "    .dataframe thead th {\n",
       "        text-align: right;\n",
       "    }\n",
       "</style>\n",
       "<table border=\"1\" class=\"dataframe\">\n",
       "  <thead>\n",
       "    <tr style=\"text-align: right;\">\n",
       "      <th>YEAR</th>\n",
       "      <th>1</th>\n",
       "      <th>2</th>\n",
       "      <th>3</th>\n",
       "      <th>4</th>\n",
       "    </tr>\n",
       "    <tr>\n",
       "      <th>GENDER</th>\n",
       "      <th></th>\n",
       "      <th></th>\n",
       "      <th></th>\n",
       "      <th></th>\n",
       "    </tr>\n",
       "  </thead>\n",
       "  <tbody>\n",
       "    <tr>\n",
       "      <th>F</th>\n",
       "      <td>57.000000</td>\n",
       "      <td>48.666667</td>\n",
       "      <td>42.5</td>\n",
       "      <td>28.00</td>\n",
       "    </tr>\n",
       "    <tr>\n",
       "      <th>M</th>\n",
       "      <td>30.666667</td>\n",
       "      <td>59.000000</td>\n",
       "      <td>92.0</td>\n",
       "      <td>42.75</td>\n",
       "    </tr>\n",
       "  </tbody>\n",
       "</table>\n",
       "</div>"
      ],
      "text/plain": [
       "YEAR            1          2     3      4\n",
       "GENDER                                   \n",
       "F       57.000000  48.666667  42.5  28.00\n",
       "M       30.666667  59.000000  92.0  42.75"
      ]
     },
     "execution_count": 8,
     "metadata": {},
     "output_type": "execute_result"
    }
   ],
   "source": [
    "# by pivot_table\n",
    "df.pivot_table(values=\"SCORE\", index=\"GENDER\", columns=\"YEAR\", aggfunc='mean')"
   ]
  },
  {
   "cell_type": "markdown",
   "id": "0f625971",
   "metadata": {},
   "source": [
    "Try Titanic"
   ]
  },
  {
   "cell_type": "code",
   "execution_count": 9,
   "id": "61f81112",
   "metadata": {},
   "outputs": [
    {
     "data": {
      "text/plain": [
       "dict_keys(['data', 'target', 'frame', 'categories', 'feature_names', 'target_names', 'DESCR', 'details', 'url'])"
      ]
     },
     "execution_count": 9,
     "metadata": {},
     "output_type": "execute_result"
    }
   ],
   "source": [
    "titanic.keys()"
   ]
  },
  {
   "cell_type": "code",
   "execution_count": 10,
   "id": "841eabbb",
   "metadata": {},
   "outputs": [
    {
     "data": {
      "text/html": [
       "<div>\n",
       "<style scoped>\n",
       "    .dataframe tbody tr th:only-of-type {\n",
       "        vertical-align: middle;\n",
       "    }\n",
       "\n",
       "    .dataframe tbody tr th {\n",
       "        vertical-align: top;\n",
       "    }\n",
       "\n",
       "    .dataframe thead th {\n",
       "        text-align: right;\n",
       "    }\n",
       "</style>\n",
       "<table border=\"1\" class=\"dataframe\">\n",
       "  <thead>\n",
       "    <tr style=\"text-align: right;\">\n",
       "      <th></th>\n",
       "      <th>pclass</th>\n",
       "      <th>name</th>\n",
       "      <th>sex</th>\n",
       "      <th>age</th>\n",
       "      <th>sibsp</th>\n",
       "      <th>parch</th>\n",
       "      <th>ticket</th>\n",
       "      <th>fare</th>\n",
       "      <th>cabin</th>\n",
       "      <th>embarked</th>\n",
       "      <th>boat</th>\n",
       "      <th>body</th>\n",
       "      <th>home.dest</th>\n",
       "      <th>survive</th>\n",
       "    </tr>\n",
       "  </thead>\n",
       "  <tbody>\n",
       "    <tr>\n",
       "      <th>0</th>\n",
       "      <td>1</td>\n",
       "      <td>Allen, Miss. Elisabeth Walton</td>\n",
       "      <td>female</td>\n",
       "      <td>29.0000</td>\n",
       "      <td>0</td>\n",
       "      <td>0</td>\n",
       "      <td>24160</td>\n",
       "      <td>211.3375</td>\n",
       "      <td>B5</td>\n",
       "      <td>S</td>\n",
       "      <td>2</td>\n",
       "      <td>NaN</td>\n",
       "      <td>St Louis, MO</td>\n",
       "      <td>1.0</td>\n",
       "    </tr>\n",
       "    <tr>\n",
       "      <th>1</th>\n",
       "      <td>1</td>\n",
       "      <td>Allison, Master. Hudson Trevor</td>\n",
       "      <td>male</td>\n",
       "      <td>0.9167</td>\n",
       "      <td>1</td>\n",
       "      <td>2</td>\n",
       "      <td>113781</td>\n",
       "      <td>151.5500</td>\n",
       "      <td>C22 C26</td>\n",
       "      <td>S</td>\n",
       "      <td>11</td>\n",
       "      <td>NaN</td>\n",
       "      <td>Montreal, PQ / Chesterville, ON</td>\n",
       "      <td>1.0</td>\n",
       "    </tr>\n",
       "    <tr>\n",
       "      <th>2</th>\n",
       "      <td>1</td>\n",
       "      <td>Allison, Miss. Helen Loraine</td>\n",
       "      <td>female</td>\n",
       "      <td>2.0000</td>\n",
       "      <td>1</td>\n",
       "      <td>2</td>\n",
       "      <td>113781</td>\n",
       "      <td>151.5500</td>\n",
       "      <td>C22 C26</td>\n",
       "      <td>S</td>\n",
       "      <td>NaN</td>\n",
       "      <td>NaN</td>\n",
       "      <td>Montreal, PQ / Chesterville, ON</td>\n",
       "      <td>0.0</td>\n",
       "    </tr>\n",
       "    <tr>\n",
       "      <th>3</th>\n",
       "      <td>1</td>\n",
       "      <td>Allison, Mr. Hudson Joshua Creighton</td>\n",
       "      <td>male</td>\n",
       "      <td>30.0000</td>\n",
       "      <td>1</td>\n",
       "      <td>2</td>\n",
       "      <td>113781</td>\n",
       "      <td>151.5500</td>\n",
       "      <td>C22 C26</td>\n",
       "      <td>S</td>\n",
       "      <td>NaN</td>\n",
       "      <td>135.0</td>\n",
       "      <td>Montreal, PQ / Chesterville, ON</td>\n",
       "      <td>0.0</td>\n",
       "    </tr>\n",
       "    <tr>\n",
       "      <th>4</th>\n",
       "      <td>1</td>\n",
       "      <td>Allison, Mrs. Hudson J C (Bessie Waldo Daniels)</td>\n",
       "      <td>female</td>\n",
       "      <td>25.0000</td>\n",
       "      <td>1</td>\n",
       "      <td>2</td>\n",
       "      <td>113781</td>\n",
       "      <td>151.5500</td>\n",
       "      <td>C22 C26</td>\n",
       "      <td>S</td>\n",
       "      <td>NaN</td>\n",
       "      <td>NaN</td>\n",
       "      <td>Montreal, PQ / Chesterville, ON</td>\n",
       "      <td>0.0</td>\n",
       "    </tr>\n",
       "  </tbody>\n",
       "</table>\n",
       "</div>"
      ],
      "text/plain": [
       "   pclass                                             name     sex      age  \\\n",
       "0       1                    Allen, Miss. Elisabeth Walton  female  29.0000   \n",
       "1       1                   Allison, Master. Hudson Trevor    male   0.9167   \n",
       "2       1                     Allison, Miss. Helen Loraine  female   2.0000   \n",
       "3       1             Allison, Mr. Hudson Joshua Creighton    male  30.0000   \n",
       "4       1  Allison, Mrs. Hudson J C (Bessie Waldo Daniels)  female  25.0000   \n",
       "\n",
       "   sibsp  parch  ticket      fare    cabin embarked boat   body  \\\n",
       "0      0      0   24160  211.3375       B5        S    2    NaN   \n",
       "1      1      2  113781  151.5500  C22 C26        S   11    NaN   \n",
       "2      1      2  113781  151.5500  C22 C26        S  NaN    NaN   \n",
       "3      1      2  113781  151.5500  C22 C26        S  NaN  135.0   \n",
       "4      1      2  113781  151.5500  C22 C26        S  NaN    NaN   \n",
       "\n",
       "                         home.dest  survive  \n",
       "0                     St Louis, MO      1.0  \n",
       "1  Montreal, PQ / Chesterville, ON      1.0  \n",
       "2  Montreal, PQ / Chesterville, ON      0.0  \n",
       "3  Montreal, PQ / Chesterville, ON      0.0  \n",
       "4  Montreal, PQ / Chesterville, ON      0.0  "
      ]
     },
     "execution_count": 10,
     "metadata": {},
     "output_type": "execute_result"
    }
   ],
   "source": [
    "X = titanic[\"data\"]\n",
    "y = titanic[\"target\"]\n",
    "X[\"survive\"] = y.astype(float)\n",
    "X.head()"
   ]
  },
  {
   "cell_type": "code",
   "execution_count": 11,
   "id": "e80f60aa",
   "metadata": {},
   "outputs": [
    {
     "name": "stderr",
     "output_type": "stream",
     "text": [
      "C:\\Users\\User\\AppData\\Local\\Temp\\ipykernel_15660\\2169408131.py:2: FutureWarning: The default value of observed=False is deprecated and will change to observed=True in a future version of pandas. Specify observed=False to silence this warning and retain the current behavior\n",
      "  X.pivot_table(values=\"survive\", index=\"sex\", columns=\"pclass\")\n"
     ]
    },
    {
     "data": {
      "text/html": [
       "<div>\n",
       "<style scoped>\n",
       "    .dataframe tbody tr th:only-of-type {\n",
       "        vertical-align: middle;\n",
       "    }\n",
       "\n",
       "    .dataframe tbody tr th {\n",
       "        vertical-align: top;\n",
       "    }\n",
       "\n",
       "    .dataframe thead th {\n",
       "        text-align: right;\n",
       "    }\n",
       "</style>\n",
       "<table border=\"1\" class=\"dataframe\">\n",
       "  <thead>\n",
       "    <tr style=\"text-align: right;\">\n",
       "      <th>pclass</th>\n",
       "      <th>1</th>\n",
       "      <th>2</th>\n",
       "      <th>3</th>\n",
       "    </tr>\n",
       "    <tr>\n",
       "      <th>sex</th>\n",
       "      <th></th>\n",
       "      <th></th>\n",
       "      <th></th>\n",
       "    </tr>\n",
       "  </thead>\n",
       "  <tbody>\n",
       "    <tr>\n",
       "      <th>female</th>\n",
       "      <td>0.965278</td>\n",
       "      <td>0.886792</td>\n",
       "      <td>0.490741</td>\n",
       "    </tr>\n",
       "    <tr>\n",
       "      <th>male</th>\n",
       "      <td>0.340782</td>\n",
       "      <td>0.146199</td>\n",
       "      <td>0.152130</td>\n",
       "    </tr>\n",
       "  </tbody>\n",
       "</table>\n",
       "</div>"
      ],
      "text/plain": [
       "pclass         1         2         3\n",
       "sex                                 \n",
       "female  0.965278  0.886792  0.490741\n",
       "male    0.340782  0.146199  0.152130"
      ]
     },
     "execution_count": 11,
     "metadata": {},
     "output_type": "execute_result"
    }
   ],
   "source": [
    "# pivot by gender and class\n",
    "X.pivot_table(values=\"survive\", index=\"sex\", columns=\"pclass\")"
   ]
  },
  {
   "cell_type": "code",
   "execution_count": 12,
   "id": "a65c4df8",
   "metadata": {},
   "outputs": [
    {
     "name": "stderr",
     "output_type": "stream",
     "text": [
      "C:\\Users\\User\\AppData\\Local\\Temp\\ipykernel_15660\\3269047658.py:3: FutureWarning: The default value of observed=False is deprecated and will change to observed=True in a future version of pandas. Specify observed=False to silence this warning and retain the current behavior\n",
      "  X.pivot_table(values=\"survive\", index=\"sex\", columns=by_age)\n"
     ]
    },
    {
     "data": {
      "text/html": [
       "<div>\n",
       "<style scoped>\n",
       "    .dataframe tbody tr th:only-of-type {\n",
       "        vertical-align: middle;\n",
       "    }\n",
       "\n",
       "    .dataframe tbody tr th {\n",
       "        vertical-align: top;\n",
       "    }\n",
       "\n",
       "    .dataframe thead th {\n",
       "        text-align: right;\n",
       "    }\n",
       "</style>\n",
       "<table border=\"1\" class=\"dataframe\">\n",
       "  <thead>\n",
       "    <tr style=\"text-align: right;\">\n",
       "      <th>age</th>\n",
       "      <th>(0, 18]</th>\n",
       "      <th>(18, 80]</th>\n",
       "    </tr>\n",
       "    <tr>\n",
       "      <th>sex</th>\n",
       "      <th></th>\n",
       "      <th></th>\n",
       "    </tr>\n",
       "  </thead>\n",
       "  <tbody>\n",
       "    <tr>\n",
       "      <th>female</th>\n",
       "      <td>0.684783</td>\n",
       "      <td>0.773649</td>\n",
       "    </tr>\n",
       "    <tr>\n",
       "      <th>male</th>\n",
       "      <td>0.316832</td>\n",
       "      <td>0.184919</td>\n",
       "    </tr>\n",
       "  </tbody>\n",
       "</table>\n",
       "</div>"
      ],
      "text/plain": [
       "age      (0, 18]  (18, 80]\n",
       "sex                       \n",
       "female  0.684783  0.773649\n",
       "male    0.316832  0.184919"
      ]
     },
     "execution_count": 12,
     "metadata": {},
     "output_type": "execute_result"
    }
   ],
   "source": [
    "# cut by age\n",
    "by_age = pd.cut(X[\"age\"], [0, 18, 80])\n",
    "X.pivot_table(values=\"survive\", index=\"sex\", columns=by_age)"
   ]
  },
  {
   "cell_type": "code",
   "execution_count": 13,
   "id": "1b651173",
   "metadata": {},
   "outputs": [
    {
     "name": "stderr",
     "output_type": "stream",
     "text": [
      "C:\\Users\\User\\AppData\\Local\\Temp\\ipykernel_15660\\601541375.py:1: FutureWarning: The default value of observed=False is deprecated and will change to observed=True in a future version of pandas. Specify observed=False to silence this warning and retain the current behavior\n",
      "  X.pivot_table(values=\"survive\", index=[\"sex\", by_age], columns=\"pclass\")\n"
     ]
    },
    {
     "data": {
      "text/html": [
       "<div>\n",
       "<style scoped>\n",
       "    .dataframe tbody tr th:only-of-type {\n",
       "        vertical-align: middle;\n",
       "    }\n",
       "\n",
       "    .dataframe tbody tr th {\n",
       "        vertical-align: top;\n",
       "    }\n",
       "\n",
       "    .dataframe thead th {\n",
       "        text-align: right;\n",
       "    }\n",
       "</style>\n",
       "<table border=\"1\" class=\"dataframe\">\n",
       "  <thead>\n",
       "    <tr style=\"text-align: right;\">\n",
       "      <th></th>\n",
       "      <th>pclass</th>\n",
       "      <th>1</th>\n",
       "      <th>2</th>\n",
       "      <th>3</th>\n",
       "    </tr>\n",
       "    <tr>\n",
       "      <th>sex</th>\n",
       "      <th>age</th>\n",
       "      <th></th>\n",
       "      <th></th>\n",
       "      <th></th>\n",
       "    </tr>\n",
       "  </thead>\n",
       "  <tbody>\n",
       "    <tr>\n",
       "      <th rowspan=\"2\" valign=\"top\">female</th>\n",
       "      <th>(0, 18]</th>\n",
       "      <td>0.923077</td>\n",
       "      <td>0.952381</td>\n",
       "      <td>0.534483</td>\n",
       "    </tr>\n",
       "    <tr>\n",
       "      <th>(18, 80]</th>\n",
       "      <td>0.966667</td>\n",
       "      <td>0.878049</td>\n",
       "      <td>0.436170</td>\n",
       "    </tr>\n",
       "    <tr>\n",
       "      <th rowspan=\"2\" valign=\"top\">male</th>\n",
       "      <th>(0, 18]</th>\n",
       "      <td>0.750000</td>\n",
       "      <td>0.523810</td>\n",
       "      <td>0.208333</td>\n",
       "    </tr>\n",
       "    <tr>\n",
       "      <th>(18, 80]</th>\n",
       "      <td>0.328671</td>\n",
       "      <td>0.087591</td>\n",
       "      <td>0.158845</td>\n",
       "    </tr>\n",
       "  </tbody>\n",
       "</table>\n",
       "</div>"
      ],
      "text/plain": [
       "pclass                  1         2         3\n",
       "sex    age                                   \n",
       "female (0, 18]   0.923077  0.952381  0.534483\n",
       "       (18, 80]  0.966667  0.878049  0.436170\n",
       "male   (0, 18]   0.750000  0.523810  0.208333\n",
       "       (18, 80]  0.328671  0.087591  0.158845"
      ]
     },
     "execution_count": 13,
     "metadata": {},
     "output_type": "execute_result"
    }
   ],
   "source": [
    "X.pivot_table(values=\"survive\", index=[\"sex\", by_age], columns=\"pclass\")"
   ]
  },
  {
   "cell_type": "markdown",
   "id": "a7d6c866",
   "metadata": {},
   "source": [
    "Read [Example: Birthrate Data](https://jakevdp.github.io/PythonDataScienceHandbook/03.09-pivot-tables.html#Example:-Birthrate-Data)"
   ]
  },
  {
   "cell_type": "markdown",
   "id": "cb9a6a27",
   "metadata": {
    "id": "fc73ac3f-7bd1-431c-a293-ce201487a9d7"
   },
   "source": [
    "## [Vectorized String Operations](https://jakevdp.github.io/PythonDataScienceHandbook/03.10-working-with-strings.html)"
   ]
  },
  {
   "cell_type": "markdown",
   "id": "dce02bce",
   "metadata": {},
   "source": [
    "operations to a string"
   ]
  },
  {
   "cell_type": "code",
   "execution_count": 14,
   "id": "6754b51d",
   "metadata": {},
   "outputs": [],
   "source": [
    "s = \"apple\""
   ]
  },
  {
   "cell_type": "code",
   "execution_count": 15,
   "id": "67de2430",
   "metadata": {},
   "outputs": [
    {
     "data": {
      "text/plain": [
       "'APPLE'"
      ]
     },
     "execution_count": 15,
     "metadata": {},
     "output_type": "execute_result"
    }
   ],
   "source": [
    "s.upper()"
   ]
  },
  {
   "cell_type": "code",
   "execution_count": 16,
   "id": "f3777faf",
   "metadata": {},
   "outputs": [
    {
     "data": {
      "text/plain": [
       "'Apple'"
      ]
     },
     "execution_count": 16,
     "metadata": {},
     "output_type": "execute_result"
    }
   ],
   "source": [
    "s.capitalize()"
   ]
  },
  {
   "cell_type": "code",
   "execution_count": 17,
   "id": "75776648",
   "metadata": {},
   "outputs": [
    {
     "data": {
      "text/plain": [
       "True"
      ]
     },
     "execution_count": 17,
     "metadata": {},
     "output_type": "execute_result"
    }
   ],
   "source": [
    "s.startswith(\"app\")"
   ]
  },
  {
   "cell_type": "code",
   "execution_count": 18,
   "id": "6209fbbd",
   "metadata": {},
   "outputs": [
    {
     "data": {
      "text/plain": [
       "'abble'"
      ]
     },
     "execution_count": 18,
     "metadata": {},
     "output_type": "execute_result"
    }
   ],
   "source": [
    "s.replace(\"p\", \"b\")"
   ]
  },
  {
   "cell_type": "markdown",
   "id": "e460a6a5",
   "metadata": {},
   "source": [
    "apply string operations to a Series"
   ]
  },
  {
   "cell_type": "code",
   "execution_count": 19,
   "id": "5fafc270",
   "metadata": {},
   "outputs": [
    {
     "data": {
      "text/plain": [
       "['Peter', 'Paul', 'Mary', 'Guido']"
      ]
     },
     "execution_count": 19,
     "metadata": {},
     "output_type": "execute_result"
    }
   ],
   "source": [
    "# list comprehension 列表表達式\n",
    "# set-builder notation {x**2: x is prime}\n",
    "data = ['peter', 'Paul', 'MARY', 'gUIDO']\n",
    "[name.capitalize() for name in data]"
   ]
  },
  {
   "cell_type": "code",
   "execution_count": 20,
   "id": "b6d95c5b",
   "metadata": {},
   "outputs": [
    {
     "ename": "AttributeError",
     "evalue": "'NoneType' object has no attribute 'capitalize'",
     "output_type": "error",
     "traceback": [
      "\u001b[1;31m---------------------------------------------------------------------------\u001b[0m",
      "\u001b[1;31mAttributeError\u001b[0m                            Traceback (most recent call last)",
      "Cell \u001b[1;32mIn[20], line 4\u001b[0m\n\u001b[0;32m      1\u001b[0m \u001b[38;5;66;03m# slow\u001b[39;00m\n\u001b[0;32m      2\u001b[0m \u001b[38;5;66;03m# trouble from None\u001b[39;00m\n\u001b[0;32m      3\u001b[0m data \u001b[38;5;241m=\u001b[39m [\u001b[38;5;124m'\u001b[39m\u001b[38;5;124mpeter\u001b[39m\u001b[38;5;124m'\u001b[39m, \u001b[38;5;124m'\u001b[39m\u001b[38;5;124mPaul\u001b[39m\u001b[38;5;124m'\u001b[39m, \u001b[38;5;124m'\u001b[39m\u001b[38;5;124mMARY\u001b[39m\u001b[38;5;124m'\u001b[39m, \u001b[38;5;28;01mNone\u001b[39;00m, \u001b[38;5;124m'\u001b[39m\u001b[38;5;124mgUIDO\u001b[39m\u001b[38;5;124m'\u001b[39m]\n\u001b[1;32m----> 4\u001b[0m [\u001b[43mname\u001b[49m\u001b[38;5;241;43m.\u001b[39;49m\u001b[43mcapitalize\u001b[49m() \u001b[38;5;28;01mfor\u001b[39;00m name \u001b[38;5;129;01min\u001b[39;00m data]\n",
      "\u001b[1;31mAttributeError\u001b[0m: 'NoneType' object has no attribute 'capitalize'"
     ]
    }
   ],
   "source": [
    "# slow\n",
    "# trouble from None\n",
    "data = ['peter', 'Paul', 'MARY', None, 'gUIDO']\n",
    "[name.capitalize() for name in data]"
   ]
  },
  {
   "cell_type": "code",
   "execution_count": null,
   "id": "71c1ee1e",
   "metadata": {},
   "outputs": [
    {
     "data": {
      "text/plain": [
       "0    Peter\n",
       "1     Paul\n",
       "2     Mary\n",
       "3     None\n",
       "4    Guido\n",
       "dtype: object"
      ]
     },
     "execution_count": 21,
     "metadata": {},
     "output_type": "execute_result"
    }
   ],
   "source": [
    "# Series string method\n",
    "data = ['peter', 'Paul', 'MARY', None, 'gUIDO']\n",
    "s = pd.Series(data)\n",
    "s.str.capitalize()"
   ]
  },
  {
   "cell_type": "markdown",
   "id": "cda4506b",
   "metadata": {},
   "source": [
    "[List of string methods](https://jakevdp.github.io/PythonDataScienceHandbook/03.10-working-with-strings.html#Methods-similar-to-Python-string-methods)"
   ]
  },
  {
   "cell_type": "code",
   "execution_count": null,
   "id": "d3584e4f",
   "metadata": {},
   "outputs": [
    {
     "name": "stdout",
     "output_type": "stream",
     "text": [
      "0      HW1\n",
      "1      HW2\n",
      "2      HW3\n",
      "3      HW4\n",
      "4      HW5\n",
      "5    Exam1\n",
      "6    Exam2\n",
      "7    Exam3\n",
      "dtype: object\n",
      "0     True\n",
      "1     True\n",
      "2     True\n",
      "3     True\n",
      "4     True\n",
      "5    False\n",
      "6    False\n",
      "7    False\n",
      "dtype: bool\n"
     ]
    }
   ],
   "source": [
    "# find HW by startswith\n",
    "s = pd.Series([\"HW%s\"%i for i in range(1, 6)] + \n",
    "              [\"Exam%s\"%i for i in range(1, 4)])\n",
    "print(s)\n",
    "print(s.str.startswith(\"HW\"))"
   ]
  },
  {
   "cell_type": "code",
   "execution_count": null,
   "id": "632ac520",
   "metadata": {},
   "outputs": [
    {
     "data": {
      "text/plain": [
       "'ppl'"
      ]
     },
     "execution_count": 23,
     "metadata": {},
     "output_type": "execute_result"
    }
   ],
   "source": [
    "stg = \"apple\"\n",
    "stg[1:4]"
   ]
  },
  {
   "cell_type": "code",
   "execution_count": null,
   "id": "5d139896",
   "metadata": {},
   "outputs": [
    {
     "data": {
      "text/plain": [
       "0    1\n",
       "1    2\n",
       "2    3\n",
       "3    4\n",
       "4    5\n",
       "dtype: object"
      ]
     },
     "execution_count": 24,
     "metadata": {},
     "output_type": "execute_result"
    }
   ],
   "source": [
    "# str[...]\n",
    "s[s.str.startswith(\"HW\")].str[-1]"
   ]
  },
  {
   "cell_type": "code",
   "execution_count": null,
   "id": "4370ea6a",
   "metadata": {},
   "outputs": [
    {
     "data": {
      "text/plain": [
       "0    H\n",
       "1    H\n",
       "2    H\n",
       "3    H\n",
       "4    H\n",
       "5    E\n",
       "6    E\n",
       "7    E\n",
       "dtype: object"
      ]
     },
     "execution_count": 25,
     "metadata": {},
     "output_type": "execute_result"
    }
   ],
   "source": [
    "# str.get\n",
    "s.str.get(0)"
   ]
  },
  {
   "cell_type": "markdown",
   "id": "d55965b2",
   "metadata": {},
   "source": [
    "Regular expression  \n",
    "正則表達式"
   ]
  },
  {
   "cell_type": "markdown",
   "id": "8f05fdde",
   "metadata": {},
   "source": [
    "Python `re` module\n",
    "\n",
    "- [doc](https://docs.python.org/3/library/re.html)\n",
    "- `.`: any character\n",
    "- `?`: 0 or 1 times, `*`: 0+ times, `+`: 1+ times, `{m,n}`: from m to n\n",
    "- `[A-Z]`: capital letters; `[0-9]`: numbers"
   ]
  },
  {
   "cell_type": "code",
   "execution_count": null,
   "id": "deef8928",
   "metadata": {},
   "outputs": [],
   "source": [
    "import re"
   ]
  },
  {
   "cell_type": "code",
   "execution_count": null,
   "id": "ed2abc07",
   "metadata": {},
   "outputs": [
    {
     "data": {
      "text/plain": [
       "<re.Match object; span=(0, 10), match='B122040123'>"
      ]
     },
     "execution_count": 27,
     "metadata": {},
     "output_type": "execute_result"
    }
   ],
   "source": [
    "# 左邊的 pattern 有沒有在右邊的字串的 \"開頭\" 就出現\n",
    "re.match(\"[A-Z][0-9]{9}\", \"B122040123\")"
   ]
  },
  {
   "cell_type": "code",
   "execution_count": null,
   "id": "9f233379",
   "metadata": {},
   "outputs": [],
   "source": [
    "re.match(\"s+\", \"\")"
   ]
  },
  {
   "cell_type": "code",
   "execution_count": null,
   "id": "9eda4d12",
   "metadata": {},
   "outputs": [],
   "source": [
    "# HW1 ~ HW 30\n",
    "re.match(\"HW[0-9]{1,2}\", \"HW15\")"
   ]
  },
  {
   "cell_type": "markdown",
   "id": "7af87a1f",
   "metadata": {},
   "source": [
    "- match: 從開頭確認是否符合\n",
    "- search: 搜尋全文 --> 吐出 match object\n",
    "- findall: 搜尋全文 --> 吐出文字"
   ]
  },
  {
   "cell_type": "code",
   "execution_count": null,
   "id": "fd177371",
   "metadata": {},
   "outputs": [],
   "source": [
    "# match, search, findall, replace"
   ]
  },
  {
   "cell_type": "markdown",
   "id": "b28622ea",
   "metadata": {},
   "source": [
    "`re.match` ~ `str.match`"
   ]
  },
  {
   "cell_type": "code",
   "execution_count": null,
   "id": "9bbfe126",
   "metadata": {},
   "outputs": [
    {
     "name": "stdout",
     "output_type": "stream",
     "text": [
      "0      HW1\n",
      "1      HW2\n",
      "2      HW3\n",
      "3      HW4\n",
      "4      HW5\n",
      "5    Exam1\n",
      "6    Exam2\n",
      "7    Exam3\n",
      "dtype: object\n"
     ]
    },
    {
     "data": {
      "text/plain": [
       "0     True\n",
       "1     True\n",
       "2     True\n",
       "3     True\n",
       "4     True\n",
       "5    False\n",
       "6    False\n",
       "7    False\n",
       "dtype: bool"
      ]
     },
     "execution_count": 31,
     "metadata": {},
     "output_type": "execute_result"
    }
   ],
   "source": [
    "s = pd.Series([\"HW%s\"%i for i in range(1, 6)] + \n",
    "              [\"Exam%s\"%i for i in range(1, 4)])\n",
    "print(s)\n",
    "s.str.match(\"HW\")"
   ]
  },
  {
   "cell_type": "markdown",
   "id": "fe274e54",
   "metadata": {},
   "source": [
    "`re.search` ~ `str.contains`"
   ]
  },
  {
   "cell_type": "markdown",
   "id": "161cf38b",
   "metadata": {},
   "source": [
    "[Miscellaneous methods](https://jakevdp.github.io/PythonDataScienceHandbook/03.10-working-with-strings.html#Miscellaneous-methods)"
   ]
  },
  {
   "cell_type": "markdown",
   "id": "2bd8351b",
   "metadata": {},
   "source": [
    "Read [Example: Recipe Database](https://jakevdp.github.io/PythonDataScienceHandbook/03.10-working-with-strings.html#Example:-Recipe-Database)"
   ]
  },
  {
   "cell_type": "markdown",
   "id": "6cf54a47",
   "metadata": {
    "id": "0617c8db-645e-49a5-a410-3e31cca7ac25"
   },
   "source": [
    "## [Working with Time Series](https://jakevdp.github.io/PythonDataScienceHandbook/03.11-working-with-time-series.html)"
   ]
  },
  {
   "cell_type": "markdown",
   "id": "4574fc25",
   "metadata": {},
   "source": [
    "- Time stamp: March 24, 2025\n",
    "- Time interval: from mmdd to mmdd\n",
    "- Time delta: 10 days"
   ]
  },
  {
   "cell_type": "markdown",
   "id": "57e736a5",
   "metadata": {},
   "source": [
    "Python `datetime` module"
   ]
  },
  {
   "cell_type": "code",
   "execution_count": null,
   "id": "215a5ef5",
   "metadata": {},
   "outputs": [
    {
     "data": {
      "text/plain": [
       "datetime.datetime(2015, 7, 4, 0, 0)"
      ]
     },
     "execution_count": 32,
     "metadata": {},
     "output_type": "execute_result"
    }
   ],
   "source": [
    "# object\n",
    "from datetime import datetime\n",
    "datetime(year=2015, month=7, day=4)"
   ]
  },
  {
   "cell_type": "code",
   "execution_count": null,
   "id": "69a9a3c6",
   "metadata": {},
   "outputs": [
    {
     "data": {
      "text/plain": [
       "datetime.datetime(2015, 7, 4, 0, 0)"
      ]
     },
     "execution_count": 33,
     "metadata": {},
     "output_type": "execute_result"
    }
   ],
   "source": [
    "# parse\n",
    "from dateutil import parser\n",
    "date = parser.parse(\"4th of July, 2015\")\n",
    "date"
   ]
  },
  {
   "cell_type": "code",
   "execution_count": null,
   "id": "63ef89f9",
   "metadata": {},
   "outputs": [
    {
     "data": {
      "text/plain": [
       "'Saturday'"
      ]
     },
     "execution_count": 34,
     "metadata": {},
     "output_type": "execute_result"
    }
   ],
   "source": [
    "# output formatting\n",
    "date.strftime('%A')"
   ]
  },
  {
   "cell_type": "markdown",
   "id": "daf31d49",
   "metadata": {},
   "source": [
    "See [datetime documentation](https://docs.python.org/3/library/datetime.html#strftime-and-strptime-behavior)"
   ]
  },
  {
   "cell_type": "markdown",
   "id": "0ff0f9d8",
   "metadata": {},
   "source": [
    "NumPy `datetime64`"
   ]
  },
  {
   "cell_type": "code",
   "execution_count": null,
   "id": "54a88710",
   "metadata": {},
   "outputs": [
    {
     "name": "stdout",
     "output_type": "stream",
     "text": [
      "2025-03-24\n"
     ]
    }
   ],
   "source": [
    "# today (yyyy-mm-dd)\n",
    "d = np.datetime64(datetime.now().strftime(\"%Y-%m-%d\"))\n",
    "print(d)"
   ]
  },
  {
   "cell_type": "code",
   "execution_count": null,
   "id": "7a19ba11",
   "metadata": {},
   "outputs": [
    {
     "data": {
      "text/plain": [
       "array(['2025-03-25', '2025-03-27', '2025-03-29', '2025-03-31',\n",
       "       '2025-04-02'], dtype='datetime64[D]')"
      ]
     },
     "execution_count": 99,
     "metadata": {},
     "output_type": "execute_result"
    }
   ],
   "source": [
    "# datetime broadcasting\n",
    "d + np.arange(1,10,2)"
   ]
  },
  {
   "cell_type": "markdown",
   "id": "70f0832b",
   "metadata": {},
   "source": [
    "pandas"
   ]
  },
  {
   "cell_type": "code",
   "execution_count": null,
   "id": "4f73ade0",
   "metadata": {},
   "outputs": [
    {
     "data": {
      "text/plain": [
       "Timestamp('2025-03-04 00:00:00')"
      ]
     },
     "execution_count": 106,
     "metadata": {},
     "output_type": "execute_result"
    }
   ],
   "source": [
    "# pd.to_date_time ~ parser.parse\n",
    "pd.to_datetime(\"March 4th, 2025\")"
   ]
  },
  {
   "cell_type": "code",
   "execution_count": null,
   "id": "ca27a9f5",
   "metadata": {},
   "outputs": [
    {
     "data": {
      "text/plain": [
       "Timedelta('1 days 00:00:00')"
      ]
     },
     "execution_count": 107,
     "metadata": {},
     "output_type": "execute_result"
    }
   ],
   "source": [
    "# pd.to_timedelta\n",
    "pd.to_timedelta(1,\"D\")"
   ]
  },
  {
   "cell_type": "markdown",
   "id": "ab9e622c",
   "metadata": {},
   "source": [
    "Time as index"
   ]
  },
  {
   "cell_type": "code",
   "execution_count": null,
   "id": "3953a549",
   "metadata": {},
   "outputs": [
    {
     "name": "stdout",
     "output_type": "stream",
     "text": [
      "2025-03-24\n",
      "2025-03-25 00:00:00\n"
     ]
    }
   ],
   "source": [
    "# time stamp + time deltas\n",
    "print(d)\n",
    "print(d + pd.to_timedelta(1,\"D\"))"
   ]
  },
  {
   "cell_type": "code",
   "execution_count": null,
   "id": "79aabde5",
   "metadata": {},
   "outputs": [
    {
     "data": {
      "text/plain": [
       "DatetimeIndex(['2025-02-28', '2025-03-01', '2025-03-02', '2025-03-03',\n",
       "               '2025-03-04', '2025-03-05', '2025-03-06', '2025-03-07'],\n",
       "              dtype='datetime64[ns]', freq='D')"
      ]
     },
     "execution_count": 115,
     "metadata": {},
     "output_type": "execute_result"
    }
   ],
   "source": [
    "# pd.date_range\n",
    "pd.date_range(\"Feb 28, 2025\",\"Mar 7, 2025\")"
   ]
  },
  {
   "cell_type": "code",
   "execution_count": null,
   "id": "ab875070",
   "metadata": {},
   "outputs": [
    {
     "data": {
      "text/plain": [
       "DatetimeIndex(['2025-02-28', '2025-03-01', '2025-03-02', '2025-03-03',\n",
       "               '2025-03-04', '2025-03-05', '2025-03-06', '2025-03-07',\n",
       "               '2025-03-08', '2025-03-09'],\n",
       "              dtype='datetime64[ns]', freq='D')"
      ]
     },
     "execution_count": 116,
     "metadata": {},
     "output_type": "execute_result"
    }
   ],
   "source": [
    "# periods and freq\n",
    "pd.date_range(\"Feb 28, 2025\", periods=10)"
   ]
  },
  {
   "cell_type": "markdown",
   "id": "20fade9a",
   "metadata": {},
   "source": [
    "Financial applications\n",
    "\n",
    "See [pandas-data-reader documentation](https://pandas-datareader.readthedocs.io/en/latest/index.html)"
   ]
  },
  {
   "cell_type": "code",
   "execution_count": null,
   "id": "750dd0cf",
   "metadata": {},
   "outputs": [
    {
     "ename": "ModuleNotFoundError",
     "evalue": "No module named 'pandas_datareader'",
     "output_type": "error",
     "traceback": [
      "\u001b[1;31m---------------------------------------------------------------------------\u001b[0m",
      "\u001b[1;31mModuleNotFoundError\u001b[0m                       Traceback (most recent call last)",
      "Cell \u001b[1;32mIn[111], line 1\u001b[0m\n\u001b[1;32m----> 1\u001b[0m \u001b[38;5;28;01mfrom\u001b[39;00m\u001b[38;5;250m \u001b[39m\u001b[38;5;21;01mpandas_datareader\u001b[39;00m\u001b[38;5;250m \u001b[39m\u001b[38;5;28;01mimport\u001b[39;00m data\n\u001b[0;32m      3\u001b[0m gs10 \u001b[38;5;241m=\u001b[39m data\u001b[38;5;241m.\u001b[39mDataReader(\u001b[38;5;124m'\u001b[39m\u001b[38;5;124mGS10\u001b[39m\u001b[38;5;124m'\u001b[39m, \u001b[38;5;124m'\u001b[39m\u001b[38;5;124mfred\u001b[39m\u001b[38;5;124m'\u001b[39m)\n\u001b[0;32m      4\u001b[0m gs10\u001b[38;5;241m.\u001b[39mhead()\n",
      "\u001b[1;31mModuleNotFoundError\u001b[0m: No module named 'pandas_datareader'"
     ]
    }
   ],
   "source": [
    "from pandas_datareader import data\n",
    "\n",
    "gs10 = data.DataReader('GS10', 'fred')\n",
    "gs10.head()"
   ]
  },
  {
   "cell_type": "markdown",
   "id": "1837b05b",
   "metadata": {},
   "source": [
    "Read [Resampling and converting frequencies](https://jakevdp.github.io/PythonDataScienceHandbook/03.11-working-with-time-series.html#Resampling-and-converting-frequencies)"
   ]
  },
  {
   "cell_type": "markdown",
   "id": "8e3ab360",
   "metadata": {},
   "source": [
    "Read [Example: Visualizing Seattle Bicycle Counts](https://jakevdp.github.io/PythonDataScienceHandbook/03.11-working-with-time-series.html#Example:-Visualizing-Seattle-Bicycle-Counts)"
   ]
  },
  {
   "cell_type": "markdown",
   "id": "bb1c80e6",
   "metadata": {},
   "source": [
    "## [High-Performance Pandas: eval() and query()](https://jakevdp.github.io/PythonDataScienceHandbook/03.12-performance-eval-and-query.html)"
   ]
  },
  {
   "cell_type": "markdown",
   "id": "9d81185b",
   "metadata": {},
   "source": [
    "`numexpr.evaluate`"
   ]
  },
  {
   "cell_type": "code",
   "execution_count": 21,
   "id": "f6ce3617",
   "metadata": {},
   "outputs": [],
   "source": [
    "x = np.random.randn(1000000)\n",
    "y = np.random.randn(1000000)"
   ]
  },
  {
   "cell_type": "code",
   "execution_count": 22,
   "id": "2d4ef390",
   "metadata": {},
   "outputs": [
    {
     "name": "stdout",
     "output_type": "stream",
     "text": [
      "8.6 ms ± 341 μs per loop (mean ± std. dev. of 7 runs, 100 loops each)\n"
     ]
    }
   ],
   "source": [
    "%%timeit\n",
    "(x + 1) + (y - 1)"
   ]
  },
  {
   "cell_type": "code",
   "execution_count": 23,
   "id": "035dba0e",
   "metadata": {},
   "outputs": [
    {
     "ename": "ModuleNotFoundError",
     "evalue": "No module named 'numexpr'",
     "output_type": "error",
     "traceback": [
      "\u001b[1;31m---------------------------------------------------------------------------\u001b[0m",
      "\u001b[1;31mModuleNotFoundError\u001b[0m                       Traceback (most recent call last)",
      "Cell \u001b[1;32mIn[23], line 1\u001b[0m\n\u001b[1;32m----> 1\u001b[0m \u001b[38;5;28;01mimport\u001b[39;00m\u001b[38;5;250m \u001b[39m\u001b[38;5;21;01mnumexpr\u001b[39;00m\u001b[38;5;250m \u001b[39m\u001b[38;5;28;01mas\u001b[39;00m\u001b[38;5;250m \u001b[39m\u001b[38;5;21;01mne\u001b[39;00m\n",
      "\u001b[1;31mModuleNotFoundError\u001b[0m: No module named 'numexpr'"
     ]
    }
   ],
   "source": [
    "import numexpr as ne"
   ]
  },
  {
   "cell_type": "code",
   "execution_count": 45,
   "id": "b4304903",
   "metadata": {},
   "outputs": [
    {
     "ename": "NameError",
     "evalue": "name 'ne' is not defined",
     "output_type": "error",
     "traceback": [
      "\u001b[1;31m---------------------------------------------------------------------------\u001b[0m",
      "\u001b[1;31mNameError\u001b[0m                                 Traceback (most recent call last)",
      "Cell \u001b[1;32mIn[45], line 1\u001b[0m\n\u001b[1;32m----> 1\u001b[0m \u001b[43mget_ipython\u001b[49m\u001b[43m(\u001b[49m\u001b[43m)\u001b[49m\u001b[38;5;241;43m.\u001b[39;49m\u001b[43mrun_cell_magic\u001b[49m\u001b[43m(\u001b[49m\u001b[38;5;124;43m'\u001b[39;49m\u001b[38;5;124;43mtimeit\u001b[39;49m\u001b[38;5;124;43m'\u001b[39;49m\u001b[43m,\u001b[49m\u001b[43m \u001b[49m\u001b[38;5;124;43m'\u001b[39;49m\u001b[38;5;124;43m'\u001b[39;49m\u001b[43m,\u001b[49m\u001b[43m \u001b[49m\u001b[38;5;124;43m'\u001b[39;49m\u001b[38;5;124;43mne.evaluate(\u001b[39;49m\u001b[38;5;124;43m\"\u001b[39;49m\u001b[38;5;124;43m(x + 1) + (y - 1)\u001b[39;49m\u001b[38;5;124;43m\"\u001b[39;49m\u001b[38;5;124;43m)\u001b[39;49m\u001b[38;5;130;43;01m\\n\u001b[39;49;00m\u001b[38;5;124;43m'\u001b[39;49m\u001b[43m)\u001b[49m\n",
      "File \u001b[1;32mc:\\Users\\User\\AppData\\Local\\Programs\\Python\\Python312\\Lib\\site-packages\\IPython\\core\\interactiveshell.py:2543\u001b[0m, in \u001b[0;36mInteractiveShell.run_cell_magic\u001b[1;34m(self, magic_name, line, cell)\u001b[0m\n\u001b[0;32m   2541\u001b[0m \u001b[38;5;28;01mwith\u001b[39;00m \u001b[38;5;28mself\u001b[39m\u001b[38;5;241m.\u001b[39mbuiltin_trap:\n\u001b[0;32m   2542\u001b[0m     args \u001b[38;5;241m=\u001b[39m (magic_arg_s, cell)\n\u001b[1;32m-> 2543\u001b[0m     result \u001b[38;5;241m=\u001b[39m \u001b[43mfn\u001b[49m\u001b[43m(\u001b[49m\u001b[38;5;241;43m*\u001b[39;49m\u001b[43margs\u001b[49m\u001b[43m,\u001b[49m\u001b[43m \u001b[49m\u001b[38;5;241;43m*\u001b[39;49m\u001b[38;5;241;43m*\u001b[39;49m\u001b[43mkwargs\u001b[49m\u001b[43m)\u001b[49m\n\u001b[0;32m   2545\u001b[0m \u001b[38;5;66;03m# The code below prevents the output from being displayed\u001b[39;00m\n\u001b[0;32m   2546\u001b[0m \u001b[38;5;66;03m# when using magics with decorator @output_can_be_silenced\u001b[39;00m\n\u001b[0;32m   2547\u001b[0m \u001b[38;5;66;03m# when the last Python token in the expression is a ';'.\u001b[39;00m\n\u001b[0;32m   2548\u001b[0m \u001b[38;5;28;01mif\u001b[39;00m \u001b[38;5;28mgetattr\u001b[39m(fn, magic\u001b[38;5;241m.\u001b[39mMAGIC_OUTPUT_CAN_BE_SILENCED, \u001b[38;5;28;01mFalse\u001b[39;00m):\n",
      "File \u001b[1;32mc:\\Users\\User\\AppData\\Local\\Programs\\Python\\Python312\\Lib\\site-packages\\IPython\\core\\magics\\execution.py:1209\u001b[0m, in \u001b[0;36mExecutionMagics.timeit\u001b[1;34m(self, line, cell, local_ns)\u001b[0m\n\u001b[0;32m   1207\u001b[0m \u001b[38;5;28;01mfor\u001b[39;00m index \u001b[38;5;129;01min\u001b[39;00m \u001b[38;5;28mrange\u001b[39m(\u001b[38;5;241m0\u001b[39m, \u001b[38;5;241m10\u001b[39m):\n\u001b[0;32m   1208\u001b[0m     number \u001b[38;5;241m=\u001b[39m \u001b[38;5;241m10\u001b[39m \u001b[38;5;241m*\u001b[39m\u001b[38;5;241m*\u001b[39m index\n\u001b[1;32m-> 1209\u001b[0m     time_number \u001b[38;5;241m=\u001b[39m \u001b[43mtimer\u001b[49m\u001b[38;5;241;43m.\u001b[39;49m\u001b[43mtimeit\u001b[49m\u001b[43m(\u001b[49m\u001b[43mnumber\u001b[49m\u001b[43m)\u001b[49m\n\u001b[0;32m   1210\u001b[0m     \u001b[38;5;28;01mif\u001b[39;00m time_number \u001b[38;5;241m>\u001b[39m\u001b[38;5;241m=\u001b[39m \u001b[38;5;241m0.2\u001b[39m:\n\u001b[0;32m   1211\u001b[0m         \u001b[38;5;28;01mbreak\u001b[39;00m\n",
      "File \u001b[1;32mc:\\Users\\User\\AppData\\Local\\Programs\\Python\\Python312\\Lib\\site-packages\\IPython\\core\\magics\\execution.py:173\u001b[0m, in \u001b[0;36mTimer.timeit\u001b[1;34m(self, number)\u001b[0m\n\u001b[0;32m    171\u001b[0m gc\u001b[38;5;241m.\u001b[39mdisable()\n\u001b[0;32m    172\u001b[0m \u001b[38;5;28;01mtry\u001b[39;00m:\n\u001b[1;32m--> 173\u001b[0m     timing \u001b[38;5;241m=\u001b[39m \u001b[38;5;28;43mself\u001b[39;49m\u001b[38;5;241;43m.\u001b[39;49m\u001b[43minner\u001b[49m\u001b[43m(\u001b[49m\u001b[43mit\u001b[49m\u001b[43m,\u001b[49m\u001b[43m \u001b[49m\u001b[38;5;28;43mself\u001b[39;49m\u001b[38;5;241;43m.\u001b[39;49m\u001b[43mtimer\u001b[49m\u001b[43m)\u001b[49m\n\u001b[0;32m    174\u001b[0m \u001b[38;5;28;01mfinally\u001b[39;00m:\n\u001b[0;32m    175\u001b[0m     \u001b[38;5;28;01mif\u001b[39;00m gcold:\n",
      "File \u001b[1;32m<magic-timeit>:1\u001b[0m, in \u001b[0;36minner\u001b[1;34m(_it, _timer)\u001b[0m\n",
      "\u001b[1;31mNameError\u001b[0m: name 'ne' is not defined"
     ]
    }
   ],
   "source": [
    "%%timeit\n",
    "ne.evaluate(\"(x + 1) + (y - 1)\")"
   ]
  },
  {
   "cell_type": "markdown",
   "id": "5a901c29",
   "metadata": {},
   "source": [
    "`df.eval`"
   ]
  },
  {
   "cell_type": "code",
   "execution_count": 46,
   "id": "2248bb14",
   "metadata": {},
   "outputs": [],
   "source": [
    "df = pd.DataFrame({\n",
    "    \"x\": x,\n",
    "    \"y\": y\n",
    "})"
   ]
  },
  {
   "cell_type": "code",
   "execution_count": 47,
   "id": "24854b28",
   "metadata": {},
   "outputs": [
    {
     "data": {
      "text/plain": [
       "0        -1.114487\n",
       "1        -0.674886\n",
       "2         3.679832\n",
       "3         0.556736\n",
       "4         0.335393\n",
       "            ...   \n",
       "999995   -2.350472\n",
       "999996    2.138557\n",
       "999997   -1.495005\n",
       "999998   -1.165048\n",
       "999999   -1.784983\n",
       "Length: 1000000, dtype: float64"
      ]
     },
     "execution_count": 47,
     "metadata": {},
     "output_type": "execute_result"
    }
   ],
   "source": [
    "df.eval(\"(x + 1) + (y - 1)\")"
   ]
  },
  {
   "cell_type": "markdown",
   "id": "ac2f30c7",
   "metadata": {},
   "source": [
    "`df.query`"
   ]
  },
  {
   "cell_type": "code",
   "execution_count": 48,
   "id": "4c39e998",
   "metadata": {},
   "outputs": [
    {
     "data": {
      "text/html": [
       "<div>\n",
       "<style scoped>\n",
       "    .dataframe tbody tr th:only-of-type {\n",
       "        vertical-align: middle;\n",
       "    }\n",
       "\n",
       "    .dataframe tbody tr th {\n",
       "        vertical-align: top;\n",
       "    }\n",
       "\n",
       "    .dataframe thead th {\n",
       "        text-align: right;\n",
       "    }\n",
       "</style>\n",
       "<table border=\"1\" class=\"dataframe\">\n",
       "  <thead>\n",
       "    <tr style=\"text-align: right;\">\n",
       "      <th></th>\n",
       "      <th>x</th>\n",
       "      <th>y</th>\n",
       "    </tr>\n",
       "  </thead>\n",
       "  <tbody>\n",
       "    <tr>\n",
       "      <th>1</th>\n",
       "      <td>0.732898</td>\n",
       "      <td>-1.407784</td>\n",
       "    </tr>\n",
       "    <tr>\n",
       "      <th>6</th>\n",
       "      <td>1.075419</td>\n",
       "      <td>-0.747194</td>\n",
       "    </tr>\n",
       "    <tr>\n",
       "      <th>8</th>\n",
       "      <td>0.969169</td>\n",
       "      <td>0.482109</td>\n",
       "    </tr>\n",
       "    <tr>\n",
       "      <th>13</th>\n",
       "      <td>1.619156</td>\n",
       "      <td>-0.921817</td>\n",
       "    </tr>\n",
       "    <tr>\n",
       "      <th>18</th>\n",
       "      <td>0.924048</td>\n",
       "      <td>0.251489</td>\n",
       "    </tr>\n",
       "    <tr>\n",
       "      <th>...</th>\n",
       "      <td>...</td>\n",
       "      <td>...</td>\n",
       "    </tr>\n",
       "    <tr>\n",
       "      <th>999979</th>\n",
       "      <td>0.941915</td>\n",
       "      <td>-1.606676</td>\n",
       "    </tr>\n",
       "    <tr>\n",
       "      <th>999984</th>\n",
       "      <td>1.188906</td>\n",
       "      <td>-0.664243</td>\n",
       "    </tr>\n",
       "    <tr>\n",
       "      <th>999986</th>\n",
       "      <td>2.118382</td>\n",
       "      <td>0.344125</td>\n",
       "    </tr>\n",
       "    <tr>\n",
       "      <th>999992</th>\n",
       "      <td>1.063390</td>\n",
       "      <td>0.425321</td>\n",
       "    </tr>\n",
       "    <tr>\n",
       "      <th>999993</th>\n",
       "      <td>1.023717</td>\n",
       "      <td>-0.000227</td>\n",
       "    </tr>\n",
       "  </tbody>\n",
       "</table>\n",
       "<p>213009 rows × 2 columns</p>\n",
       "</div>"
      ],
      "text/plain": [
       "               x         y\n",
       "1       0.732898 -1.407784\n",
       "6       1.075419 -0.747194\n",
       "8       0.969169  0.482109\n",
       "13      1.619156 -0.921817\n",
       "18      0.924048  0.251489\n",
       "...          ...       ...\n",
       "999979  0.941915 -1.606676\n",
       "999984  1.188906 -0.664243\n",
       "999986  2.118382  0.344125\n",
       "999992  1.063390  0.425321\n",
       "999993  1.023717 -0.000227\n",
       "\n",
       "[213009 rows x 2 columns]"
      ]
     },
     "execution_count": 48,
     "metadata": {},
     "output_type": "execute_result"
    }
   ],
   "source": [
    "df.query(\"x > 0.5 and y < 0.5\")"
   ]
  },
  {
   "cell_type": "markdown",
   "id": "cb60d873",
   "metadata": {},
   "source": [
    "## [Further Resources](https://jakevdp.github.io/PythonDataScienceHandbook/03.13-further-resources.html)"
   ]
  },
  {
   "cell_type": "markdown",
   "id": "e8e662af",
   "metadata": {
    "id": "fc47fd3e-6e35-4dcb-9b18-07a124530c15"
   },
   "source": [
    "## Homework"
   ]
  },
  {
   "cell_type": "markdown",
   "id": "cf8e03bd",
   "metadata": {
    "id": "6d3e1e09-00ff-4f01-9954-02bb0038b368"
   },
   "source": [
    "- Type your answers here and submit your answer in `*.ipynb` format.\n",
    "- You may use code cell and Markdown cell."
   ]
  },
  {
   "cell_type": "code",
   "execution_count": 49,
   "id": "ee56d01b",
   "metadata": {
    "id": "00acf24a-ca42-436e-947d-abc846b9a6c7"
   },
   "outputs": [
    {
     "name": "stdout",
     "output_type": "stream",
     "text": [
      "My name is 李瑋宸 and my student ID is B123245008.\n"
     ]
    }
   ],
   "source": [
    "NAME = \"李瑋宸\" # change to your name\n",
    "STD_ID = \"B123245008\" # change to your student ID\n",
    "print(\"My name is %s and my student ID is %s.\"%(NAME, STD_ID))"
   ]
  },
  {
   "cell_type": "markdown",
   "id": "acc14879",
   "metadata": {},
   "source": [
    "### Exercise 1: Creating a Pivot Table\n",
    "Given the following DataFrame:\n",
    "\n",
    "```python\n",
    "import pandas as pd\n",
    "\n",
    "data = {\n",
    "    'Department': ['HR', 'HR', 'IT', 'IT', 'Finance', 'Finance'],\n",
    "    'Employee': ['Alice', 'Bob', 'Charlie', 'David', 'Eve', 'Frank'],\n",
    "    'Month': ['Jan', 'Jan', 'Feb', 'Feb', 'Jan', 'Feb'],\n",
    "    'Salary': [5000, 5500, 6000, 6500, 7000, 7200]\n",
    "}\n",
    "df = pd.DataFrame(data)\n",
    "```\n",
    "\n",
    "Create a pivot table showing average salary by `Department` and `Month`."
   ]
  },
  {
   "cell_type": "code",
   "execution_count": 50,
   "id": "153cd431",
   "metadata": {},
   "outputs": [
    {
     "name": "stdout",
     "output_type": "stream",
     "text": [
      "Month          Feb     Jan\n",
      "Department                \n",
      "Finance     7200.0  7000.0\n",
      "HR             NaN  5250.0\n",
      "IT          6250.0     NaN\n"
     ]
    }
   ],
   "source": [
    "import pandas as pd\n",
    "\n",
    "data = {\n",
    "    'Department': ['HR', 'HR', 'IT', 'IT', 'Finance', 'Finance'],\n",
    "    'Employee': ['Alice', 'Bob', 'Charlie', 'David', 'Eve', 'Frank'],\n",
    "    'Month': ['Jan', 'Jan', 'Feb', 'Feb', 'Jan', 'Feb'],\n",
    "    'Salary': [5000, 5500, 6000, 6500, 7000, 7200]\n",
    "}\n",
    "df = pd.DataFrame(data)\n",
    "print(df.pivot_table(values=\"Salary\",index=\"Department\",columns=\"Month\"))\n"
   ]
  },
  {
   "cell_type": "markdown",
   "id": "bbdb645f",
   "metadata": {},
   "source": [
    "### Exercise 2: Pivot Table Aggregations\n",
    "Modify the pivot table to display both `mean` and `max` salary values using the `aggfunc` parameter."
   ]
  },
  {
   "cell_type": "code",
   "execution_count": 51,
   "id": "9e6dabd9",
   "metadata": {},
   "outputs": [
    {
     "name": "stdout",
     "output_type": "stream",
     "text": [
      "              mean             max        \n",
      "Month          Feb     Jan     Feb     Jan\n",
      "Department                                \n",
      "Finance     7200.0  7000.0  7200.0  7000.0\n",
      "HR             NaN  5250.0     NaN  5500.0\n",
      "IT          6250.0     NaN  6500.0     NaN\n"
     ]
    }
   ],
   "source": [
    "print(df.pivot_table(values=\"Salary\",index=\"Department\",columns=\"Month\",aggfunc=[\"mean\",\"max\"]))"
   ]
  },
  {
   "cell_type": "markdown",
   "id": "e9978d3c",
   "metadata": {},
   "source": [
    "### Exercise 3: String Methods\n",
    "Create a Series of names:\n",
    "\n",
    "```python\n",
    "names = pd.Series(['alice', 'BOB', 'Charlie', 'david'])\n",
    "```\n",
    "\n",
    "Convert all names to title case (first letter uppercase, rest lowercase)."
   ]
  },
  {
   "cell_type": "code",
   "execution_count": 52,
   "id": "81e3ecb7",
   "metadata": {},
   "outputs": [
    {
     "data": {
      "text/plain": [
       "0      Alice\n",
       "1        Bob\n",
       "2    Charlie\n",
       "3      David\n",
       "dtype: object"
      ]
     },
     "execution_count": 52,
     "metadata": {},
     "output_type": "execute_result"
    }
   ],
   "source": [
    "names = pd.Series(['alice', 'BOB', 'Charlie', 'david'])\n",
    "names.str.title()"
   ]
  },
  {
   "cell_type": "markdown",
   "id": "f036dca8",
   "metadata": {},
   "source": [
    "### Exercise 4: String Filtering\n",
    "Using the same `names` Series, filter the names that start with the letter `C` (case-insensitive)."
   ]
  },
  {
   "cell_type": "code",
   "execution_count": 53,
   "id": "1d10c667",
   "metadata": {},
   "outputs": [
    {
     "data": {
      "text/plain": [
       "2    Charlie\n",
       "dtype: object"
      ]
     },
     "execution_count": 53,
     "metadata": {},
     "output_type": "execute_result"
    }
   ],
   "source": [
    "names[names.str.startswith(\"C\")]"
   ]
  },
  {
   "cell_type": "markdown",
   "id": "7bf9394c",
   "metadata": {},
   "source": [
    "### Exercise 5: Extracting and Replacing Strings\n",
    "Given the following Series:\n",
    "\n",
    "```python\n",
    "emails = pd.Series(['alice@example.com', 'bob@gmail.com', 'charlie@yahoo.com'])\n",
    "```\n",
    "\n",
    "Extract the domain name from each email and replace `yahoo.com` with `outlook.com`."
   ]
  },
  {
   "cell_type": "code",
   "execution_count": 54,
   "id": "2c35c824",
   "metadata": {},
   "outputs": [
    {
     "data": {
      "text/plain": [
       "0      alice@example.com\n",
       "1          bob@gmail.com\n",
       "2    charlie@outlook.com\n",
       "dtype: object"
      ]
     },
     "execution_count": 54,
     "metadata": {},
     "output_type": "execute_result"
    }
   ],
   "source": [
    "emails = pd.Series(['alice@example.com', 'bob@gmail.com', 'charlie@yahoo.com'])\n",
    "emails.str.replace(\"yahoo.com\",\"outlook.com\")"
   ]
  },
  {
   "cell_type": "markdown",
   "id": "37fdfb69",
   "metadata": {},
   "source": [
    "### Exercise 6: Creating Time Series\n",
    "Create a date range starting from `2023-01-01` with 10 daily periods. Generate a Series of random integers indexed by this date range."
   ]
  },
  {
   "cell_type": "code",
   "execution_count": 55,
   "id": "1a21d339",
   "metadata": {},
   "outputs": [
    {
     "name": "stdout",
     "output_type": "stream",
     "text": [
      "['2023-01-01' '2023-01-02' '2023-01-03' '2023-01-04' '2023-01-05'\n",
      " '2023-01-06' '2023-01-07' '2023-01-08' '2023-01-09' '2023-01-10'] \n",
      "\n",
      "DatetimeIndex(['2023-01-01', '2023-01-02', '2023-01-03', '2023-01-04',\n",
      "               '2023-01-05', '2023-01-06', '2023-01-07', '2023-01-08',\n",
      "               '2023-01-09', '2023-01-10'],\n",
      "              dtype='datetime64[ns]', freq='D') \n",
      "\n",
      "            Num\n",
      "2023-01-01   98\n",
      "2023-01-02   11\n",
      "2023-01-03   45\n",
      "2023-01-04    0\n",
      "2023-01-05   97\n",
      "2023-01-06   17\n",
      "2023-01-07   55\n",
      "2023-01-08   36\n",
      "2023-01-09   81\n",
      "2023-01-10   47 \n",
      "\n",
      "2023-01-01    98\n",
      "2023-01-02    11\n",
      "2023-01-03    45\n",
      "2023-01-04     0\n",
      "2023-01-05    97\n",
      "2023-01-06    17\n",
      "2023-01-07    55\n",
      "2023-01-08    36\n",
      "2023-01-09    81\n",
      "2023-01-10    47\n",
      "Freq: D, dtype: int32\n"
     ]
    }
   ],
   "source": [
    "import numpy as np\n",
    "d = np.datetime64(\"2023-01-01\")\n",
    "print(d + np.arange(10),\"\\n\")\n",
    "date_arr = d + np.arange(10)\n",
    "date_arr2 = pd.date_range(d,periods=10)\n",
    "print(date_arr2,\"\\n\")\n",
    "\n",
    "arr = np.random.randint(0,101,10)\n",
    "\n",
    "df = pd.DataFrame(data=arr,index=date_arr,columns=[\"Num\"])\n",
    "print(df,\"\\n\")\n",
    "\n",
    "s = pd.Series(arr,index = date_arr2)\n",
    "print(s)"
   ]
  },
  {
   "cell_type": "markdown",
   "id": "074b14ab",
   "metadata": {},
   "source": [
    "### Exercise 7: Resampling Time Series\n",
    "Resample the time series from Exercise 6 to compute weekly sums."
   ]
  },
  {
   "cell_type": "code",
   "execution_count": 56,
   "id": "92573297",
   "metadata": {},
   "outputs": [
    {
     "name": "stdout",
     "output_type": "stream",
     "text": [
      "2023-01-01     98\n",
      "2023-01-08    261\n",
      "2023-01-15    128\n",
      "Freq: W-SUN, dtype: int32\n"
     ]
    },
    {
     "name": "stderr",
     "output_type": "stream",
     "text": [
      "C:\\Users\\User\\AppData\\Local\\Temp\\ipykernel_15660\\1479436773.py:1: FutureWarning: 'w' is deprecated and will be removed in a future version, please use 'W' instead.\n",
      "  weekly_resemple = s.resample('w').sum()\n"
     ]
    }
   ],
   "source": [
    "weekly_resemple = s.resample('w').sum()\n",
    "print(weekly_resemple)"
   ]
  },
  {
   "cell_type": "markdown",
   "id": "32eb89ae",
   "metadata": {},
   "source": [
    "### Exercise 8: Time-Based Filtering\n",
    "Using the time series from Exercise 6, select all data from the first 5 days."
   ]
  },
  {
   "cell_type": "code",
   "execution_count": 57,
   "id": "2e22588a",
   "metadata": {},
   "outputs": [
    {
     "name": "stdout",
     "output_type": "stream",
     "text": [
      "            Num\n",
      "2023-01-01   98\n",
      "2023-01-02   11\n",
      "2023-01-03   45\n",
      "2023-01-04    0\n",
      "2023-01-05   97\n"
     ]
    }
   ],
   "source": [
    "print(df[0:5])"
   ]
  },
  {
   "cell_type": "markdown",
   "id": "5463cd3b",
   "metadata": {},
   "source": [
    "### Exercise 9: Using eval()\n",
    "Given the following DataFrame:\n",
    "\n",
    "```python\n",
    "df = pd.DataFrame({'a': [1, 2, 3], 'b': [4, 5, 6], 'c': [7, 8, 9]})\n",
    "```\n",
    "\n",
    "Use `eval()` to compute a new column `'d'` that is the sum of `'a'` and `'b'`, divided by `'c'`."
   ]
  },
  {
   "cell_type": "code",
   "execution_count": 58,
   "id": "e198f9e6",
   "metadata": {},
   "outputs": [
    {
     "data": {
      "text/html": [
       "<div>\n",
       "<style scoped>\n",
       "    .dataframe tbody tr th:only-of-type {\n",
       "        vertical-align: middle;\n",
       "    }\n",
       "\n",
       "    .dataframe tbody tr th {\n",
       "        vertical-align: top;\n",
       "    }\n",
       "\n",
       "    .dataframe thead th {\n",
       "        text-align: right;\n",
       "    }\n",
       "</style>\n",
       "<table border=\"1\" class=\"dataframe\">\n",
       "  <thead>\n",
       "    <tr style=\"text-align: right;\">\n",
       "      <th></th>\n",
       "      <th>a</th>\n",
       "      <th>b</th>\n",
       "      <th>c</th>\n",
       "      <th>d</th>\n",
       "    </tr>\n",
       "  </thead>\n",
       "  <tbody>\n",
       "    <tr>\n",
       "      <th>0</th>\n",
       "      <td>1</td>\n",
       "      <td>4</td>\n",
       "      <td>7</td>\n",
       "      <td>0.714286</td>\n",
       "    </tr>\n",
       "    <tr>\n",
       "      <th>1</th>\n",
       "      <td>2</td>\n",
       "      <td>5</td>\n",
       "      <td>8</td>\n",
       "      <td>0.875000</td>\n",
       "    </tr>\n",
       "    <tr>\n",
       "      <th>2</th>\n",
       "      <td>3</td>\n",
       "      <td>6</td>\n",
       "      <td>9</td>\n",
       "      <td>1.000000</td>\n",
       "    </tr>\n",
       "  </tbody>\n",
       "</table>\n",
       "</div>"
      ],
      "text/plain": [
       "   a  b  c         d\n",
       "0  1  4  7  0.714286\n",
       "1  2  5  8  0.875000\n",
       "2  3  6  9  1.000000"
      ]
     },
     "execution_count": 58,
     "metadata": {},
     "output_type": "execute_result"
    }
   ],
   "source": [
    "df = pd.DataFrame({'a': [1, 2, 3], 'b': [4, 5, 6], 'c': [7, 8, 9]})\n",
    "df['d']=df.eval(\"(a+b)/c\")\n",
    "df"
   ]
  },
  {
   "cell_type": "markdown",
   "id": "cce58be0",
   "metadata": {},
   "source": [
    "### Exercise 10: Using query()\n",
    "Using the same DataFrame, use `query()` to filter rows where column `b` is greater than 4 and column `c` is less than 9."
   ]
  },
  {
   "cell_type": "code",
   "execution_count": 59,
   "id": "265557ac",
   "metadata": {},
   "outputs": [
    {
     "name": "stdout",
     "output_type": "stream",
     "text": [
      "   a  b  c         d\n",
      "0  1  4  7  0.714286\n",
      "1  2  5  8  0.875000\n",
      "2  3  6  9  1.000000\n"
     ]
    },
    {
     "data": {
      "text/html": [
       "<div>\n",
       "<style scoped>\n",
       "    .dataframe tbody tr th:only-of-type {\n",
       "        vertical-align: middle;\n",
       "    }\n",
       "\n",
       "    .dataframe tbody tr th {\n",
       "        vertical-align: top;\n",
       "    }\n",
       "\n",
       "    .dataframe thead th {\n",
       "        text-align: right;\n",
       "    }\n",
       "</style>\n",
       "<table border=\"1\" class=\"dataframe\">\n",
       "  <thead>\n",
       "    <tr style=\"text-align: right;\">\n",
       "      <th></th>\n",
       "      <th>a</th>\n",
       "      <th>b</th>\n",
       "      <th>c</th>\n",
       "      <th>d</th>\n",
       "    </tr>\n",
       "  </thead>\n",
       "  <tbody>\n",
       "    <tr>\n",
       "      <th>1</th>\n",
       "      <td>2</td>\n",
       "      <td>5</td>\n",
       "      <td>8</td>\n",
       "      <td>0.875</td>\n",
       "    </tr>\n",
       "  </tbody>\n",
       "</table>\n",
       "</div>"
      ],
      "text/plain": [
       "   a  b  c      d\n",
       "1  2  5  8  0.875"
      ]
     },
     "execution_count": 59,
     "metadata": {},
     "output_type": "execute_result"
    }
   ],
   "source": [
    "print(df)\n",
    "df.query(\" (b > 4) and (c < 9) \")"
   ]
  }
 ],
 "metadata": {
  "colab": {
   "provenance": []
  },
  "kernelspec": {
   "display_name": "Python 3",
   "language": "python",
   "name": "python3"
  },
  "language_info": {
   "codemirror_mode": {
    "name": "ipython",
    "version": 3
   },
   "file_extension": ".py",
   "mimetype": "text/x-python",
   "name": "python",
   "nbconvert_exporter": "python",
   "pygments_lexer": "ipython3",
   "version": "3.12.4"
  }
 },
 "nbformat": 4,
 "nbformat_minor": 5
}

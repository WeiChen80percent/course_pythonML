{
 "cells": [
  {
   "cell_type": "markdown",
   "metadata": {
    "id": "f8af11c0-2e3b-4f3f-a793-ef2397e553d1"
   },
   "source": [
    "# 0303"
   ]
  },
  {
   "cell_type": "markdown",
   "metadata": {
    "id": "8e61f13c-1d70-401d-a47a-ae7dc19b0f1d"
   },
   "source": [
    "Related links\n",
    "\n",
    "- [Course website](https://www-math.nsysu.edu.tw/~chlin/2025SMath599/2025SMath599.html)\n",
    "- [Python Data Science Handbook](https://jakevdp.github.io/PythonDataScienceHandbook/)"
   ]
  },
  {
   "cell_type": "markdown",
   "metadata": {
    "id": "4d5d6026-3e43-4bed-af23-d0f66efb5e95"
   },
   "source": [
    "Read Chapter 1 when you read this book second time."
   ]
  },
  {
   "cell_type": "code",
   "execution_count": 1,
   "metadata": {},
   "outputs": [],
   "source": [
    "import numpy as np"
   ]
  },
  {
   "cell_type": "code",
   "execution_count": 2,
   "metadata": {},
   "outputs": [],
   "source": [
    "### load nsysu\n",
    "\n",
    "import os\n",
    "import urllib\n",
    "import numpy as np\n",
    "\n",
    "base = r\"https://github.com/SageLabTW/auto-grading/raw/master/nsysu-digits/\"\n",
    "for c in ['X', 'y']:\n",
    "    filename = \"nsysu-digits-%s.csv\"%c\n",
    "    if filename not in os.listdir('.'):\n",
    "        print(filename, 'not found --- will download')\n",
    "        urllib.request.urlretrieve(base + c + \".csv\", filename)\n",
    "\n",
    "Xsys = np.genfromtxt('nsysu-digits-X.csv', dtype=int, delimiter=',') ### flattened already\n",
    "ysys = np.genfromtxt('nsysu-digits-y.csv', dtype=int, delimiter=',')"
   ]
  },
  {
   "cell_type": "code",
   "execution_count": 3,
   "metadata": {},
   "outputs": [],
   "source": [
    "# load MNIST (long)\n",
    "\n",
    "from sklearn.datasets import fetch_openml\n",
    "mnist = fetch_openml('mnist_784')"
   ]
  },
  {
   "cell_type": "markdown",
   "metadata": {
    "id": "d2c67e6b-83ff-4be9-bcf3-adc761f8a2a5"
   },
   "source": [
    "## [Fancy Indexing](https://jakevdp.github.io/PythonDataScienceHandbook/02.07-fancy-indexing.html)"
   ]
  },
  {
   "cell_type": "markdown",
   "metadata": {},
   "source": [
    "1D fancy indexing"
   ]
  },
  {
   "cell_type": "code",
   "execution_count": 4,
   "metadata": {},
   "outputs": [
    {
     "name": "stdout",
     "output_type": "stream",
     "text": [
      "[1 1 5 5 4 1 1 1 2 3]\n"
     ]
    }
   ],
   "source": [
    "arr = np.random.randint(1,6,10)\n",
    "print(arr)"
   ]
  },
  {
   "cell_type": "code",
   "execution_count": 5,
   "metadata": {},
   "outputs": [
    {
     "data": {
      "text/plain": [
       "array([5, 4, 5], dtype=int32)"
      ]
     },
     "execution_count": 5,
     "metadata": {},
     "output_type": "execute_result"
    }
   ],
   "source": [
    "arr[[2,4,3]]"
   ]
  },
  {
   "cell_type": "markdown",
   "metadata": {},
   "source": [
    "2D fancy indexing"
   ]
  },
  {
   "cell_type": "code",
   "execution_count": 6,
   "metadata": {},
   "outputs": [
    {
     "name": "stdout",
     "output_type": "stream",
     "text": [
      "[[5 1 5 2]\n",
      " [1 2 4 5]\n",
      " [2 1 2 5]]\n"
     ]
    }
   ],
   "source": [
    "arr = np.random.randint(1,6,12).reshape(3,4)\n",
    "print(arr)"
   ]
  },
  {
   "cell_type": "code",
   "execution_count": 7,
   "metadata": {},
   "outputs": [
    {
     "data": {
      "text/plain": [
       "array([5, 2, 2], dtype=int32)"
      ]
     },
     "execution_count": 7,
     "metadata": {},
     "output_type": "execute_result"
    }
   ],
   "source": [
    "# (0,2), (1,1), (2,0)\n",
    "arr[[0,1,2], [2,1,0]]"
   ]
  },
  {
   "cell_type": "markdown",
   "metadata": {},
   "source": [
    "Treat , as a operator\n",
    "```\n",
    "[0,1,2] + [2,1,0] --> [0+2, 1+1, 2+0]\n",
    "[0,1,2] , [2,1,0] --> [(0,2), (1,1), (2,0)]\n",
    "```"
   ]
  },
  {
   "cell_type": "markdown",
   "metadata": {},
   "source": [
    "combination with selection, slicing, mask"
   ]
  },
  {
   "cell_type": "code",
   "execution_count": 8,
   "metadata": {},
   "outputs": [
    {
     "name": "stdout",
     "output_type": "stream",
     "text": [
      "[5 1 5]\n",
      "[[5 1 5]\n",
      " [4 2 1]]\n",
      "[4 2 1]\n"
     ]
    }
   ],
   "source": [
    "print(arr[0,[2,1,0]])\n",
    "print(arr[0:2,[2,1,0]])\n",
    "print(arr[[False, True, False], [2,1,0]])"
   ]
  },
  {
   "cell_type": "markdown",
   "metadata": {},
   "source": [
    "take diagonal entries"
   ]
  },
  {
   "cell_type": "code",
   "execution_count": 9,
   "metadata": {},
   "outputs": [
    {
     "data": {
      "text/plain": [
       "array([[2, 1, 0],\n",
       "       [1, 3, 1],\n",
       "       [0, 1, 4]])"
      ]
     },
     "execution_count": 9,
     "metadata": {},
     "output_type": "execute_result"
    }
   ],
   "source": [
    "A = np.array([\n",
    "    [2,1,0],\n",
    "    [1,3,1],\n",
    "    [0,1,4]\n",
    "])\n",
    "A"
   ]
  },
  {
   "cell_type": "code",
   "execution_count": 10,
   "metadata": {},
   "outputs": [
    {
     "data": {
      "text/plain": [
       "array([[100,   1,   0],\n",
       "       [  1, 100,   1],\n",
       "       [  0,   1, 100]])"
      ]
     },
     "execution_count": 10,
     "metadata": {},
     "output_type": "execute_result"
    }
   ],
   "source": [
    "# np.diag(A) = 100 --> not work\n",
    "A[np.arange(3), np.arange(3)] = 100\n",
    "A"
   ]
  },
  {
   "cell_type": "markdown",
   "metadata": {},
   "source": [
    "Q:  \n",
    "Let $A$ be a matrix with row sums $d_1, \\ldots, d_n$.  \n",
    "The corresponding Laplacian matrix has diagonal entries $d_1, \\ldots, d_n$ and off-diagonal entries same as $-A$.  \n",
    "For example,  \n",
    "\n",
    "$$\n",
    "    A = \\begin{bmatrix}\n",
    "    0 & 1 & 0 \\\\\n",
    "    1 & 0 & 1 \\\\\n",
    "    0 & 1 & 0\n",
    "    \\end{bmatrix}\n",
    "    \\text{ and }\n",
    "    L = \\begin{bmatrix}\n",
    "    1 & -1 & 0 \\\\\n",
    "    -1 & 2 & -1 \\\\\n",
    "    0 & -1 & 1\n",
    "    \\end{bmatrix}.\n",
    "$$"
   ]
  },
  {
   "cell_type": "code",
   "execution_count": 11,
   "metadata": {},
   "outputs": [
    {
     "data": {
      "text/plain": [
       "array([[ 1, -1,  0],\n",
       "       [-1,  2, -1],\n",
       "       [ 0, -1,  1]])"
      ]
     },
     "execution_count": 11,
     "metadata": {},
     "output_type": "execute_result"
    }
   ],
   "source": [
    "A = np.array([\n",
    "    [0,1,0],\n",
    "    [1,0,1],\n",
    "    [0,1,0]\n",
    "])\n",
    "L = (-A).copy()\n",
    "L[np.arange(3), np.arange(3)] = A.sum(axis=1)\n",
    "L"
   ]
  },
  {
   "cell_type": "code",
   "execution_count": 12,
   "metadata": {},
   "outputs": [
    {
     "data": {
      "text/plain": [
       "array([[ 1, -1,  0],\n",
       "       [-1,  2, -1],\n",
       "       [ 0, -1,  1]])"
      ]
     },
     "execution_count": 12,
     "metadata": {},
     "output_type": "execute_result"
    }
   ],
   "source": [
    "L = np.diag(A.sum(axis=1)) - A\n",
    "L"
   ]
  },
  {
   "cell_type": "markdown",
   "metadata": {},
   "source": [
    "Q: One-hot encoding.  \n",
    "Transform the categorial data to one-hot encoding.  \n",
    "\n",
    "$$\n",
    "    [0,2,1,2,0] \\rightarrow\n",
    "    \\begin{bmatrix}\n",
    "    1 & 0 & 0 \\\\\n",
    "    0 & 0 & 1 \\\\\n",
    "    0 & 1 & 0 \\\\\n",
    "    0 & 0 & 1 \\\\\n",
    "    1 & 0 & 0 \\\\\n",
    "    \\end{bmatrix}\n",
    "$$"
   ]
  },
  {
   "cell_type": "code",
   "execution_count": 13,
   "metadata": {},
   "outputs": [
    {
     "data": {
      "text/plain": [
       "array([[1., 0., 0.],\n",
       "       [0., 1., 0.],\n",
       "       [0., 0., 1.]])"
      ]
     },
     "execution_count": 13,
     "metadata": {},
     "output_type": "execute_result"
    }
   ],
   "source": [
    "np.eye(3)"
   ]
  },
  {
   "cell_type": "code",
   "execution_count": 14,
   "metadata": {},
   "outputs": [
    {
     "data": {
      "text/plain": [
       "array([[1., 0., 0.],\n",
       "       [0., 0., 1.],\n",
       "       [0., 1., 0.],\n",
       "       [0., 0., 1.],\n",
       "       [1., 0., 0.]])"
      ]
     },
     "execution_count": 14,
     "metadata": {},
     "output_type": "execute_result"
    }
   ],
   "source": [
    "y = np.array([0,2,1,2,0])\n",
    "np.eye(3)[y]"
   ]
  },
  {
   "cell_type": "markdown",
   "metadata": {
    "id": "fc73ac3f-7bd1-431c-a293-ce201487a9d7"
   },
   "source": [
    "## [Sorting Arrays](https://jakevdp.github.io/PythonDataScienceHandbook/02.08-sorting.html)"
   ]
  },
  {
   "cell_type": "markdown",
   "metadata": {},
   "source": [
    "sorting, or finding the maximum or minimum, will be used in many places:  \n",
    "\n",
    "- classification: $k$-nearest neighborhood classification, decision tree, \n",
    "- clustering: $k$-means, DBSCAN  \n",
    "- manifold learning: IsoMap, spectral clustering  "
   ]
  },
  {
   "cell_type": "markdown",
   "metadata": {},
   "source": [
    "selection sort and bogosort"
   ]
  },
  {
   "cell_type": "markdown",
   "metadata": {},
   "source": [
    "mergesort, quicksort"
   ]
  },
  {
   "cell_type": "markdown",
   "metadata": {},
   "source": [
    "sort and argsort"
   ]
  },
  {
   "cell_type": "code",
   "execution_count": 15,
   "metadata": {},
   "outputs": [
    {
     "data": {
      "text/plain": [
       "array([5, 8, 1, 8, 5, 3], dtype=int32)"
      ]
     },
     "execution_count": 15,
     "metadata": {},
     "output_type": "execute_result"
    }
   ],
   "source": [
    "arr = np.random.randint(1,10,6)\n",
    "arr"
   ]
  },
  {
   "cell_type": "code",
   "execution_count": 16,
   "metadata": {},
   "outputs": [
    {
     "data": {
      "text/plain": [
       "np.int64(1)"
      ]
     },
     "execution_count": 16,
     "metadata": {},
     "output_type": "execute_result"
    }
   ],
   "source": [
    "arr.argmax() # index 是 argmax 時達到最大值"
   ]
  },
  {
   "cell_type": "code",
   "execution_count": 17,
   "metadata": {},
   "outputs": [
    {
     "name": "stdout",
     "output_type": "stream",
     "text": [
      "[5 8 1 8 5 3]\n",
      "[2 5 4 0 3 1]\n"
     ]
    }
   ],
   "source": [
    "new_arr = arr.copy()\n",
    "ind = new_arr.argsort()\n",
    "# 4 4 5 7 8 9: sort\n",
    "# 0 4 2 1 5 3: argsort gives you indces\n",
    "print(arr)\n",
    "print(ind)"
   ]
  },
  {
   "cell_type": "markdown",
   "metadata": {},
   "source": [
    "sort along an axis"
   ]
  },
  {
   "cell_type": "code",
   "execution_count": 18,
   "metadata": {},
   "outputs": [
    {
     "data": {
      "text/plain": [
       "array([[4, 4, 3, 3],\n",
       "       [3, 2, 1, 7],\n",
       "       [7, 8, 4, 8]], dtype=int32)"
      ]
     },
     "execution_count": 18,
     "metadata": {},
     "output_type": "execute_result"
    }
   ],
   "source": [
    "arr = np.random.randint(1, 10,(3,4))\n",
    "arr"
   ]
  },
  {
   "cell_type": "code",
   "execution_count": 19,
   "metadata": {},
   "outputs": [
    {
     "data": {
      "text/plain": [
       "array([[3, 2, 1, 3],\n",
       "       [4, 4, 3, 7],\n",
       "       [7, 8, 4, 8]], dtype=int32)"
      ]
     },
     "execution_count": 19,
     "metadata": {},
     "output_type": "execute_result"
    }
   ],
   "source": [
    "arr.sort(axis=0)\n",
    "arr"
   ]
  },
  {
   "cell_type": "markdown",
   "metadata": {},
   "source": [
    "Q: Find $3$ nearest neighbors."
   ]
  },
  {
   "cell_type": "markdown",
   "metadata": {},
   "source": [
    "partition and argpartition"
   ]
  },
  {
   "cell_type": "code",
   "execution_count": 20,
   "metadata": {},
   "outputs": [
    {
     "data": {
      "text/plain": [
       "array([7, 6, 3, 8, 3, 6, 6, 2, 2, 9], dtype=int32)"
      ]
     },
     "execution_count": 20,
     "metadata": {},
     "output_type": "execute_result"
    }
   ],
   "source": [
    "arr = np.random.randint(1, 10, 10)\n",
    "arr"
   ]
  },
  {
   "cell_type": "code",
   "execution_count": 21,
   "metadata": {},
   "outputs": [
    {
     "data": {
      "text/plain": [
       "array([2, 2, 3, 3, 6, 6, 6, 7, 8, 9], dtype=int32)"
      ]
     },
     "execution_count": 21,
     "metadata": {},
     "output_type": "execute_result"
    }
   ],
   "source": [
    "new_arr = arr.copy()\n",
    "new_arr.partition(3)\n",
    "new_arr"
   ]
  },
  {
   "cell_type": "markdown",
   "metadata": {
    "id": "0617c8db-645e-49a5-a410-3e31cca7ac25"
   },
   "source": [
    "## [Structured Data: NumPy's Structured Arrays](https://jakevdp.github.io/PythonDataScienceHandbook/02.09-structured-data-numpy.html)"
   ]
  },
  {
   "cell_type": "markdown",
   "metadata": {},
   "source": [
    "Just briefly go over it."
   ]
  },
  {
   "cell_type": "markdown",
   "metadata": {},
   "source": [
    "convention for data storage:  \n",
    "\n",
    "- row: sample 每列一樣本\n",
    "- column: feature 每欄位一特徵\n",
    "- training set, validation set, testing set"
   ]
  },
  {
   "attachments": {
    "1c1f61b3-b5ca-46be-ac38-919970ebdf51.png": {
     "image/png": "[encoded data removed]"
    }
   },
   "cell_type": "markdown",
   "metadata": {},
   "source": [
    "![image.png](attachment:1c1f61b3-b5ca-46be-ac38-919970ebdf51.png)"
   ]
  },
  {
   "cell_type": "markdown",
   "metadata": {},
   "source": [
    "pandas uses NumPy as its backend for data manipulation."
   ]
  },
  {
   "cell_type": "code",
   "execution_count": 22,
   "metadata": {},
   "outputs": [
    {
     "data": {
      "text/html": [
       "<div>\n",
       "<style scoped>\n",
       "    .dataframe tbody tr th:only-of-type {\n",
       "        vertical-align: middle;\n",
       "    }\n",
       "\n",
       "    .dataframe tbody tr th {\n",
       "        vertical-align: top;\n",
       "    }\n",
       "\n",
       "    .dataframe thead th {\n",
       "        text-align: right;\n",
       "    }\n",
       "</style>\n",
       "<table border=\"1\" class=\"dataframe\">\n",
       "  <thead>\n",
       "    <tr style=\"text-align: right;\">\n",
       "      <th></th>\n",
       "      <th>pixel1</th>\n",
       "      <th>pixel2</th>\n",
       "      <th>pixel3</th>\n",
       "      <th>pixel4</th>\n",
       "      <th>pixel5</th>\n",
       "      <th>pixel6</th>\n",
       "      <th>pixel7</th>\n",
       "      <th>pixel8</th>\n",
       "      <th>pixel9</th>\n",
       "      <th>pixel10</th>\n",
       "      <th>...</th>\n",
       "      <th>pixel776</th>\n",
       "      <th>pixel777</th>\n",
       "      <th>pixel778</th>\n",
       "      <th>pixel779</th>\n",
       "      <th>pixel780</th>\n",
       "      <th>pixel781</th>\n",
       "      <th>pixel782</th>\n",
       "      <th>pixel783</th>\n",
       "      <th>pixel784</th>\n",
       "      <th>label</th>\n",
       "    </tr>\n",
       "  </thead>\n",
       "  <tbody>\n",
       "    <tr>\n",
       "      <th>0</th>\n",
       "      <td>0</td>\n",
       "      <td>0</td>\n",
       "      <td>0</td>\n",
       "      <td>0</td>\n",
       "      <td>0</td>\n",
       "      <td>0</td>\n",
       "      <td>0</td>\n",
       "      <td>0</td>\n",
       "      <td>0</td>\n",
       "      <td>0</td>\n",
       "      <td>...</td>\n",
       "      <td>0</td>\n",
       "      <td>0</td>\n",
       "      <td>0</td>\n",
       "      <td>0</td>\n",
       "      <td>0</td>\n",
       "      <td>0</td>\n",
       "      <td>0</td>\n",
       "      <td>0</td>\n",
       "      <td>0</td>\n",
       "      <td>5</td>\n",
       "    </tr>\n",
       "    <tr>\n",
       "      <th>1</th>\n",
       "      <td>0</td>\n",
       "      <td>0</td>\n",
       "      <td>0</td>\n",
       "      <td>0</td>\n",
       "      <td>0</td>\n",
       "      <td>0</td>\n",
       "      <td>0</td>\n",
       "      <td>0</td>\n",
       "      <td>0</td>\n",
       "      <td>0</td>\n",
       "      <td>...</td>\n",
       "      <td>0</td>\n",
       "      <td>0</td>\n",
       "      <td>0</td>\n",
       "      <td>0</td>\n",
       "      <td>0</td>\n",
       "      <td>0</td>\n",
       "      <td>0</td>\n",
       "      <td>0</td>\n",
       "      <td>0</td>\n",
       "      <td>0</td>\n",
       "    </tr>\n",
       "    <tr>\n",
       "      <th>2</th>\n",
       "      <td>0</td>\n",
       "      <td>0</td>\n",
       "      <td>0</td>\n",
       "      <td>0</td>\n",
       "      <td>0</td>\n",
       "      <td>0</td>\n",
       "      <td>0</td>\n",
       "      <td>0</td>\n",
       "      <td>0</td>\n",
       "      <td>0</td>\n",
       "      <td>...</td>\n",
       "      <td>0</td>\n",
       "      <td>0</td>\n",
       "      <td>0</td>\n",
       "      <td>0</td>\n",
       "      <td>0</td>\n",
       "      <td>0</td>\n",
       "      <td>0</td>\n",
       "      <td>0</td>\n",
       "      <td>0</td>\n",
       "      <td>4</td>\n",
       "    </tr>\n",
       "    <tr>\n",
       "      <th>3</th>\n",
       "      <td>0</td>\n",
       "      <td>0</td>\n",
       "      <td>0</td>\n",
       "      <td>0</td>\n",
       "      <td>0</td>\n",
       "      <td>0</td>\n",
       "      <td>0</td>\n",
       "      <td>0</td>\n",
       "      <td>0</td>\n",
       "      <td>0</td>\n",
       "      <td>...</td>\n",
       "      <td>0</td>\n",
       "      <td>0</td>\n",
       "      <td>0</td>\n",
       "      <td>0</td>\n",
       "      <td>0</td>\n",
       "      <td>0</td>\n",
       "      <td>0</td>\n",
       "      <td>0</td>\n",
       "      <td>0</td>\n",
       "      <td>1</td>\n",
       "    </tr>\n",
       "    <tr>\n",
       "      <th>4</th>\n",
       "      <td>0</td>\n",
       "      <td>0</td>\n",
       "      <td>0</td>\n",
       "      <td>0</td>\n",
       "      <td>0</td>\n",
       "      <td>0</td>\n",
       "      <td>0</td>\n",
       "      <td>0</td>\n",
       "      <td>0</td>\n",
       "      <td>0</td>\n",
       "      <td>...</td>\n",
       "      <td>0</td>\n",
       "      <td>0</td>\n",
       "      <td>0</td>\n",
       "      <td>0</td>\n",
       "      <td>0</td>\n",
       "      <td>0</td>\n",
       "      <td>0</td>\n",
       "      <td>0</td>\n",
       "      <td>0</td>\n",
       "      <td>9</td>\n",
       "    </tr>\n",
       "    <tr>\n",
       "      <th>...</th>\n",
       "      <td>...</td>\n",
       "      <td>...</td>\n",
       "      <td>...</td>\n",
       "      <td>...</td>\n",
       "      <td>...</td>\n",
       "      <td>...</td>\n",
       "      <td>...</td>\n",
       "      <td>...</td>\n",
       "      <td>...</td>\n",
       "      <td>...</td>\n",
       "      <td>...</td>\n",
       "      <td>...</td>\n",
       "      <td>...</td>\n",
       "      <td>...</td>\n",
       "      <td>...</td>\n",
       "      <td>...</td>\n",
       "      <td>...</td>\n",
       "      <td>...</td>\n",
       "      <td>...</td>\n",
       "      <td>...</td>\n",
       "      <td>...</td>\n",
       "    </tr>\n",
       "    <tr>\n",
       "      <th>69995</th>\n",
       "      <td>0</td>\n",
       "      <td>0</td>\n",
       "      <td>0</td>\n",
       "      <td>0</td>\n",
       "      <td>0</td>\n",
       "      <td>0</td>\n",
       "      <td>0</td>\n",
       "      <td>0</td>\n",
       "      <td>0</td>\n",
       "      <td>0</td>\n",
       "      <td>...</td>\n",
       "      <td>0</td>\n",
       "      <td>0</td>\n",
       "      <td>0</td>\n",
       "      <td>0</td>\n",
       "      <td>0</td>\n",
       "      <td>0</td>\n",
       "      <td>0</td>\n",
       "      <td>0</td>\n",
       "      <td>0</td>\n",
       "      <td>2</td>\n",
       "    </tr>\n",
       "    <tr>\n",
       "      <th>69996</th>\n",
       "      <td>0</td>\n",
       "      <td>0</td>\n",
       "      <td>0</td>\n",
       "      <td>0</td>\n",
       "      <td>0</td>\n",
       "      <td>0</td>\n",
       "      <td>0</td>\n",
       "      <td>0</td>\n",
       "      <td>0</td>\n",
       "      <td>0</td>\n",
       "      <td>...</td>\n",
       "      <td>0</td>\n",
       "      <td>0</td>\n",
       "      <td>0</td>\n",
       "      <td>0</td>\n",
       "      <td>0</td>\n",
       "      <td>0</td>\n",
       "      <td>0</td>\n",
       "      <td>0</td>\n",
       "      <td>0</td>\n",
       "      <td>3</td>\n",
       "    </tr>\n",
       "    <tr>\n",
       "      <th>69997</th>\n",
       "      <td>0</td>\n",
       "      <td>0</td>\n",
       "      <td>0</td>\n",
       "      <td>0</td>\n",
       "      <td>0</td>\n",
       "      <td>0</td>\n",
       "      <td>0</td>\n",
       "      <td>0</td>\n",
       "      <td>0</td>\n",
       "      <td>0</td>\n",
       "      <td>...</td>\n",
       "      <td>0</td>\n",
       "      <td>0</td>\n",
       "      <td>0</td>\n",
       "      <td>0</td>\n",
       "      <td>0</td>\n",
       "      <td>0</td>\n",
       "      <td>0</td>\n",
       "      <td>0</td>\n",
       "      <td>0</td>\n",
       "      <td>4</td>\n",
       "    </tr>\n",
       "    <tr>\n",
       "      <th>69998</th>\n",
       "      <td>0</td>\n",
       "      <td>0</td>\n",
       "      <td>0</td>\n",
       "      <td>0</td>\n",
       "      <td>0</td>\n",
       "      <td>0</td>\n",
       "      <td>0</td>\n",
       "      <td>0</td>\n",
       "      <td>0</td>\n",
       "      <td>0</td>\n",
       "      <td>...</td>\n",
       "      <td>0</td>\n",
       "      <td>0</td>\n",
       "      <td>0</td>\n",
       "      <td>0</td>\n",
       "      <td>0</td>\n",
       "      <td>0</td>\n",
       "      <td>0</td>\n",
       "      <td>0</td>\n",
       "      <td>0</td>\n",
       "      <td>5</td>\n",
       "    </tr>\n",
       "    <tr>\n",
       "      <th>69999</th>\n",
       "      <td>0</td>\n",
       "      <td>0</td>\n",
       "      <td>0</td>\n",
       "      <td>0</td>\n",
       "      <td>0</td>\n",
       "      <td>0</td>\n",
       "      <td>0</td>\n",
       "      <td>0</td>\n",
       "      <td>0</td>\n",
       "      <td>0</td>\n",
       "      <td>...</td>\n",
       "      <td>0</td>\n",
       "      <td>0</td>\n",
       "      <td>0</td>\n",
       "      <td>0</td>\n",
       "      <td>0</td>\n",
       "      <td>0</td>\n",
       "      <td>0</td>\n",
       "      <td>0</td>\n",
       "      <td>0</td>\n",
       "      <td>6</td>\n",
       "    </tr>\n",
       "  </tbody>\n",
       "</table>\n",
       "<p>70000 rows × 785 columns</p>\n",
       "</div>"
      ],
      "text/plain": [
       "       pixel1  pixel2  pixel3  pixel4  pixel5  pixel6  pixel7  pixel8  pixel9  \\\n",
       "0           0       0       0       0       0       0       0       0       0   \n",
       "1           0       0       0       0       0       0       0       0       0   \n",
       "2           0       0       0       0       0       0       0       0       0   \n",
       "3           0       0       0       0       0       0       0       0       0   \n",
       "4           0       0       0       0       0       0       0       0       0   \n",
       "...       ...     ...     ...     ...     ...     ...     ...     ...     ...   \n",
       "69995       0       0       0       0       0       0       0       0       0   \n",
       "69996       0       0       0       0       0       0       0       0       0   \n",
       "69997       0       0       0       0       0       0       0       0       0   \n",
       "69998       0       0       0       0       0       0       0       0       0   \n",
       "69999       0       0       0       0       0       0       0       0       0   \n",
       "\n",
       "       pixel10  ...  pixel776  pixel777  pixel778  pixel779  pixel780  \\\n",
       "0            0  ...         0         0         0         0         0   \n",
       "1            0  ...         0         0         0         0         0   \n",
       "2            0  ...         0         0         0         0         0   \n",
       "3            0  ...         0         0         0         0         0   \n",
       "4            0  ...         0         0         0         0         0   \n",
       "...        ...  ...       ...       ...       ...       ...       ...   \n",
       "69995        0  ...         0         0         0         0         0   \n",
       "69996        0  ...         0         0         0         0         0   \n",
       "69997        0  ...         0         0         0         0         0   \n",
       "69998        0  ...         0         0         0         0         0   \n",
       "69999        0  ...         0         0         0         0         0   \n",
       "\n",
       "       pixel781  pixel782  pixel783  pixel784  label  \n",
       "0             0         0         0         0      5  \n",
       "1             0         0         0         0      0  \n",
       "2             0         0         0         0      4  \n",
       "3             0         0         0         0      1  \n",
       "4             0         0         0         0      9  \n",
       "...         ...       ...       ...       ...    ...  \n",
       "69995         0         0         0         0      2  \n",
       "69996         0         0         0         0      3  \n",
       "69997         0         0         0         0      4  \n",
       "69998         0         0         0         0      5  \n",
       "69999         0         0         0         0      6  \n",
       "\n",
       "[70000 rows x 785 columns]"
      ]
     },
     "execution_count": 22,
     "metadata": {},
     "output_type": "execute_result"
    }
   ],
   "source": [
    "df = mnist.data\n",
    "df['label'] = mnist.target\n",
    "df"
   ]
  },
  {
   "cell_type": "markdown",
   "metadata": {
    "id": "fc47fd3e-6e35-4dcb-9b18-07a124530c15"
   },
   "source": [
    "## Homework"
   ]
  },
  {
   "cell_type": "markdown",
   "metadata": {
    "id": "6d3e1e09-00ff-4f01-9954-02bb0038b368"
   },
   "source": [
    "- Type your answers here and submit your answer in `*.ipynb` format.\n",
    "- You may use code cell and Markdown cell."
   ]
  },
  {
   "cell_type": "code",
   "execution_count": 23,
   "metadata": {
    "id": "00acf24a-ca42-436e-947d-abc846b9a6c7"
   },
   "outputs": [
    {
     "name": "stdout",
     "output_type": "stream",
     "text": [
      "My name is 李瑋宸 and my student ID is B123245008.\n"
     ]
    }
   ],
   "source": [
    "NAME = \"李瑋宸\" # change to your name\n",
    "STD_ID = \"B123245008\" # change to your student ID\n",
    "print(\"My name is %s and my student ID is %s.\"%(NAME, STD_ID))"
   ]
  },
  {
   "cell_type": "markdown",
   "metadata": {},
   "source": [
    "### Exercise 1: Selecting Specific Elements\n",
    "Create a 5x5 matrix with values from 1 to 25. Use fancy indexing to extract the following:\n",
    "- The elements at positions (0,0), (1,2), (3,4)\n",
    "- All elements from the second and fourth rows"
   ]
  },
  {
   "cell_type": "code",
   "execution_count": 34,
   "id": "b87599d2",
   "metadata": {},
   "outputs": [
    {
     "name": "stdout",
     "output_type": "stream",
     "text": [
      "[[ 1  2  3  4  5]\n",
      " [ 6  7  8  9 10]\n",
      " [11 12 13 14 15]\n",
      " [16 17 18 19 20]\n",
      " [21 22 23 24 25]]\n",
      "[ 1  8 20]\n",
      "[ 6  7  8  9 10]\n",
      "[16 17 18 19 20]\n"
     ]
    }
   ],
   "source": [
    "arr = np.arange(1,26).reshape(5,5)\n",
    "print(arr)\n",
    "rows = np.array([0,1,3])\n",
    "cols = np.array([0,2,4])\n",
    "print(arr[rows,cols])\n",
    "\n",
    "row2 = 1\n",
    "row4 = 3\n",
    "print(arr[row2])\n",
    "print(arr[row4])"
   ]
  },
  {
   "cell_type": "markdown",
   "metadata": {},
   "source": [
    "### Exercise 2: Reordering Elements\n",
    "Given an array `[10, 20, 30, 40, 50]`, use fancy indexing to rearrange the elements in reverse order."
   ]
  },
  {
   "cell_type": "code",
   "execution_count": 25,
   "id": "79a48e95",
   "metadata": {},
   "outputs": [
    {
     "name": "stdout",
     "output_type": "stream",
     "text": [
      "Array: [10 20 30 40 50]\n",
      "Order: [4 3 2 1 0]\n",
      "Reversed_Array: [50 40 30 20 10]\n"
     ]
    }
   ],
   "source": [
    "arr = np.arange(10,60,10)\n",
    "print(\"Array:\",arr)\n",
    "order = np.arange(4,-1,-1)\n",
    "print(\"Order:\",order)\n",
    "print(\"Reversed_Array:\",arr[order])"
   ]
  },
  {
   "cell_type": "markdown",
   "metadata": {},
   "source": [
    "### Exercise 3: Extracting Multiple Rows and Columns\n",
    "Generate a 6x6 matrix of random integers between 1 and 100. Extract the second, fourth, and sixth rows and the first, third, and fifth columns."
   ]
  },
  {
   "cell_type": "code",
   "execution_count": 26,
   "id": "930d295b",
   "metadata": {},
   "outputs": [
    {
     "name": "stdout",
     "output_type": "stream",
     "text": [
      "Array:\n",
      " [[ 96  62  83  85  20  96]\n",
      " [  3  26  37  57  33  28]\n",
      " [  7  45  32 100  46  96]\n",
      " [ 22  68   9  14  88  95]\n",
      " [ 75  59  30   9  14   2]\n",
      " [ 59  64  44  11  30  85]] \n",
      "\n",
      "[[ 3 26 37 57 33 28]\n",
      " [22 68  9 14 88 95]\n",
      " [59 64 44 11 30 85]] \n",
      "\n",
      "[[96 83 20]\n",
      " [ 3 37 33]\n",
      " [ 7 32 46]\n",
      " [22  9 88]\n",
      " [75 30 14]\n",
      " [59 44 30]]\n"
     ]
    }
   ],
   "source": [
    "arr = np.random.randint(1,101,(6,6))\n",
    "print(\"Array:\\n\",arr,\"\\n\")\n",
    "rows = np.array([1,3,5])\n",
    "print(arr[rows],\"\\n\")\n",
    "cols = np.array([0,2,4])\n",
    "print(arr[:,cols])"
   ]
  },
  {
   "cell_type": "markdown",
   "metadata": {},
   "source": [
    "### Exercise 4: Basic Sorting\n",
    "Create a random array of 10 integers between 1 and 100. Sort the array in ascending and descending order."
   ]
  },
  {
   "cell_type": "code",
   "execution_count": 37,
   "id": "d48e0fe2",
   "metadata": {},
   "outputs": [
    {
     "name": "stdout",
     "output_type": "stream",
     "text": [
      "[ 97  14  99  40  90  79  67 100  78  36]\n",
      "asc [ 14  36  40  67  78  79  90  97  99 100]\n",
      "desc [100  99  97  90  79  78  67  40  36  14]\n",
      "\n",
      "\n",
      "asc [ 14  36  40  67  78  79  90  97  99 100]\n",
      "desc [100  99  97  90  79  78  67  40  36  14]\n"
     ]
    }
   ],
   "source": [
    "arr = np.random.randint(1,101,10)\n",
    "arr1= arr.copy()\n",
    "print(arr)\n",
    "print(\"asc\",arr[arr.argsort()])\n",
    "print(\"desc\",arr[(-arr).argsort()])\n",
    "print(\"\\n\")\n",
    "arr1.sort()\n",
    "print(\"asc\",arr1)\n",
    "print(\"desc\",arr1[::-1])"
   ]
  },
  {
   "cell_type": "markdown",
   "metadata": {},
   "source": [
    "### Exercise 5: Sorting Along an Axis\n",
    "Generate a 4x4 matrix of random integers between 1 and 50. Sort the matrix along:\n",
    "- Each row\n",
    "- Each column"
   ]
  },
  {
   "cell_type": "code",
   "execution_count": 28,
   "id": "711c9361",
   "metadata": {},
   "outputs": [
    {
     "name": "stdout",
     "output_type": "stream",
     "text": [
      "[[43 15 37  2]\n",
      " [15 18 15 21]\n",
      " [30 45 45 24]\n",
      " [13 49 35 20]]\n",
      "[[ 2 15 37 43]\n",
      " [15 15 18 21]\n",
      " [24 30 45 45]\n",
      " [13 20 35 49]]\n",
      "[[13 15 15  2]\n",
      " [15 18 35 20]\n",
      " [30 45 37 21]\n",
      " [43 49 45 24]]\n"
     ]
    }
   ],
   "source": [
    "arr = np.random.randint(1,51,(4,4))\n",
    "arr1 = arr.copy()\n",
    "print(arr)\n",
    "arr.sort(axis=1)\n",
    "print(arr)\n",
    "arr1.sort(axis=0)\n",
    "print(arr1)"
   ]
  },
  {
   "cell_type": "markdown",
   "metadata": {},
   "source": [
    "### Exercise 6: Indirect Sorting\n",
    "Given two NumPy arrays:\n",
    "```python\n",
    "names = np.array([\"Alice\", \"Bob\", \"Charlie\", \"David\"])\n",
    "scores = np.array([85, 92, 78, 95])\n",
    "```\n",
    "Sort `names` based on the corresponding values in `scores` in descending order."
   ]
  },
  {
   "cell_type": "code",
   "execution_count": 35,
   "id": "dc762502",
   "metadata": {},
   "outputs": [
    {
     "name": "stdout",
     "output_type": "stream",
     "text": [
      "['David' 'Bob' 'Alice' 'Charlie']\n"
     ]
    }
   ],
   "source": [
    "names = np.array([\"Alice\", \"Bob\", \"Charlie\", \"David\"])\n",
    "scores = np.array([85, 92, 78, 95])\n",
    "index = (-scores).argsort()\n",
    "print(names[index])"
   ]
  },
  {
   "cell_type": "markdown",
   "metadata": {},
   "source": [
    "### Exercise 7: Creating a Structured Array\n",
    "Create a structured array to store information about students with fields: `name` (string), `age` (integer), and `GPA` (float). Insert at least three students and print the array."
   ]
  },
  {
   "cell_type": "code",
   "execution_count": 30,
   "id": "ecbd8086",
   "metadata": {},
   "outputs": [
    {
     "name": "stdout",
     "output_type": "stream",
     "text": [
      "[('David', 19, 2.9 ) ('Tony', 21, 4.2 ) ('Nroy', 18, 4.31)\n",
      " ('Me', 35, 3.7 )]\n"
     ]
    }
   ],
   "source": [
    "dt = np.dtype([(\"name\",(np.str_,12)),(\"age\",np.int32),(\"GPA\",np.float32)])\n",
    "arr = np.array([(\"David\",19,2.9),(\"Tony\",21,4.20),(\"Nroy\",18,4.31),(\"Me\",35,3.7)],dtype=dt)\n",
    "print(arr)"
   ]
  },
  {
   "cell_type": "markdown",
   "metadata": {},
   "source": [
    "### Exercise 8: Accessing Structured Data\n",
    "Using the structured array from Exercise 7, print:\n",
    "- All student names\n",
    "- The ages of students with a GPA greater than 3.5"
   ]
  },
  {
   "cell_type": "code",
   "execution_count": 31,
   "id": "99bbb823",
   "metadata": {},
   "outputs": [
    {
     "name": "stdout",
     "output_type": "stream",
     "text": [
      "['David' 'Tony' 'Nroy' 'Me']\n",
      "[21 18 35]\n"
     ]
    }
   ],
   "source": [
    "print(arr[\"name\"])\n",
    "print(arr[\"age\"][arr[\"GPA\"] > 3.5])"
   ]
  },
  {
   "cell_type": "markdown",
   "metadata": {},
   "source": [
    "### Exercise 9: Sorting a Structured Array\n",
    "Sort the structured array of students by GPA in descending order."
   ]
  },
  {
   "cell_type": "code",
   "execution_count": 32,
   "id": "4b73e4c4",
   "metadata": {},
   "outputs": [
    {
     "name": "stdout",
     "output_type": "stream",
     "text": [
      "[4.31 4.2  3.7  2.9 ]\n"
     ]
    }
   ],
   "source": [
    "arr =  np.sort(arr,order=\"GPA\")\n",
    "desc = np.arange(arr.size-1,-1,-1)\n",
    "#print(desc)\n",
    "print(arr[\"GPA\"][desc])"
   ]
  },
  {
   "cell_type": "markdown",
   "metadata": {},
   "source": [
    "### Exercise 10: Filtering Structured Data\n",
    "Filter and print students from the structured array who are older than 20 and have a GPA higher than 3.0."
   ]
  },
  {
   "cell_type": "code",
   "execution_count": 33,
   "id": "57dfa14c",
   "metadata": {},
   "outputs": [
    {
     "name": "stdout",
     "output_type": "stream",
     "text": [
      "['Me' 'Tony']\n"
     ]
    }
   ],
   "source": [
    "print(arr[\"name\"][(arr[\"GPA\"] > 3.0) & (arr[\"age\"] > 20)])"
   ]
  }
 ],
 "metadata": {
  "colab": {
   "provenance": []
  },
  "kernelspec": {
   "display_name": "Python 3",
   "language": "python",
   "name": "python3"
  },
  "language_info": {
   "codemirror_mode": {
    "name": "ipython",
    "version": 3
   },
   "file_extension": ".py",
   "mimetype": "text/x-python",
   "name": "python",
   "nbconvert_exporter": "python",
   "pygments_lexer": "ipython3",
   "version": "3.12.4"
  }
 },
 "nbformat": 4,
 "nbformat_minor": 5
}

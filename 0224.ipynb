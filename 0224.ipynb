{
 "cells": [
  {
   "cell_type": "markdown",
   "metadata": {
    "id": "f8af11c0-2e3b-4f3f-a793-ef2397e553d1"
   },
   "source": [
    "# 0224"
   ]
  },
  {
   "cell_type": "markdown",
   "metadata": {
    "id": "8e61f13c-1d70-401d-a47a-ae7dc19b0f1d"
   },
   "source": [
    "Related links\n",
    "\n",
    "- [Course website](https://www-math.nsysu.edu.tw/~chlin/2025SMath599/2025SMath599.html)\n",
    "- [Python Data Science Handbook](https://jakevdp.github.io/PythonDataScienceHandbook/)"
   ]
  },
  {
   "cell_type": "markdown",
   "metadata": {
    "id": "4d5d6026-3e43-4bed-af23-d0f66efb5e95"
   },
   "source": [
    "Read Chapter 1 when you read this book second time."
   ]
  },
  {
   "cell_type": "code",
   "execution_count": 3,
   "metadata": {},
   "outputs": [],
   "source": [
    "import numpy as np"
   ]
  },
  {
   "cell_type": "code",
   "execution_count": 4,
   "metadata": {},
   "outputs": [],
   "source": [
    "### load nsysu\n",
    "\n",
    "import os\n",
    "import urllib\n",
    "import numpy as np\n",
    "\n",
    "base = r\"https://github.com/SageLabTW/auto-grading/raw/master/nsysu-digits/\"\n",
    "for c in ['X', 'y']:\n",
    "    filename = \"nsysu-digits-%s.csv\"%c\n",
    "    if filename not in os.listdir('.'):\n",
    "        print(filename, 'not found --- will download')\n",
    "        urllib.request.urlretrieve(base + c + \".csv\", filename)\n",
    "\n",
    "Xsys = np.genfromtxt('nsysu-digits-X.csv', dtype=int, delimiter=',') ### flattened already\n",
    "ysys = np.genfromtxt('nsysu-digits-y.csv', dtype=int, delimiter=',')"
   ]
  },
  {
   "cell_type": "code",
   "execution_count": 5,
   "metadata": {},
   "outputs": [],
   "source": [
    "# load MNIST (long)\n",
    "\n",
    "from sklearn.datasets import fetch_openml\n",
    "mnist = fetch_openml('mnist_784')"
   ]
  },
  {
   "cell_type": "markdown",
   "metadata": {
    "id": "d2c67e6b-83ff-4be9-bcf3-adc761f8a2a5"
   },
   "source": [
    "## [Aggregations: Min, Max, and Everything In Between](https://jakevdp.github.io/PythonDataScienceHandbook/02.04-computation-on-arrays-aggregates.html)"
   ]
  },
  {
   "cell_type": "markdown",
   "metadata": {},
   "source": [
    "The universal function apply the same action to each entry.  "
   ]
  },
  {
   "cell_type": "code",
   "execution_count": 6,
   "metadata": {},
   "outputs": [
    {
     "data": {
      "text/plain": [
       "array([[ 0,  1,  2,  3],\n",
       "       [ 4,  5,  6,  7],\n",
       "       [ 8,  9, 10, 11]])"
      ]
     },
     "execution_count": 6,
     "metadata": {},
     "output_type": "execute_result"
    }
   ],
   "source": [
    "arr = np.arange(12).reshape(3,4)\n",
    "arr"
   ]
  },
  {
   "cell_type": "code",
   "execution_count": 7,
   "metadata": {},
   "outputs": [
    {
     "data": {
      "text/plain": [
       "array([[ 1,  2,  3,  4],\n",
       "       [ 5,  6,  7,  8],\n",
       "       [ 9, 10, 11, 12]])"
      ]
     },
     "execution_count": 7,
     "metadata": {},
     "output_type": "execute_result"
    }
   ],
   "source": [
    "arr + 1"
   ]
  },
  {
   "cell_type": "code",
   "execution_count": 8,
   "metadata": {},
   "outputs": [
    {
     "data": {
      "text/plain": [
       "array([[1.00000000e+00, 2.71828183e+00, 7.38905610e+00, 2.00855369e+01],\n",
       "       [5.45981500e+01, 1.48413159e+02, 4.03428793e+02, 1.09663316e+03],\n",
       "       [2.98095799e+03, 8.10308393e+03, 2.20264658e+04, 5.98741417e+04]])"
      ]
     },
     "execution_count": 8,
     "metadata": {},
     "output_type": "execute_result"
    }
   ],
   "source": [
    "np.exp(arr)"
   ]
  },
  {
   "cell_type": "code",
   "execution_count": 9,
   "metadata": {},
   "outputs": [
    {
     "data": {
      "text/plain": [
       "array([[6, 5, 4, 3],\n",
       "       [2, 1, 0, 1],\n",
       "       [2, 3, 4, 5]])"
      ]
     },
     "execution_count": 9,
     "metadata": {},
     "output_type": "execute_result"
    }
   ],
   "source": [
    "# absolute value\n",
    "np.abs(arr - 6)"
   ]
  },
  {
   "cell_type": "code",
   "execution_count": 10,
   "metadata": {},
   "outputs": [
    {
     "name": "stdout",
     "output_type": "stream",
     "text": [
      "[ True False False False]\n",
      "[ True  True  True False]\n"
     ]
    }
   ],
   "source": [
    "male = np.array([True, True, False, False])\n",
    "math_major = np.array([True, False, True, False])\n",
    "print(male & math_major)\n",
    "print(male | math_major)"
   ]
  },
  {
   "cell_type": "code",
   "execution_count": 11,
   "metadata": {},
   "outputs": [
    {
     "name": "stdout",
     "output_type": "stream",
     "text": [
      "[[0. 1. 2.]\n",
      " [3. 4. 5.]\n",
      " [6. 7. 8.]]\n",
      "[[ 3.  3.  3.]\n",
      " [12. 12. 12.]\n",
      " [21. 21. 21.]]\n"
     ]
    }
   ],
   "source": [
    "A = np.arange(9).reshape(3,3)\n",
    "B = np.ones((3,3))\n",
    "print(A * B) # entrywise product\n",
    "print(A.dot(B)) # matrix-matrix product"
   ]
  },
  {
   "cell_type": "markdown",
   "metadata": {},
   "source": [
    "The aggregate function combine several entries (an array, a row, a column) and summarize them by a number.  "
   ]
  },
  {
   "cell_type": "code",
   "execution_count": 12,
   "metadata": {},
   "outputs": [
    {
     "data": {
      "text/plain": [
       "array([[ 0,  1,  2,  3],\n",
       "       [ 4,  5,  6,  7],\n",
       "       [ 8,  9, 10, 11]])"
      ]
     },
     "execution_count": 12,
     "metadata": {},
     "output_type": "execute_result"
    }
   ],
   "source": [
    "arr = np.arange(12).reshape(3,4)\n",
    "arr"
   ]
  },
  {
   "cell_type": "code",
   "execution_count": 13,
   "metadata": {},
   "outputs": [
    {
     "name": "stdout",
     "output_type": "stream",
     "text": [
      "66\n",
      "0\n",
      "11\n",
      "5.5\n"
     ]
    }
   ],
   "source": [
    "print(arr.sum())\n",
    "print(arr.min())\n",
    "print(arr.max())\n",
    "print(arr.mean())"
   ]
  },
  {
   "cell_type": "code",
   "execution_count": 14,
   "metadata": {},
   "outputs": [
    {
     "name": "stdout",
     "output_type": "stream",
     "text": [
      "True False\n",
      "False False\n"
     ]
    }
   ],
   "source": [
    "arr1 = np.array([True, True, False, False])\n",
    "arr2 = np.array([False, False, False, False])\n",
    "print(arr1.any(), arr2.any()) # return True if there is any True inside\n",
    "print(arr1.all(), arr2.all()) # return True only when all are True"
   ]
  },
  {
   "cell_type": "code",
   "execution_count": 15,
   "metadata": {},
   "outputs": [
    {
     "name": "stderr",
     "output_type": "stream",
     "text": [
      "'pip' ���O�����Υ~���R�O�B�i���檺�{���Χ妸�ɡC\n"
     ]
    }
   ],
   "source": [
    "!pip install matplotlib"
   ]
  },
  {
   "cell_type": "code",
   "execution_count": 16,
   "metadata": {},
   "outputs": [
    {
     "data": {
      "text/plain": [
       "np.int64(51)"
      ]
     },
     "execution_count": 16,
     "metadata": {},
     "output_type": "execute_result"
    },
    {
     "data": {
      "image/png": "[encoded data removed]",
      "text/plain": [
       "<Figure size 640x480 with 1 Axes>"
      ]
     },
     "metadata": {},
     "output_type": "display_data"
    }
   ],
   "source": [
    "# check NSYSU-digits data\n",
    "# pip install matplotlib\n",
    "import matplotlib.pyplot as plt\n",
    "img0 = Xsys[0].reshape(28,28)\n",
    "plt.imshow(img0, cmap=\"Greys\")\n",
    "np.sum(img0 > 10) # sum of 28 x 28 boolean array: count the number of True's"
   ]
  },
  {
   "cell_type": "code",
   "execution_count": 18,
   "id": "bc1b5e68",
   "metadata": {},
   "outputs": [
    {
     "data": {
      "text/plain": [
       "<matplotlib.image.AxesImage at 0x1a52ca5e600>"
      ]
     },
     "execution_count": 18,
     "metadata": {},
     "output_type": "execute_result"
    },
    {
     "data": {
      "image/png": "[encoded data removed]",
      "text/plain": [
       "<Figure size 640x480 with 1 Axes>"
      ]
     },
     "metadata": {},
     "output_type": "display_data"
    }
   ],
   "source": [
    "img1 = img0.copy()\n",
    "img1[img1>10] = 255\n",
    "plt.imshow(img1,cmap=\"Greys\")"
   ]
  },
  {
   "cell_type": "code",
   "execution_count": 21,
   "id": "323eb7ce",
   "metadata": {},
   "outputs": [
    {
     "name": "stdout",
     "output_type": "stream",
     "text": [
      "[False False False False False False False False False  True  True  True\n",
      "  True  True  True  True  True  True False False False False False False\n",
      " False False False False]\n",
      "9 17\n"
     ]
    }
   ],
   "source": [
    "mask = (img1 > 10)\n",
    "x_mask = np.any(mask,axis=0)\n",
    "print(x_mask)\n",
    "x_ind = np.arange(28)[x_mask]\n",
    "print(x_ind.min(),x_ind.max())"
   ]
  },
  {
   "cell_type": "code",
   "execution_count": 27,
   "id": "5b07653c",
   "metadata": {},
   "outputs": [
    {
     "name": "stdout",
     "output_type": "stream",
     "text": [
      "7 24\n",
      "9 17\n"
     ]
    }
   ],
   "source": [
    "ax1 , ax2 = np.where(img1 > 10)\n",
    "print(ax1.min(),ax1.max())\n",
    "print(ax2.min(),ax2.max())"
   ]
  },
  {
   "cell_type": "code",
   "execution_count": 17,
   "metadata": {},
   "outputs": [
    {
     "data": {
      "text/plain": [
       "array([[ 0,  1,  2,  3],\n",
       "       [ 4,  5,  6,  7],\n",
       "       [ 8,  9, 10, 11]])"
      ]
     },
     "execution_count": 17,
     "metadata": {},
     "output_type": "execute_result"
    }
   ],
   "source": [
    "arr = np.arange(12).reshape(3,4)\n",
    "arr"
   ]
  },
  {
   "cell_type": "code",
   "execution_count": 18,
   "metadata": {},
   "outputs": [
    {
     "name": "stdout",
     "output_type": "stream",
     "text": [
      "[12 15 18 21]\n",
      "[ 6 22 38]\n"
     ]
    }
   ],
   "source": [
    "# axis=0 columns, axis=1 rows\n",
    "print(arr.sum(axis=0))\n",
    "print(arr.sum(axis=1))"
   ]
  },
  {
   "cell_type": "markdown",
   "metadata": {},
   "source": [
    "Q: How to center the data?"
   ]
  },
  {
   "cell_type": "code",
   "execution_count": 19,
   "metadata": {},
   "outputs": [
    {
     "data": {
      "text/plain": [
       "array([[ 0,  1],\n",
       "       [ 2,  3],\n",
       "       [ 4,  5],\n",
       "       [ 6,  7],\n",
       "       [ 8,  9],\n",
       "       [10, 11]])"
      ]
     },
     "execution_count": 19,
     "metadata": {},
     "output_type": "execute_result"
    }
   ],
   "source": [
    "arr = np.arange(12).reshape(6,2)\n",
    "arr"
   ]
  },
  {
   "cell_type": "code",
   "execution_count": 20,
   "metadata": {},
   "outputs": [
    {
     "name": "stdout",
     "output_type": "stream",
     "text": [
      "[[-5. -5.]\n",
      " [-3. -3.]\n",
      " [-1. -1.]\n",
      " [ 1.  1.]\n",
      " [ 3.  3.]\n",
      " [ 5.  5.]]\n",
      "[[-5. -5.]\n",
      " [-3. -3.]\n",
      " [-1. -1.]\n",
      " [ 1.  1.]\n",
      " [ 3.  3.]\n",
      " [ 5.  5.]]\n"
     ]
    }
   ],
   "source": [
    "center = arr.mean(axis=0)\n",
    "# not recommended\n",
    "print(arr - np.ones((6,1)).dot(center[np.newaxis,:]))\n",
    "# recommended by broadcasting\n",
    "print(arr - center) # (6,2) - (2,)"
   ]
  },
  {
   "cell_type": "markdown",
   "metadata": {},
   "source": [
    "Q: From adjacency matrix to degree matrix.  \n",
    "(Ignore this question for now.)"
   ]
  },
  {
   "cell_type": "markdown",
   "metadata": {},
   "source": [
    "If `arr.shape == (3,2,4)` , \n",
    "then `arr.sum()` is a number,  \n",
    "`arr.sum(axis=0) == (2,4)`,  \n",
    "`arr.sum(axis=1) == (3,4)`,  \n",
    "`arr.sum(axis=2) == (3,2)`."
   ]
  },
  {
   "cell_type": "code",
   "execution_count": 21,
   "metadata": {},
   "outputs": [
    {
     "name": "stdout",
     "output_type": "stream",
     "text": [
      "[[3. 3. 3. 3.]\n",
      " [3. 3. 3. 3.]]\n",
      "[[2. 2. 2. 2.]\n",
      " [2. 2. 2. 2.]\n",
      " [2. 2. 2. 2.]]\n",
      "[[4. 4.]\n",
      " [4. 4.]\n",
      " [4. 4.]]\n"
     ]
    }
   ],
   "source": [
    "arr = np.ones((3,2,4))\n",
    "print(arr.sum(axis=0))\n",
    "print(arr.sum(axis=1))\n",
    "print(arr.sum(axis=2))"
   ]
  },
  {
   "cell_type": "markdown",
   "metadata": {},
   "source": [
    "Let $\\{a_{i,j,k}\\}$ be an array.  \n",
    "Then `a.sum(axis=1)` is another array $\\{a_{i,?,k}\\}$, where \n",
    "\n",
    "$$\n",
    "    a_{i,?,k} = \\sum_{j} a_{i,j,k}.\n",
    "$$"
   ]
  },
  {
   "cell_type": "code",
   "execution_count": 22,
   "metadata": {},
   "outputs": [
    {
     "ename": "FileNotFoundError",
     "evalue": "[Errno 2] No such file or directory: 'photo.jpg'",
     "output_type": "error",
     "traceback": [
      "\u001b[1;31m---------------------------------------------------------------------------\u001b[0m",
      "\u001b[1;31mFileNotFoundError\u001b[0m                         Traceback (most recent call last)",
      "Cell \u001b[1;32mIn[22], line 2\u001b[0m\n\u001b[0;32m      1\u001b[0m \u001b[38;5;28;01mfrom\u001b[39;00m\u001b[38;5;250m \u001b[39m\u001b[38;5;21;01mPIL\u001b[39;00m\u001b[38;5;250m \u001b[39m\u001b[38;5;28;01mimport\u001b[39;00m Image\n\u001b[1;32m----> 2\u001b[0m img \u001b[38;5;241m=\u001b[39m \u001b[43mImage\u001b[49m\u001b[38;5;241;43m.\u001b[39;49m\u001b[43mopen\u001b[49m\u001b[43m(\u001b[49m\u001b[38;5;124;43m\"\u001b[39;49m\u001b[38;5;124;43mphoto.jpg\u001b[39;49m\u001b[38;5;124;43m\"\u001b[39;49m\u001b[43m)\u001b[49m\n\u001b[0;32m      3\u001b[0m arr \u001b[38;5;241m=\u001b[39m np\u001b[38;5;241m.\u001b[39marray(img)\n\u001b[0;32m      4\u001b[0m plt\u001b[38;5;241m.\u001b[39mimshow(arr\u001b[38;5;241m.\u001b[39mmean(axis\u001b[38;5;241m=\u001b[39m\u001b[38;5;241m2\u001b[39m), cmap\u001b[38;5;241m=\u001b[39m\u001b[38;5;124m\"\u001b[39m\u001b[38;5;124mGreys_r\u001b[39m\u001b[38;5;124m\"\u001b[39m) \u001b[38;5;66;03m# (160,160)\u001b[39;00m\n",
      "File \u001b[1;32mc:\\Users\\User\\AppData\\Local\\Programs\\Python\\Python312\\Lib\\site-packages\\PIL\\Image.py:3465\u001b[0m, in \u001b[0;36mopen\u001b[1;34m(fp, mode, formats)\u001b[0m\n\u001b[0;32m   3462\u001b[0m     filename \u001b[38;5;241m=\u001b[39m os\u001b[38;5;241m.\u001b[39mfspath(fp)\n\u001b[0;32m   3464\u001b[0m \u001b[38;5;28;01mif\u001b[39;00m filename:\n\u001b[1;32m-> 3465\u001b[0m     fp \u001b[38;5;241m=\u001b[39m \u001b[43mbuiltins\u001b[49m\u001b[38;5;241;43m.\u001b[39;49m\u001b[43mopen\u001b[49m\u001b[43m(\u001b[49m\u001b[43mfilename\u001b[49m\u001b[43m,\u001b[49m\u001b[43m \u001b[49m\u001b[38;5;124;43m\"\u001b[39;49m\u001b[38;5;124;43mrb\u001b[39;49m\u001b[38;5;124;43m\"\u001b[39;49m\u001b[43m)\u001b[49m\n\u001b[0;32m   3466\u001b[0m     exclusive_fp \u001b[38;5;241m=\u001b[39m \u001b[38;5;28;01mTrue\u001b[39;00m\n\u001b[0;32m   3467\u001b[0m \u001b[38;5;28;01melse\u001b[39;00m:\n",
      "\u001b[1;31mFileNotFoundError\u001b[0m: [Errno 2] No such file or directory: 'photo.jpg'"
     ]
    }
   ],
   "source": [
    "from PIL import Image\n",
    "img = Image.open(\"photo.jpg\")\n",
    "arr = np.array(img)\n",
    "plt.imshow(arr.mean(axis=2), cmap=\"Greys_r\") # (160,160)"
   ]
  },
  {
   "cell_type": "code",
   "execution_count": null,
   "metadata": {},
   "outputs": [],
   "source": [
    "Xsys_img = Xsys.reshape(1890,28,28)\n",
    "print(Xsys_img.shape)\n",
    "mask = (ysys == 5)\n",
    "print(Xsys_img[mask].shape)\n",
    "plt.imshow(Xsys_img[mask].mean(axis=0), cmap=\"Greys\") # (28,28)"
   ]
  },
  {
   "cell_type": "code",
   "execution_count": null,
   "metadata": {},
   "outputs": [],
   "source": [
    "X = mnist.data.values\n",
    "y = mnist.target.values.astype(int)\n",
    "X_img = X.reshape(70000,28,28)\n",
    "print(X_img.shape)\n",
    "mask = (y == 5)\n",
    "print(X_img[mask].shape)\n",
    "plt.imshow(X_img[mask].mean(axis=0), cmap=\"Greys\") # (28,28)"
   ]
  },
  {
   "cell_type": "markdown",
   "metadata": {
    "id": "fc73ac3f-7bd1-431c-a293-ce201487a9d7"
   },
   "source": [
    "## [Computation on Arrays: Broadcasting](https://jakevdp.github.io/PythonDataScienceHandbook/02.05-computation-on-arrays-broadcasting.html)"
   ]
  },
  {
   "cell_type": "markdown",
   "metadata": {},
   "source": [
    "arr + scalar"
   ]
  },
  {
   "cell_type": "code",
   "execution_count": null,
   "metadata": {},
   "outputs": [],
   "source": [
    "arr = np.arange(12).reshape(3,4)\n",
    "arr + 1"
   ]
  },
  {
   "cell_type": "markdown",
   "metadata": {},
   "source": [
    "column + row (or 1-dim)"
   ]
  },
  {
   "cell_type": "code",
   "execution_count": null,
   "metadata": {},
   "outputs": [],
   "source": [
    "A = np.ones((6,1))\n",
    "B = np.array([5,6])\n",
    "print(A, A.shape)\n",
    "print(B, B.shape)\n",
    "A * B"
   ]
  },
  {
   "cell_type": "markdown",
   "metadata": {},
   "source": [
    "column * row = matrix\n",
    "$$\n",
    "    \\begin{bmatrix} 1 \\\\ 1 \\\\ 1 \\\\ 1 \\\\ 1 \\\\ 1 \\end{bmatrix} \\times\n",
    "    \\begin{bmatrix} 5 & 6 \\end{bmatrix} =\n",
    "    \\begin{bmatrix}\n",
    "        1 \\times 5 & 1 \\times 6 \\\\\n",
    "        1 \\times 5 & 1 \\times 6 \\\\\n",
    "        1 \\times 5 & 1 \\times 6 \\\\\n",
    "        1 \\times 5 & 1 \\times 6 \\\\\n",
    "        1 \\times 5 & 1 \\times 6 \\\\\n",
    "        1 \\times 5 & 1 \\times 6 \\\\\n",
    "    \\end{bmatrix}\n",
    "$$"
   ]
  },
  {
   "cell_type": "markdown",
   "metadata": {},
   "source": [
    "Review how we centered the data."
   ]
  },
  {
   "cell_type": "markdown",
   "metadata": {},
   "source": [
    "See picture.\n",
    "![](https://jakevdp.github.io/PythonDataScienceHandbook/figures/02.05-broadcasting.png)"
   ]
  },
  {
   "cell_type": "markdown",
   "metadata": {},
   "source": [
    "Q: Vandermonde matrix (polynomial feature)\n",
    "\n",
    "$$\n",
    "    \\begin{bmatrix}\n",
    "    1 & 3 & 3^2 \\\\\n",
    "    1 & 5 & 5^2 \\\\\n",
    "    1 & 7 & 7^2\n",
    "    \\end{bmatrix}\n",
    "$$"
   ]
  },
  {
   "cell_type": "code",
   "execution_count": null,
   "metadata": {},
   "outputs": [],
   "source": [
    "xs = np.array([3,5,7]).reshape(3,1)\n",
    "powers = np.array([0,1,2])\n",
    "xs ** powers"
   ]
  },
  {
   "cell_type": "markdown",
   "metadata": {},
   "source": [
    "### Rules of broad casting\n",
    "- **Rule 1**: If the two arrays differ in their number of dimensions, the shape of the one with fewer dimensions is padded with ones on its leading (left) side.\n",
    "- **Rule 2**: If the shape of the two arrays does not match in any dimension, the array with shape equal to 1 in that dimension is stretched to match the other shape.\n",
    "- **Rule 3**: If in any dimension the sizes disagree and neither is equal to 1, an error is raised."
   ]
  },
  {
   "cell_type": "markdown",
   "metadata": {},
   "source": [
    "dimension ~ axis"
   ]
  },
  {
   "cell_type": "markdown",
   "metadata": {},
   "source": [
    "distance matrix\n",
    "```\n",
    "    X # array (N,3) x1, ... , xN in R3\n",
    "```\n",
    "Using `for` loop, the naive method requires `N x N` iterations.  "
   ]
  },
  {
   "cell_type": "code",
   "execution_count": null,
   "metadata": {},
   "outputs": [],
   "source": [
    "N = 1000\n",
    "X = np.random.randn(N, 3)\n",
    "X"
   ]
  },
  {
   "cell_type": "code",
   "execution_count": null,
   "metadata": {},
   "outputs": [],
   "source": [
    "%%timeit\n",
    "dist_mtx = np.zeros((N,N))\n",
    "for i in range(N):\n",
    "    for j in range(N):\n",
    "        xi = X[i]\n",
    "        xj = X[j]\n",
    "        dist_mtx[i,j] = np.sqrt(np.sum((xi - xj)**2))\n",
    "dist_mtx[:5,:5]"
   ]
  },
  {
   "cell_type": "code",
   "execution_count": null,
   "metadata": {},
   "outputs": [],
   "source": [
    "%%timeit\n",
    "X_col = X.reshape(N,1,3)\n",
    "X_row = X.reshape(1,N,3)\n",
    "# common shape should be (N, N, 3)\n",
    "dist_mtx = np.sqrt(np.sum((X_col - X_row) ** 2, axis=2)) # (N, N, 3)\n",
    "dist_mtx[:5,:5]"
   ]
  },
  {
   "cell_type": "markdown",
   "metadata": {
    "id": "0617c8db-645e-49a5-a410-3e31cca7ac25"
   },
   "source": [
    "## [Comparisons, Masks, and Boolean Logic](https://jakevdp.github.io/PythonDataScienceHandbook/02.06-boolean-arrays-and-masks.html)"
   ]
  },
  {
   "cell_type": "markdown",
   "metadata": {},
   "source": [
    "to be continued next time"
   ]
  },
  {
   "cell_type": "markdown",
   "metadata": {},
   "source": [
    "mask"
   ]
  },
  {
   "cell_type": "markdown",
   "metadata": {},
   "source": [
    "mask selection and modification"
   ]
  },
  {
   "cell_type": "markdown",
   "metadata": {},
   "source": [
    "increase contrast of a photo"
   ]
  },
  {
   "cell_type": "code",
   "execution_count": null,
   "metadata": {},
   "outputs": [],
   "source": [
    "hist"
   ]
  },
  {
   "cell_type": "code",
   "execution_count": null,
   "metadata": {},
   "outputs": [],
   "source": [
    "plt.hist(Xsys[0], bins=50)"
   ]
  },
  {
   "cell_type": "markdown",
   "metadata": {},
   "source": [
    "Q: Find the bounding box."
   ]
  },
  {
   "cell_type": "code",
   "execution_count": null,
   "metadata": {},
   "outputs": [],
   "source": [
    "mean of same digits"
   ]
  },
  {
   "cell_type": "markdown",
   "metadata": {},
   "source": [
    "data processing  \n",
    "https://www.openml.org/search?type=data&status=active&id=554"
   ]
  },
  {
   "cell_type": "markdown",
   "metadata": {
    "id": "fc47fd3e-6e35-4dcb-9b18-07a124530c15"
   },
   "source": [
    "## Homework"
   ]
  },
  {
   "cell_type": "markdown",
   "metadata": {
    "id": "6d3e1e09-00ff-4f01-9954-02bb0038b368"
   },
   "source": [
    "- Type your answers here and submit your answer in `*.ipynb` format.\n",
    "- You may use code cell and Markdown cell."
   ]
  },
  {
   "cell_type": "code",
   "execution_count": null,
   "metadata": {
    "id": "00acf24a-ca42-436e-947d-abc846b9a6c7"
   },
   "outputs": [],
   "source": [
    "NAME = \"Your name\" # change to your name\n",
    "STD_ID = \"Your student id\" # change to your student ID\n",
    "print(\"My name is %s and my student ID is %s.\"%(NAME, STD_ID))"
   ]
  },
  {
   "cell_type": "markdown",
   "metadata": {},
   "source": [
    "### Exercise 1: Basic Aggregations\n",
    "Create a NumPy array of integers from 1 to 20. Compute and print the following:\n",
    "- The sum of all elements\n",
    "- The minimum value\n",
    "- The maximum value\n",
    "- The mean value"
   ]
  },
  {
   "cell_type": "code",
   "execution_count": null,
   "id": "bb0f84fd",
   "metadata": {},
   "outputs": [
    {
     "name": "stdout",
     "output_type": "stream",
     "text": [
      "210\n",
      "1\n",
      "20\n",
      "10.5\n"
     ]
    }
   ],
   "source": [
    "arr = np.arange(1,21)\n",
    "\n",
    "print(arr.sum())\n",
    "print(arr.min())\n",
    "print(arr.max())\n",
    "print(arr.mean())"
   ]
  },
  {
   "cell_type": "markdown",
   "metadata": {},
   "source": [
    "### Exercise 2: Row-wise and Column-wise Aggregations\n",
    "Generate a 4x5 matrix of random integers between 10 and 99. Compute and print:\n",
    "- The sum of each row\n",
    "- The sum of each column\n",
    "- The maximum value in each row\n",
    "- The minimum value in each column"
   ]
  },
  {
   "cell_type": "code",
   "execution_count": null,
   "id": "9a3c3503",
   "metadata": {},
   "outputs": [
    {
     "name": "stdout",
     "output_type": "stream",
     "text": [
      "[[46 95 54 31 40]\n",
      " [66 75 51 87 88]\n",
      " [80 13 93 52 94]\n",
      " [79 72 50 53 97]]\n",
      "[[266]\n",
      " [367]\n",
      " [332]\n",
      " [351]]\n",
      "[271 255 248 223 319]\n",
      "[[95]\n",
      " [88]\n",
      " [94]\n",
      " [97]]\n",
      "[46 13 50 31 40]\n"
     ]
    }
   ],
   "source": [
    "arr = np.random.randint(10,100,(4,5))\n",
    "print(arr)\n",
    "print(arr.sum(axis=1).reshape(4,1))\n",
    "print(arr.sum(axis=0))\n",
    "print(arr.max(axis=1).reshape(4,1))\n",
    "print(arr.min(axis=0))\n"
   ]
  },
  {
   "cell_type": "markdown",
   "metadata": {},
   "source": [
    "### Exercise 3: Cumulative and Reduced Aggregations\n",
    "Given the array `[1, 2, 3, 4, 5]`, compute and print:\n",
    "- The cumulative sum\n",
    "- The cumulative product\n",
    "- The product of all elements using `np.prod`"
   ]
  },
  {
   "cell_type": "code",
   "execution_count": null,
   "id": "1640d900",
   "metadata": {},
   "outputs": [
    {
     "name": "stdout",
     "output_type": "stream",
     "text": [
      "[ 1  3  6 10 15]\n",
      "[  1   2   6  24 120]\n",
      "120\n"
     ]
    }
   ],
   "source": [
    "arr = np.array([1, 2, 3, 4, 5])\n",
    "print(arr.cumsum())\n",
    "print(arr.cumprod())\n",
    "print(arr.prod())"
   ]
  },
  {
   "cell_type": "markdown",
   "metadata": {},
   "source": [
    "### Exercise 4: Basic Broadcasting\n",
    "Create a 3x3 matrix and add a 1D array of size 3 to it. Observe and explain the result."
   ]
  },
  {
   "cell_type": "code",
   "execution_count": null,
   "id": "646b4f00",
   "metadata": {},
   "outputs": [
    {
     "name": "stdout",
     "output_type": "stream",
     "text": [
      "[[0 1 2]\n",
      " [3 4 5]\n",
      " [6 7 8]]\n",
      "[0 1 2]\n",
      "[[ 0  2  4]\n",
      " [ 3  5  7]\n",
      " [ 6  8 10]]\n"
     ]
    }
   ],
   "source": [
    "arr = np.arange(0,9).reshape(3,3)\n",
    "print(arr)\n",
    "arr2 = np.arange(0,3)\n",
    "print(arr2)\n",
    "print(arr+arr2)\n",
    "#Each row of 3*3 array add 1D array once"
   ]
  },
  {
   "cell_type": "markdown",
   "metadata": {},
   "source": [
    "### Exercise 5: Broadcasting with Different Shapes\n",
    "Given a 4x1 matrix and a 1x4 matrix, add them together and print the result. Explain how broadcasting is applied in this case."
   ]
  },
  {
   "cell_type": "code",
   "execution_count": null,
   "id": "4bb49fac",
   "metadata": {},
   "outputs": [
    {
     "name": "stdout",
     "output_type": "stream",
     "text": [
      "[[0 1 2 3]\n",
      " [1 2 3 4]\n",
      " [2 3 4 5]\n",
      " [3 4 5 6]]\n"
     ]
    }
   ],
   "source": [
    "arr1 = np.arange(0,4).reshape(4,1)\n",
    "arr2 = np.arange(0,4).reshape(1,4)\n",
    "print(arr1+arr2)\n",
    "#arr1(4*1) and arr2(1*4) are broadcasted into common size 4*4, then add together"
   ]
  },
  {
   "cell_type": "markdown",
   "metadata": {},
   "source": [
    "### Exercise 6: Element-wise Operations with Broadcasting\n",
    "Generate a 5x5 matrix with values from 1 to 25. Subtract the mean of each row from the respective row using broadcasting. Print the resulting matrix."
   ]
  },
  {
   "cell_type": "code",
   "execution_count": null,
   "id": "6d54cc4c",
   "metadata": {},
   "outputs": [
    {
     "name": "stdout",
     "output_type": "stream",
     "text": [
      "[[-2. -1.  0.  1.  2.]\n",
      " [-2. -1.  0.  1.  2.]\n",
      " [-2. -1.  0.  1.  2.]\n",
      " [-2. -1.  0.  1.  2.]\n",
      " [-2. -1.  0.  1.  2.]]\n"
     ]
    }
   ],
   "source": [
    "arr = np.arange(1,26).reshape(5,5)\n",
    "#print(arr)\n",
    "arr2 = arr - arr.mean(axis=1).reshape(5,1)\n",
    "print(arr2)"
   ]
  },
  {
   "cell_type": "markdown",
   "metadata": {},
   "source": [
    "### Exercise 7: Boolean Masking\n",
    "Create an array of 15 random integers between 1 and 50. Extract and print all elements greater than 25."
   ]
  },
  {
   "cell_type": "code",
   "execution_count": null,
   "id": "bbb12bdb",
   "metadata": {},
   "outputs": [
    {
     "name": "stdout",
     "output_type": "stream",
     "text": [
      "[43 37 50 35 30 47 26 27 34 28]\n"
     ]
    }
   ],
   "source": [
    "arr = np.random.randint(1,51,15)\n",
    "print(arr[arr>25])"
   ]
  },
  {
   "cell_type": "markdown",
   "metadata": {},
   "source": [
    "### Exercise 8: Counting and Boolean Operations\n",
    "Generate a 1D array of 20 random integers between 1 and 100. Compute and print:\n",
    "- The number of elements greater than 50\n",
    "- The number of elements less than or equal to 30\n",
    "- The proportion of elements that are even numbers"
   ]
  },
  {
   "cell_type": "code",
   "execution_count": 23,
   "id": "d5c289dd",
   "metadata": {},
   "outputs": [
    {
     "name": "stdout",
     "output_type": "stream",
     "text": [
      "[60 52 53 97 76 82 83 62 70 98 99 97]\n",
      "[12 28 30 18 23  9]\n",
      "12\n",
      "6\n",
      "0.55\n"
     ]
    }
   ],
   "source": [
    "arr = np.random.randint(1,101,20)\n",
    "print(arr[arr>50])\n",
    "print(arr[arr<=30])\n",
    "#print(arr[arr%2==0])\n",
    "print(arr[arr>50].size)\n",
    "print(arr[arr<=30].size)\n",
    "print((arr[arr%2==0].size)/arr.size)"
   ]
  },
  {
   "cell_type": "markdown",
   "metadata": {},
   "source": [
    "### Exercise 9: Conditional Modifications\n",
    "Create an array of 10 random integers between 1 and 20. Replace all even numbers with -1 using Boolean indexing."
   ]
  },
  {
   "cell_type": "code",
   "execution_count": 77,
   "id": "4982aee4",
   "metadata": {},
   "outputs": [
    {
     "name": "stdout",
     "output_type": "stream",
     "text": [
      "[-1 -1 17 -1 15 15 -1 -1 -1 17]\n"
     ]
    }
   ],
   "source": [
    "arr = np.random.randint(1,21,10)\n",
    "#print(arr)\n",
    "arr[arr%2==0]=-1\n",
    "print(arr)\n"
   ]
  },
  {
   "cell_type": "markdown",
   "metadata": {
    "id": "6f97cf5a-b084-4834-91f1-76f01e122e3c"
   },
   "source": [
    "### Exercise 10: Combining Conditions\n",
    "Create a 5x5 matrix of random integers between 1 and 100. Print all elements that are:\n",
    "- Greater than 50 and even\n",
    "- Less than 30 or odd"
   ]
  },
  {
   "cell_type": "code",
   "execution_count": 82,
   "metadata": {},
   "outputs": [
    {
     "name": "stdout",
     "output_type": "stream",
     "text": [
      "[[78 21 43 50 16]\n",
      " [22 25 18 72 67]\n",
      " [69 59 94 31 96]\n",
      " [56 91 82 14 79]\n",
      " [99 66 66 86 74]]\n",
      "[78 72 94 96 56 82 66 66 86 74]\n",
      "[21 43 16 22 25 18 67 69 59 31 91 14 79 99]\n"
     ]
    }
   ],
   "source": [
    "arr = np.random.randint(1,101,(5,5))\n",
    "print(arr)\n",
    "print(arr[(arr>50) & (arr%2==0)])\n",
    "print(arr[(arr<30) | (arr%2==1)])"
   ]
  }
 ],
 "metadata": {
  "colab": {
   "provenance": []
  },
  "kernelspec": {
   "display_name": "Python 3",
   "language": "python",
   "name": "python3"
  },
  "language_info": {
   "codemirror_mode": {
    "name": "ipython",
    "version": 3
   },
   "file_extension": ".py",
   "mimetype": "text/x-python",
   "name": "python",
   "nbconvert_exporter": "python",
   "pygments_lexer": "ipython3",
   "version": "3.12.4"
  }
 },
 "nbformat": 4,
 "nbformat_minor": 5
}

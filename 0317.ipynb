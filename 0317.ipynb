{
 "cells": [
  {
   "cell_type": "markdown",
   "metadata": {
    "id": "f8af11c0-2e3b-4f3f-a793-ef2397e553d1"
   },
   "source": [
    "# 0317"
   ]
  },
  {
   "cell_type": "markdown",
   "metadata": {
    "id": "8e61f13c-1d70-401d-a47a-ae7dc19b0f1d"
   },
   "source": [
    "Related links\n",
    "\n",
    "- [Course website](https://www-math.nsysu.edu.tw/~chlin/2025SMath599/2025SMath599.html)\n",
    "- [Python Data Science Handbook](https://jakevdp.github.io/PythonDataScienceHandbook/)"
   ]
  },
  {
   "cell_type": "markdown",
   "metadata": {},
   "source": [
    "## Data"
   ]
  },
  {
   "cell_type": "code",
   "execution_count": 1,
   "metadata": {},
   "outputs": [],
   "source": [
    "### load nsysu\n",
    "\n",
    "import os\n",
    "import urllib\n",
    "import numpy as np\n",
    "\n",
    "base = r\"https://github.com/SageLabTW/auto-grading/raw/master/nsysu-digits/\"\n",
    "for c in ['X', 'y']:\n",
    "    filename = \"nsysu-digits-%s.csv\"%c\n",
    "    if filename not in os.listdir('.'):\n",
    "        print(filename, 'not found --- will download')\n",
    "        urllib.request.urlretrieve(base + c + \".csv\", filename)\n",
    "\n",
    "Xsys = np.genfromtxt('nsysu-digits-X.csv', dtype=int, delimiter=',') ### flattened already\n",
    "ysys = np.genfromtxt('nsysu-digits-y.csv', dtype=int, delimiter=',')"
   ]
  },
  {
   "cell_type": "code",
   "execution_count": 2,
   "metadata": {},
   "outputs": [],
   "source": [
    "# load MNIST (long)\n",
    "\n",
    "from sklearn.datasets import fetch_openml\n",
    "mnist = fetch_openml('mnist_784')"
   ]
  },
  {
   "cell_type": "markdown",
   "metadata": {},
   "source": [
    "[Sample DataFrame](https://docs.google.com/spreadsheets/d/1pzcuTVMyRhBrwmcpOnGILUjMsPeF8fjkSSLwUuevXJ0/edit?usp=sharing)"
   ]
  },
  {
   "cell_type": "code",
   "execution_count": 3,
   "metadata": {},
   "outputs": [],
   "source": [
    "from sklearn import datasets\n",
    "titanic = datasets.fetch_openml(name='titanic', version=1, as_frame=True)"
   ]
  },
  {
   "cell_type": "code",
   "execution_count": 4,
   "metadata": {},
   "outputs": [],
   "source": [
    "# required packages\n",
    "import numpy as np\n",
    "import pandas as pd"
   ]
  },
  {
   "cell_type": "markdown",
   "metadata": {},
   "source": [
    "## [Hierarchical Indexing](https://jakevdp.github.io/PythonDataScienceHandbook/03.05-hierarchical-indexing.html)"
   ]
  },
  {
   "cell_type": "markdown",
   "metadata": {},
   "source": [
    "tuple vs MultiIndex"
   ]
  },
  {
   "cell_type": "code",
   "execution_count": 5,
   "metadata": {},
   "outputs": [
    {
     "name": "stdout",
     "output_type": "stream",
     "text": [
      "25145561\n"
     ]
    },
    {
     "data": {
      "text/plain": [
       "(California, 2000)    33871648\n",
       "(California, 2010)    37253956\n",
       "(New York, 2000)      18976457\n",
       "(New York, 2010)      19378102\n",
       "(Texas, 2000)         20851820\n",
       "(Texas, 2010)         25145561\n",
       "Name: population, dtype: int64"
      ]
     },
     "execution_count": 5,
     "metadata": {},
     "output_type": "execute_result"
    }
   ],
   "source": [
    "index = [('California', 2000), ('California', 2010),\n",
    "         ('New York', 2000), ('New York', 2010),\n",
    "         ('Texas', 2000), ('Texas', 2010)]\n",
    "populations = [33871648, 37253956,\n",
    "               18976457, 19378102,\n",
    "               20851820, 25145561]\n",
    "pop = pd.Series(populations, index=index, name=\"population\")\n",
    "print(pop[(\"Texas\", 2010)])\n",
    "pop"
   ]
  },
  {
   "cell_type": "code",
   "execution_count": 6,
   "metadata": {},
   "outputs": [
    {
     "name": "stdout",
     "output_type": "stream",
     "text": [
      "By state\n",
      " year\n",
      "2000    33871648\n",
      "2010    37253956\n",
      "Name: population, dtype: int64\n",
      "By year\n",
      " state\n",
      "California    33871648\n",
      "New York      18976457\n",
      "Texas         20851820\n",
      "Name: population, dtype: int64\n"
     ]
    },
    {
     "data": {
      "text/plain": [
       "state       year\n",
       "California  2000    33871648\n",
       "            2010    37253956\n",
       "New York    2000    18976457\n",
       "            2010    19378102\n",
       "Texas       2000    20851820\n",
       "            2010    25145561\n",
       "Name: population, dtype: int64"
      ]
     },
     "execution_count": 6,
     "metadata": {},
     "output_type": "execute_result"
    }
   ],
   "source": [
    "# pd.MultiIndex.from_tuples (set names)\n",
    "index = pd.MultiIndex.from_tuples(index, names=[\"state\", \"year\"])\n",
    "print(\"By state\\n\", pop.reindex(index)[\"California\"])\n",
    "print(\"By year\\n\", pop.reindex(index)[:,2000])\n",
    "pop.reindex(index)"
   ]
  },
  {
   "cell_type": "code",
   "execution_count": 7,
   "metadata": {},
   "outputs": [
    {
     "data": {
      "text/plain": [
       "MultiIndex([('California', 2000),\n",
       "            ('California', 2010),\n",
       "            (  'New York', 2000),\n",
       "            (  'New York', 2010),\n",
       "            (     'Texas', 2000),\n",
       "            (     'Texas', 2010),\n",
       "            (     'Texas', 2020)],\n",
       "           )"
      ]
     },
     "execution_count": 7,
     "metadata": {},
     "output_type": "execute_result"
    }
   ],
   "source": [
    "# pd.MultiIndex.from_arrays (set names)\n",
    "state = [\"California\", \"California\", \"New York\", \"New York\", \"Texas\", \"Texas\", \"Texas\"]\n",
    "year = [2000, 2010, 2000, 2010, 2000, 2010, 2020]\n",
    "pd.MultiIndex.from_arrays([state, year])"
   ]
  },
  {
   "cell_type": "code",
   "execution_count": 8,
   "metadata": {},
   "outputs": [
    {
     "data": {
      "text/plain": [
       "MultiIndex([('California', 2000),\n",
       "            ('California', 2010),\n",
       "            (  'New York', 2000),\n",
       "            (  'New York', 2010),\n",
       "            (     'Texas', 2000),\n",
       "            (     'Texas', 2010)],\n",
       "           )"
      ]
     },
     "execution_count": 8,
     "metadata": {},
     "output_type": "execute_result"
    }
   ],
   "source": [
    "# pd.MultiIndex.from_product (set names)\n",
    "state = [\"California\", \"New York\", \"Texas\"]\n",
    "year = [2000, 2010]\n",
    "pd.MultiIndex.from_product([state, year])"
   ]
  },
  {
   "cell_type": "markdown",
   "metadata": {},
   "source": [
    "stack and unstack"
   ]
  },
  {
   "cell_type": "code",
   "execution_count": 9,
   "metadata": {},
   "outputs": [],
   "source": [
    "pop = pop.reindex(index)"
   ]
  },
  {
   "cell_type": "code",
   "execution_count": 10,
   "metadata": {},
   "outputs": [
    {
     "data": {
      "text/html": [
       "<div>\n",
       "<style scoped>\n",
       "    .dataframe tbody tr th:only-of-type {\n",
       "        vertical-align: middle;\n",
       "    }\n",
       "\n",
       "    .dataframe tbody tr th {\n",
       "        vertical-align: top;\n",
       "    }\n",
       "\n",
       "    .dataframe thead th {\n",
       "        text-align: right;\n",
       "    }\n",
       "</style>\n",
       "<table border=\"1\" class=\"dataframe\">\n",
       "  <thead>\n",
       "    <tr style=\"text-align: right;\">\n",
       "      <th>year</th>\n",
       "      <th>2000</th>\n",
       "      <th>2010</th>\n",
       "    </tr>\n",
       "    <tr>\n",
       "      <th>state</th>\n",
       "      <th></th>\n",
       "      <th></th>\n",
       "    </tr>\n",
       "  </thead>\n",
       "  <tbody>\n",
       "    <tr>\n",
       "      <th>California</th>\n",
       "      <td>33871648</td>\n",
       "      <td>37253956</td>\n",
       "    </tr>\n",
       "    <tr>\n",
       "      <th>New York</th>\n",
       "      <td>18976457</td>\n",
       "      <td>19378102</td>\n",
       "    </tr>\n",
       "    <tr>\n",
       "      <th>Texas</th>\n",
       "      <td>20851820</td>\n",
       "      <td>25145561</td>\n",
       "    </tr>\n",
       "  </tbody>\n",
       "</table>\n",
       "</div>"
      ],
      "text/plain": [
       "year            2000      2010\n",
       "state                         \n",
       "California  33871648  37253956\n",
       "New York    18976457  19378102\n",
       "Texas       20851820  25145561"
      ]
     },
     "execution_count": 10,
     "metadata": {},
     "output_type": "execute_result"
    }
   ],
   "source": [
    "# unstack\n",
    "pop.unstack()"
   ]
  },
  {
   "cell_type": "code",
   "execution_count": 11,
   "metadata": {},
   "outputs": [
    {
     "data": {
      "text/plain": [
       "state       year\n",
       "California  2000    33871648\n",
       "            2010    37253956\n",
       "New York    2000    18976457\n",
       "            2010    19378102\n",
       "Texas       2000    20851820\n",
       "            2010    25145561\n",
       "dtype: int64"
      ]
     },
     "execution_count": 11,
     "metadata": {},
     "output_type": "execute_result"
    }
   ],
   "source": [
    "# stack\n",
    "pop.unstack().stack()"
   ]
  },
  {
   "cell_type": "code",
   "execution_count": 34,
   "metadata": {},
   "outputs": [],
   "source": [
    "index = [(major, grade, gender)\n",
    "         for major in [\"CS\", \"MATH\", \"MIS\"]\n",
    "         for grade in [1,2,3,4]\n",
    "         for gender in [\"male\", \"female\"]\n",
    "        ]\n",
    "num = pd.Series(50, name=\"number\", \n",
    "                index=pd.MultiIndex.from_tuples(index, names=[\"major\", \"grade\", \"gender\"]))\n",
    "num += np.random.randint(-10, 10, num.shape)"
   ]
  },
  {
   "cell_type": "code",
   "execution_count": 35,
   "metadata": {},
   "outputs": [
    {
     "data": {
      "text/plain": [
       "major  grade  gender\n",
       "CS     1      male      55\n",
       "              female    40\n",
       "       2      male      57\n",
       "              female    44\n",
       "       3      male      53\n",
       "              female    45\n",
       "       4      male      43\n",
       "              female    48\n",
       "MATH   1      male      55\n",
       "              female    53\n",
       "       2      male      44\n",
       "              female    49\n",
       "       3      male      44\n",
       "              female    59\n",
       "       4      male      50\n",
       "              female    40\n",
       "MIS    1      male      49\n",
       "              female    52\n",
       "       2      male      49\n",
       "              female    53\n",
       "       3      male      57\n",
       "              female    53\n",
       "       4      male      53\n",
       "              female    45\n",
       "Name: number, dtype: int64"
      ]
     },
     "execution_count": 35,
     "metadata": {},
     "output_type": "execute_result"
    }
   ],
   "source": [
    "num"
   ]
  },
  {
   "cell_type": "code",
   "execution_count": 14,
   "metadata": {},
   "outputs": [
    {
     "data": {
      "text/html": [
       "<div>\n",
       "<style scoped>\n",
       "    .dataframe tbody tr th:only-of-type {\n",
       "        vertical-align: middle;\n",
       "    }\n",
       "\n",
       "    .dataframe tbody tr th {\n",
       "        vertical-align: top;\n",
       "    }\n",
       "\n",
       "    .dataframe thead th {\n",
       "        text-align: right;\n",
       "    }\n",
       "</style>\n",
       "<table border=\"1\" class=\"dataframe\">\n",
       "  <thead>\n",
       "    <tr style=\"text-align: right;\">\n",
       "      <th></th>\n",
       "      <th>gender</th>\n",
       "      <th>female</th>\n",
       "      <th>male</th>\n",
       "    </tr>\n",
       "    <tr>\n",
       "      <th>major</th>\n",
       "      <th>grade</th>\n",
       "      <th></th>\n",
       "      <th></th>\n",
       "    </tr>\n",
       "  </thead>\n",
       "  <tbody>\n",
       "    <tr>\n",
       "      <th rowspan=\"4\" valign=\"top\">CS</th>\n",
       "      <th>1</th>\n",
       "      <td>55</td>\n",
       "      <td>50</td>\n",
       "    </tr>\n",
       "    <tr>\n",
       "      <th>2</th>\n",
       "      <td>51</td>\n",
       "      <td>43</td>\n",
       "    </tr>\n",
       "    <tr>\n",
       "      <th>3</th>\n",
       "      <td>42</td>\n",
       "      <td>58</td>\n",
       "    </tr>\n",
       "    <tr>\n",
       "      <th>4</th>\n",
       "      <td>56</td>\n",
       "      <td>52</td>\n",
       "    </tr>\n",
       "    <tr>\n",
       "      <th rowspan=\"4\" valign=\"top\">MATH</th>\n",
       "      <th>1</th>\n",
       "      <td>46</td>\n",
       "      <td>53</td>\n",
       "    </tr>\n",
       "    <tr>\n",
       "      <th>2</th>\n",
       "      <td>40</td>\n",
       "      <td>46</td>\n",
       "    </tr>\n",
       "    <tr>\n",
       "      <th>3</th>\n",
       "      <td>44</td>\n",
       "      <td>49</td>\n",
       "    </tr>\n",
       "    <tr>\n",
       "      <th>4</th>\n",
       "      <td>55</td>\n",
       "      <td>53</td>\n",
       "    </tr>\n",
       "    <tr>\n",
       "      <th rowspan=\"4\" valign=\"top\">MIS</th>\n",
       "      <th>1</th>\n",
       "      <td>53</td>\n",
       "      <td>53</td>\n",
       "    </tr>\n",
       "    <tr>\n",
       "      <th>2</th>\n",
       "      <td>42</td>\n",
       "      <td>46</td>\n",
       "    </tr>\n",
       "    <tr>\n",
       "      <th>3</th>\n",
       "      <td>53</td>\n",
       "      <td>56</td>\n",
       "    </tr>\n",
       "    <tr>\n",
       "      <th>4</th>\n",
       "      <td>55</td>\n",
       "      <td>48</td>\n",
       "    </tr>\n",
       "  </tbody>\n",
       "</table>\n",
       "</div>"
      ],
      "text/plain": [
       "gender       female  male\n",
       "major grade              \n",
       "CS    1          55    50\n",
       "      2          51    43\n",
       "      3          42    58\n",
       "      4          56    52\n",
       "MATH  1          46    53\n",
       "      2          40    46\n",
       "      3          44    49\n",
       "      4          55    53\n",
       "MIS   1          53    53\n",
       "      2          42    46\n",
       "      3          53    56\n",
       "      4          55    48"
      ]
     },
     "execution_count": 14,
     "metadata": {},
     "output_type": "execute_result"
    }
   ],
   "source": [
    "num.unstack()"
   ]
  },
  {
   "cell_type": "code",
   "execution_count": 39,
   "metadata": {},
   "outputs": [
    {
     "data": {
      "text/plain": [
       "major  gender\n",
       "CS     female    177\n",
       "       male      208\n",
       "MATH   female    201\n",
       "       male      193\n",
       "MIS    female    203\n",
       "       male      208\n",
       "dtype: int64"
      ]
     },
     "execution_count": 39,
     "metadata": {},
     "output_type": "execute_result"
    }
   ],
   "source": [
    "num.unstack(level=1).sum(axis=1)"
   ]
  },
  {
   "cell_type": "markdown",
   "metadata": {},
   "source": [
    "reset_index and set_index"
   ]
  },
  {
   "cell_type": "code",
   "execution_count": 16,
   "metadata": {},
   "outputs": [
    {
     "data": {
      "text/html": [
       "<div>\n",
       "<style scoped>\n",
       "    .dataframe tbody tr th:only-of-type {\n",
       "        vertical-align: middle;\n",
       "    }\n",
       "\n",
       "    .dataframe tbody tr th {\n",
       "        vertical-align: top;\n",
       "    }\n",
       "\n",
       "    .dataframe thead th {\n",
       "        text-align: right;\n",
       "    }\n",
       "</style>\n",
       "<table border=\"1\" class=\"dataframe\">\n",
       "  <thead>\n",
       "    <tr style=\"text-align: right;\">\n",
       "      <th></th>\n",
       "      <th>major</th>\n",
       "      <th>grade</th>\n",
       "      <th>gender</th>\n",
       "      <th>number</th>\n",
       "    </tr>\n",
       "  </thead>\n",
       "  <tbody>\n",
       "    <tr>\n",
       "      <th>0</th>\n",
       "      <td>CS</td>\n",
       "      <td>1</td>\n",
       "      <td>male</td>\n",
       "      <td>50</td>\n",
       "    </tr>\n",
       "    <tr>\n",
       "      <th>1</th>\n",
       "      <td>CS</td>\n",
       "      <td>1</td>\n",
       "      <td>female</td>\n",
       "      <td>55</td>\n",
       "    </tr>\n",
       "    <tr>\n",
       "      <th>2</th>\n",
       "      <td>CS</td>\n",
       "      <td>2</td>\n",
       "      <td>male</td>\n",
       "      <td>43</td>\n",
       "    </tr>\n",
       "    <tr>\n",
       "      <th>3</th>\n",
       "      <td>CS</td>\n",
       "      <td>2</td>\n",
       "      <td>female</td>\n",
       "      <td>51</td>\n",
       "    </tr>\n",
       "    <tr>\n",
       "      <th>4</th>\n",
       "      <td>CS</td>\n",
       "      <td>3</td>\n",
       "      <td>male</td>\n",
       "      <td>58</td>\n",
       "    </tr>\n",
       "    <tr>\n",
       "      <th>5</th>\n",
       "      <td>CS</td>\n",
       "      <td>3</td>\n",
       "      <td>female</td>\n",
       "      <td>42</td>\n",
       "    </tr>\n",
       "    <tr>\n",
       "      <th>6</th>\n",
       "      <td>CS</td>\n",
       "      <td>4</td>\n",
       "      <td>male</td>\n",
       "      <td>52</td>\n",
       "    </tr>\n",
       "    <tr>\n",
       "      <th>7</th>\n",
       "      <td>CS</td>\n",
       "      <td>4</td>\n",
       "      <td>female</td>\n",
       "      <td>56</td>\n",
       "    </tr>\n",
       "    <tr>\n",
       "      <th>8</th>\n",
       "      <td>MATH</td>\n",
       "      <td>1</td>\n",
       "      <td>male</td>\n",
       "      <td>53</td>\n",
       "    </tr>\n",
       "    <tr>\n",
       "      <th>9</th>\n",
       "      <td>MATH</td>\n",
       "      <td>1</td>\n",
       "      <td>female</td>\n",
       "      <td>46</td>\n",
       "    </tr>\n",
       "    <tr>\n",
       "      <th>10</th>\n",
       "      <td>MATH</td>\n",
       "      <td>2</td>\n",
       "      <td>male</td>\n",
       "      <td>46</td>\n",
       "    </tr>\n",
       "    <tr>\n",
       "      <th>11</th>\n",
       "      <td>MATH</td>\n",
       "      <td>2</td>\n",
       "      <td>female</td>\n",
       "      <td>40</td>\n",
       "    </tr>\n",
       "    <tr>\n",
       "      <th>12</th>\n",
       "      <td>MATH</td>\n",
       "      <td>3</td>\n",
       "      <td>male</td>\n",
       "      <td>49</td>\n",
       "    </tr>\n",
       "    <tr>\n",
       "      <th>13</th>\n",
       "      <td>MATH</td>\n",
       "      <td>3</td>\n",
       "      <td>female</td>\n",
       "      <td>44</td>\n",
       "    </tr>\n",
       "    <tr>\n",
       "      <th>14</th>\n",
       "      <td>MATH</td>\n",
       "      <td>4</td>\n",
       "      <td>male</td>\n",
       "      <td>53</td>\n",
       "    </tr>\n",
       "    <tr>\n",
       "      <th>15</th>\n",
       "      <td>MATH</td>\n",
       "      <td>4</td>\n",
       "      <td>female</td>\n",
       "      <td>55</td>\n",
       "    </tr>\n",
       "    <tr>\n",
       "      <th>16</th>\n",
       "      <td>MIS</td>\n",
       "      <td>1</td>\n",
       "      <td>male</td>\n",
       "      <td>53</td>\n",
       "    </tr>\n",
       "    <tr>\n",
       "      <th>17</th>\n",
       "      <td>MIS</td>\n",
       "      <td>1</td>\n",
       "      <td>female</td>\n",
       "      <td>53</td>\n",
       "    </tr>\n",
       "    <tr>\n",
       "      <th>18</th>\n",
       "      <td>MIS</td>\n",
       "      <td>2</td>\n",
       "      <td>male</td>\n",
       "      <td>46</td>\n",
       "    </tr>\n",
       "    <tr>\n",
       "      <th>19</th>\n",
       "      <td>MIS</td>\n",
       "      <td>2</td>\n",
       "      <td>female</td>\n",
       "      <td>42</td>\n",
       "    </tr>\n",
       "    <tr>\n",
       "      <th>20</th>\n",
       "      <td>MIS</td>\n",
       "      <td>3</td>\n",
       "      <td>male</td>\n",
       "      <td>56</td>\n",
       "    </tr>\n",
       "    <tr>\n",
       "      <th>21</th>\n",
       "      <td>MIS</td>\n",
       "      <td>3</td>\n",
       "      <td>female</td>\n",
       "      <td>53</td>\n",
       "    </tr>\n",
       "    <tr>\n",
       "      <th>22</th>\n",
       "      <td>MIS</td>\n",
       "      <td>4</td>\n",
       "      <td>male</td>\n",
       "      <td>48</td>\n",
       "    </tr>\n",
       "    <tr>\n",
       "      <th>23</th>\n",
       "      <td>MIS</td>\n",
       "      <td>4</td>\n",
       "      <td>female</td>\n",
       "      <td>55</td>\n",
       "    </tr>\n",
       "  </tbody>\n",
       "</table>\n",
       "</div>"
      ],
      "text/plain": [
       "   major  grade  gender  number\n",
       "0     CS      1    male      50\n",
       "1     CS      1  female      55\n",
       "2     CS      2    male      43\n",
       "3     CS      2  female      51\n",
       "4     CS      3    male      58\n",
       "5     CS      3  female      42\n",
       "6     CS      4    male      52\n",
       "7     CS      4  female      56\n",
       "8   MATH      1    male      53\n",
       "9   MATH      1  female      46\n",
       "10  MATH      2    male      46\n",
       "11  MATH      2  female      40\n",
       "12  MATH      3    male      49\n",
       "13  MATH      3  female      44\n",
       "14  MATH      4    male      53\n",
       "15  MATH      4  female      55\n",
       "16   MIS      1    male      53\n",
       "17   MIS      1  female      53\n",
       "18   MIS      2    male      46\n",
       "19   MIS      2  female      42\n",
       "20   MIS      3    male      56\n",
       "21   MIS      3  female      53\n",
       "22   MIS      4    male      48\n",
       "23   MIS      4  female      55"
      ]
     },
     "execution_count": 16,
     "metadata": {},
     "output_type": "execute_result"
    }
   ],
   "source": [
    "df = num.reset_index()\n",
    "df"
   ]
  },
  {
   "cell_type": "code",
   "execution_count": 17,
   "metadata": {},
   "outputs": [
    {
     "data": {
      "text/html": [
       "<div>\n",
       "<style scoped>\n",
       "    .dataframe tbody tr th:only-of-type {\n",
       "        vertical-align: middle;\n",
       "    }\n",
       "\n",
       "    .dataframe tbody tr th {\n",
       "        vertical-align: top;\n",
       "    }\n",
       "\n",
       "    .dataframe thead tr th {\n",
       "        text-align: left;\n",
       "    }\n",
       "\n",
       "    .dataframe thead tr:last-of-type th {\n",
       "        text-align: right;\n",
       "    }\n",
       "</style>\n",
       "<table border=\"1\" class=\"dataframe\">\n",
       "  <thead>\n",
       "    <tr>\n",
       "      <th></th>\n",
       "      <th></th>\n",
       "      <th colspan=\"4\" halign=\"left\">number</th>\n",
       "    </tr>\n",
       "    <tr>\n",
       "      <th></th>\n",
       "      <th>grade</th>\n",
       "      <th>1</th>\n",
       "      <th>2</th>\n",
       "      <th>3</th>\n",
       "      <th>4</th>\n",
       "    </tr>\n",
       "    <tr>\n",
       "      <th>major</th>\n",
       "      <th>gender</th>\n",
       "      <th></th>\n",
       "      <th></th>\n",
       "      <th></th>\n",
       "      <th></th>\n",
       "    </tr>\n",
       "  </thead>\n",
       "  <tbody>\n",
       "    <tr>\n",
       "      <th rowspan=\"2\" valign=\"top\">CS</th>\n",
       "      <th>female</th>\n",
       "      <td>55</td>\n",
       "      <td>51</td>\n",
       "      <td>42</td>\n",
       "      <td>56</td>\n",
       "    </tr>\n",
       "    <tr>\n",
       "      <th>male</th>\n",
       "      <td>50</td>\n",
       "      <td>43</td>\n",
       "      <td>58</td>\n",
       "      <td>52</td>\n",
       "    </tr>\n",
       "    <tr>\n",
       "      <th rowspan=\"2\" valign=\"top\">MATH</th>\n",
       "      <th>female</th>\n",
       "      <td>46</td>\n",
       "      <td>40</td>\n",
       "      <td>44</td>\n",
       "      <td>55</td>\n",
       "    </tr>\n",
       "    <tr>\n",
       "      <th>male</th>\n",
       "      <td>53</td>\n",
       "      <td>46</td>\n",
       "      <td>49</td>\n",
       "      <td>53</td>\n",
       "    </tr>\n",
       "    <tr>\n",
       "      <th rowspan=\"2\" valign=\"top\">MIS</th>\n",
       "      <th>female</th>\n",
       "      <td>53</td>\n",
       "      <td>42</td>\n",
       "      <td>53</td>\n",
       "      <td>55</td>\n",
       "    </tr>\n",
       "    <tr>\n",
       "      <th>male</th>\n",
       "      <td>53</td>\n",
       "      <td>46</td>\n",
       "      <td>56</td>\n",
       "      <td>48</td>\n",
       "    </tr>\n",
       "  </tbody>\n",
       "</table>\n",
       "</div>"
      ],
      "text/plain": [
       "             number            \n",
       "grade             1   2   3   4\n",
       "major gender                   \n",
       "CS    female     55  51  42  56\n",
       "      male       50  43  58  52\n",
       "MATH  female     46  40  44  55\n",
       "      male       53  46  49  53\n",
       "MIS   female     53  42  53  55\n",
       "      male       53  46  56  48"
      ]
     },
     "execution_count": 17,
     "metadata": {},
     "output_type": "execute_result"
    }
   ],
   "source": [
    "df.set_index([\"major\",\"gender\",\"grade\"]).unstack()"
   ]
  },
  {
   "cell_type": "markdown",
   "metadata": {
    "id": "fc73ac3f-7bd1-431c-a293-ce201487a9d7"
   },
   "source": [
    "## [Combining Datasets: Concat and Append](https://jakevdp.github.io/PythonDataScienceHandbook/03.06-concat-and-append.html)"
   ]
  },
  {
   "cell_type": "markdown",
   "metadata": {},
   "source": [
    "Purpose: adding **samples**"
   ]
  },
  {
   "cell_type": "markdown",
   "metadata": {},
   "source": [
    "NumPy concatenate"
   ]
  },
  {
   "cell_type": "code",
   "execution_count": 51,
   "metadata": {},
   "outputs": [
    {
     "data": {
      "text/plain": [
       "array([1, 2, 3, 4, 5, 6])"
      ]
     },
     "execution_count": 51,
     "metadata": {},
     "output_type": "execute_result"
    }
   ],
   "source": [
    "# np.concatenate\n",
    "a = np.array([1,2,3])\n",
    "b = np.array([4,5,6])\n",
    "np.concatenate([a,b])"
   ]
  },
  {
   "cell_type": "code",
   "execution_count": null,
   "metadata": {},
   "outputs": [],
   "source": [
    "# np.hstack\n"
   ]
  },
  {
   "cell_type": "code",
   "execution_count": 20,
   "metadata": {},
   "outputs": [],
   "source": [
    "# np.vstack"
   ]
  },
  {
   "cell_type": "markdown",
   "metadata": {},
   "source": [
    "pandas concatenate\n",
    "\n",
    "- DataFrame by default concat data by adding rows\n",
    "- Use `axis` to change the direction of concat\n",
    "- Use `verify_integrity` or `ignore_index` to handle duplicated index\n",
    "- Set `join` as `\"inner\"` or `\"outer\"` to decide which samples to be included\n",
    "- `a.append(b)` ~ `pd.concat([a, b'])`"
   ]
  },
  {
   "cell_type": "code",
   "execution_count": 21,
   "metadata": {},
   "outputs": [],
   "source": [
    "# see textbook examples"
   ]
  },
  {
   "cell_type": "markdown",
   "metadata": {
    "id": "0617c8db-645e-49a5-a410-3e31cca7ac25"
   },
   "source": [
    "## [Combining Datasets: Merge and Join](https://jakevdp.github.io/PythonDataScienceHandbook/03.07-merge-and-join.html)"
   ]
  },
  {
   "cell_type": "markdown",
   "metadata": {},
   "source": [
    "Purpose: Merging **features**"
   ]
  },
  {
   "cell_type": "markdown",
   "metadata": {},
   "source": [
    "pd.merge\n",
    "\n",
    "- `pd.merge(a,b)` ~ `pd.concat([a,b], axis=1)`\n",
    "- one-to-one, many-to-one, one-to-many, many-to-many\n",
    "- `on`, `left_on`, and `right_on`\n",
    "- To merge on index, use `left_index` or `right_index`\n",
    "- `pd.join` is a shorthand for merging on two indices\n",
    "- Set `how` as `\"inner\"`, `\"outer\"`, `\"left\"`, `\"right\"` to decide which samples to be included"
   ]
  },
  {
   "cell_type": "markdown",
   "metadata": {},
   "source": [
    "Read [Example: US States Data](https://jakevdp.github.io/PythonDataScienceHandbook/03.07-merge-and-join.html#Example:-US-States-Data)"
   ]
  },
  {
   "cell_type": "markdown",
   "metadata": {},
   "source": [
    "## [Aggregation and Grouping](https://jakevdp.github.io/PythonDataScienceHandbook/03.08-aggregation-and-grouping.html)"
   ]
  },
  {
   "cell_type": "markdown",
   "metadata": {},
   "source": [
    "Purpose: Extracting information"
   ]
  },
  {
   "cell_type": "code",
   "execution_count": 22,
   "metadata": {},
   "outputs": [],
   "source": [
    "X,y = titanic.data, titanic.target\n",
    "y = y.astype(int)\n",
    "X[\"survive\"] = y"
   ]
  },
  {
   "cell_type": "code",
   "execution_count": 23,
   "metadata": {},
   "outputs": [
    {
     "data": {
      "text/html": [
       "<div>\n",
       "<style scoped>\n",
       "    .dataframe tbody tr th:only-of-type {\n",
       "        vertical-align: middle;\n",
       "    }\n",
       "\n",
       "    .dataframe tbody tr th {\n",
       "        vertical-align: top;\n",
       "    }\n",
       "\n",
       "    .dataframe thead th {\n",
       "        text-align: right;\n",
       "    }\n",
       "</style>\n",
       "<table border=\"1\" class=\"dataframe\">\n",
       "  <thead>\n",
       "    <tr style=\"text-align: right;\">\n",
       "      <th></th>\n",
       "      <th>pclass</th>\n",
       "      <th>name</th>\n",
       "      <th>sex</th>\n",
       "      <th>age</th>\n",
       "      <th>sibsp</th>\n",
       "      <th>parch</th>\n",
       "      <th>ticket</th>\n",
       "      <th>fare</th>\n",
       "      <th>cabin</th>\n",
       "      <th>embarked</th>\n",
       "      <th>boat</th>\n",
       "      <th>body</th>\n",
       "      <th>home.dest</th>\n",
       "      <th>survive</th>\n",
       "    </tr>\n",
       "  </thead>\n",
       "  <tbody>\n",
       "    <tr>\n",
       "      <th>0</th>\n",
       "      <td>1</td>\n",
       "      <td>Allen, Miss. Elisabeth Walton</td>\n",
       "      <td>female</td>\n",
       "      <td>29.0000</td>\n",
       "      <td>0</td>\n",
       "      <td>0</td>\n",
       "      <td>24160</td>\n",
       "      <td>211.3375</td>\n",
       "      <td>B5</td>\n",
       "      <td>S</td>\n",
       "      <td>2</td>\n",
       "      <td>NaN</td>\n",
       "      <td>St Louis, MO</td>\n",
       "      <td>1</td>\n",
       "    </tr>\n",
       "    <tr>\n",
       "      <th>1</th>\n",
       "      <td>1</td>\n",
       "      <td>Allison, Master. Hudson Trevor</td>\n",
       "      <td>male</td>\n",
       "      <td>0.9167</td>\n",
       "      <td>1</td>\n",
       "      <td>2</td>\n",
       "      <td>113781</td>\n",
       "      <td>151.5500</td>\n",
       "      <td>C22 C26</td>\n",
       "      <td>S</td>\n",
       "      <td>11</td>\n",
       "      <td>NaN</td>\n",
       "      <td>Montreal, PQ / Chesterville, ON</td>\n",
       "      <td>1</td>\n",
       "    </tr>\n",
       "    <tr>\n",
       "      <th>2</th>\n",
       "      <td>1</td>\n",
       "      <td>Allison, Miss. Helen Loraine</td>\n",
       "      <td>female</td>\n",
       "      <td>2.0000</td>\n",
       "      <td>1</td>\n",
       "      <td>2</td>\n",
       "      <td>113781</td>\n",
       "      <td>151.5500</td>\n",
       "      <td>C22 C26</td>\n",
       "      <td>S</td>\n",
       "      <td>NaN</td>\n",
       "      <td>NaN</td>\n",
       "      <td>Montreal, PQ / Chesterville, ON</td>\n",
       "      <td>0</td>\n",
       "    </tr>\n",
       "    <tr>\n",
       "      <th>3</th>\n",
       "      <td>1</td>\n",
       "      <td>Allison, Mr. Hudson Joshua Creighton</td>\n",
       "      <td>male</td>\n",
       "      <td>30.0000</td>\n",
       "      <td>1</td>\n",
       "      <td>2</td>\n",
       "      <td>113781</td>\n",
       "      <td>151.5500</td>\n",
       "      <td>C22 C26</td>\n",
       "      <td>S</td>\n",
       "      <td>NaN</td>\n",
       "      <td>135.0</td>\n",
       "      <td>Montreal, PQ / Chesterville, ON</td>\n",
       "      <td>0</td>\n",
       "    </tr>\n",
       "    <tr>\n",
       "      <th>4</th>\n",
       "      <td>1</td>\n",
       "      <td>Allison, Mrs. Hudson J C (Bessie Waldo Daniels)</td>\n",
       "      <td>female</td>\n",
       "      <td>25.0000</td>\n",
       "      <td>1</td>\n",
       "      <td>2</td>\n",
       "      <td>113781</td>\n",
       "      <td>151.5500</td>\n",
       "      <td>C22 C26</td>\n",
       "      <td>S</td>\n",
       "      <td>NaN</td>\n",
       "      <td>NaN</td>\n",
       "      <td>Montreal, PQ / Chesterville, ON</td>\n",
       "      <td>0</td>\n",
       "    </tr>\n",
       "  </tbody>\n",
       "</table>\n",
       "</div>"
      ],
      "text/plain": [
       "   pclass                                             name     sex      age  \\\n",
       "0       1                    Allen, Miss. Elisabeth Walton  female  29.0000   \n",
       "1       1                   Allison, Master. Hudson Trevor    male   0.9167   \n",
       "2       1                     Allison, Miss. Helen Loraine  female   2.0000   \n",
       "3       1             Allison, Mr. Hudson Joshua Creighton    male  30.0000   \n",
       "4       1  Allison, Mrs. Hudson J C (Bessie Waldo Daniels)  female  25.0000   \n",
       "\n",
       "   sibsp  parch  ticket      fare    cabin embarked boat   body  \\\n",
       "0      0      0   24160  211.3375       B5        S    2    NaN   \n",
       "1      1      2  113781  151.5500  C22 C26        S   11    NaN   \n",
       "2      1      2  113781  151.5500  C22 C26        S  NaN    NaN   \n",
       "3      1      2  113781  151.5500  C22 C26        S  NaN  135.0   \n",
       "4      1      2  113781  151.5500  C22 C26        S  NaN    NaN   \n",
       "\n",
       "                         home.dest  survive  \n",
       "0                     St Louis, MO        1  \n",
       "1  Montreal, PQ / Chesterville, ON        1  \n",
       "2  Montreal, PQ / Chesterville, ON        0  \n",
       "3  Montreal, PQ / Chesterville, ON        0  \n",
       "4  Montreal, PQ / Chesterville, ON        0  "
      ]
     },
     "execution_count": 23,
     "metadata": {},
     "output_type": "execute_result"
    }
   ],
   "source": [
    "X.head()"
   ]
  },
  {
   "cell_type": "code",
   "execution_count": 129,
   "metadata": {},
   "outputs": [
    {
     "data": {
      "text/plain": [
       "np.float64(0.3819709702062643)"
      ]
     },
     "execution_count": 129,
     "metadata": {},
     "output_type": "execute_result"
    }
   ],
   "source": [
    "# total survival rate\n",
    "X.survive.mean()"
   ]
  },
  {
   "cell_type": "markdown",
   "metadata": {},
   "source": [
    "GroupBy: Split, Apply, Combine\n",
    "\n",
    "![](https://jakevdp.github.io/PythonDataScienceHandbook/figures/03.08-split-apply-combine.png)"
   ]
  },
  {
   "cell_type": "code",
   "execution_count": 25,
   "metadata": {},
   "outputs": [],
   "source": [
    "# check survival rate by groupby"
   ]
  },
  {
   "cell_type": "code",
   "execution_count": 26,
   "metadata": {},
   "outputs": [],
   "source": [
    "# try it step-by-step"
   ]
  },
  {
   "cell_type": "code",
   "execution_count": 27,
   "metadata": {},
   "outputs": [],
   "source": [
    "# select groupby column"
   ]
  },
  {
   "cell_type": "code",
   "execution_count": 28,
   "metadata": {},
   "outputs": [],
   "source": [
    "# choose apply as  describe"
   ]
  },
  {
   "cell_type": "markdown",
   "metadata": {},
   "source": [
    "GroupBy with aggregate, filter, transform, apply"
   ]
  },
  {
   "cell_type": "code",
   "execution_count": 29,
   "metadata": {},
   "outputs": [],
   "source": [
    "# see textbook examples"
   ]
  },
  {
   "cell_type": "markdown",
   "metadata": {},
   "source": [
    "Read [Grouping example](https://jakevdp.github.io/PythonDataScienceHandbook/03.08-aggregation-and-grouping.html#Grouping-example)"
   ]
  },
  {
   "cell_type": "markdown",
   "metadata": {
    "id": "fc47fd3e-6e35-4dcb-9b18-07a124530c15"
   },
   "source": [
    "## Homework"
   ]
  },
  {
   "cell_type": "markdown",
   "metadata": {
    "id": "6d3e1e09-00ff-4f01-9954-02bb0038b368"
   },
   "source": [
    "- Type your answers here and submit your answer in `*.ipynb` format.\n",
    "- You may use code cell and Markdown cell."
   ]
  },
  {
   "cell_type": "code",
   "execution_count": 1,
   "metadata": {
    "id": "00acf24a-ca42-436e-947d-abc846b9a6c7"
   },
   "outputs": [
    {
     "name": "stdout",
     "output_type": "stream",
     "text": [
      "My name is 李瑋宸 and my student ID is B123245008.\n"
     ]
    }
   ],
   "source": [
    "NAME = \"李瑋宸\" # change to your name\n",
    "STD_ID = \"B123245008\" # change to your student ID\n",
    "print(\"My name is %s and my student ID is %s.\"%(NAME, STD_ID))"
   ]
  },
  {
   "cell_type": "markdown",
   "metadata": {},
   "source": [
    "### Exercise 1: Creating a MultiIndex DataFrame\n",
    "Create a DataFrame with hierarchical indexing using the following data:\n",
    "\n",
    "```python\n",
    "import pandas as pd\n",
    "\n",
    "arrays = [['A', 'A', 'B', 'B'], [1, 2, 1, 2]]\n",
    "index = pd.MultiIndex.from_arrays(arrays, names=('Group', 'ID'))\n",
    "data = {'Value': [10, 20, 30, 40]}\n",
    "df = pd.DataFrame(data, index=index)\n",
    "print(df)\n",
    "```\n",
    "\n",
    "Interpret the output and explain how to access the value `30`."
   ]
  },
  {
   "cell_type": "code",
   "execution_count": 13,
   "id": "20a75408",
   "metadata": {},
   "outputs": [
    {
     "name": "stdout",
     "output_type": "stream",
     "text": [
      "          Value\n",
      "Group ID       \n",
      "A     1      10\n",
      "      2      20\n",
      "B     1      30\n",
      "      2      40 \n",
      "\n",
      "\n",
      "Value    30\n",
      "Name: (B, 1), dtype: int64\n",
      "          Value\n",
      "Group ID       \n",
      "B     1      30\n"
     ]
    }
   ],
   "source": [
    "import pandas as pd\n",
    "\n",
    "arrays = [['A', 'A', 'B', 'B'], [1, 2, 1, 2]]\n",
    "index = pd.MultiIndex.from_arrays(arrays, names=('Group', 'ID'))\n",
    "data = {'Value': [10, 20, 30, 40]}\n",
    "df = pd.DataFrame(data, index=index)\n",
    "print(df,\"\\n\\n\")\n",
    "\n",
    "print(df.loc[('B',1)])\n",
    "\n",
    "print(df[df[\"Value\"]==30])\n",
    "#將\"Value\"為30取出"
   ]
  },
  {
   "cell_type": "markdown",
   "metadata": {},
   "source": [
    "### Exercise 2: Swapping and Sorting Levels\n",
    "Using the DataFrame from Exercise 1, swap the index levels and then sort the DataFrame based on the new index order."
   ]
  },
  {
   "cell_type": "code",
   "execution_count": 14,
   "id": "3dfa0db5",
   "metadata": {},
   "outputs": [
    {
     "name": "stdout",
     "output_type": "stream",
     "text": [
      "          Value\n",
      "ID Group       \n",
      "1  A         10\n",
      "2  A         20\n",
      "1  B         30\n",
      "2  B         40\n",
      "          Value\n",
      "ID Group       \n",
      "1  A         10\n",
      "   B         30\n",
      "2  A         20\n",
      "   B         40\n"
     ]
    }
   ],
   "source": [
    "\n",
    "df = df.reset_index()\n",
    "df = df.set_index([\"ID\",\"Group\"])\n",
    "print(df)\n",
    "df=df.sort_index()\n",
    "print(df)\n"
   ]
  },
  {
   "cell_type": "markdown",
   "metadata": {},
   "source": [
    "### Exercise 3: Indexing with Hierarchical Data\n",
    "Using the DataFrame from Exercise 1, retrieve all values where `Group` is `'A'`."
   ]
  },
  {
   "cell_type": "code",
   "execution_count": 15,
   "id": "4b3ee039",
   "metadata": {},
   "outputs": [
    {
     "name": "stdout",
     "output_type": "stream",
     "text": [
      "    Value\n",
      "ID       \n",
      "1      10\n",
      "2      20\n",
      "    Value\n",
      "ID       \n",
      "1      10\n",
      "2      20\n",
      "          Value\n",
      "Group ID       \n",
      "A     1      10\n",
      "      2      20\n"
     ]
    }
   ],
   "source": [
    "index = pd.MultiIndex.from_arrays(arrays, names=('Group', 'ID'))\n",
    "data = {'Value': [10, 20, 30, 40]}\n",
    "df = pd.DataFrame(data, index=index)\n",
    "print(df.loc[\"A\"])\n",
    "print(df.xs('A',level=\"Group\"))\n",
    "print(df.query(\"Group == 'A'\"))"
   ]
  },
  {
   "cell_type": "markdown",
   "metadata": {},
   "source": [
    "### Exercise 4: Concatenating DataFrames\n",
    "Create two DataFrames:\n",
    "\n",
    "```python\n",
    "df1 = pd.DataFrame({'A': ['a0', 'a1'], 'B': ['b0', 'b1']})\n",
    "df2 = pd.DataFrame({'A': ['a2', 'a3'], 'B': ['b2', 'b3']})\n",
    "```\n",
    "\n",
    "Concatenate them along the rows."
   ]
  },
  {
   "cell_type": "code",
   "execution_count": 16,
   "id": "63d6aaa9",
   "metadata": {},
   "outputs": [
    {
     "name": "stdout",
     "output_type": "stream",
     "text": [
      "    A   B\n",
      "0  a0  b0\n",
      "1  a1  b1\n",
      "0  a2  b2\n",
      "1  a3  b3\n"
     ]
    }
   ],
   "source": [
    "df1 = pd.DataFrame({'A': ['a0', 'a1'], 'B': ['b0', 'b1']})\n",
    "df2 = pd.DataFrame({'A': ['a2', 'a3'], 'B': ['b2', 'b3']})\n",
    "df = pd.concat([df1,df2])\n",
    "print(df)"
   ]
  },
  {
   "cell_type": "markdown",
   "metadata": {},
   "source": [
    "### Exercise 5: Appending DataFrames\n",
    "Using the DataFrames from Exercise 4, append `df2` to `df1` and reset the index."
   ]
  },
  {
   "cell_type": "code",
   "execution_count": 17,
   "id": "175987a1",
   "metadata": {},
   "outputs": [
    {
     "name": "stdout",
     "output_type": "stream",
     "text": [
      "    A   B\n",
      "0  a0  b0\n",
      "1  a1  b1\n",
      "2  a2  b2\n",
      "3  a3  b3\n"
     ]
    }
   ],
   "source": [
    "df = pd.concat([df1,df2],ignore_index=True)\n",
    "print(df)"
   ]
  },
  {
   "cell_type": "markdown",
   "metadata": {},
   "source": [
    "### Exercise 6: Merging DataFrames\n",
    "Create two DataFrames:\n",
    "\n",
    "```python\n",
    "df1 = pd.DataFrame({'ID': [1, 2, 3], 'Name': ['Alice', 'Bob', 'Charlie']})\n",
    "df2 = pd.DataFrame({'ID': [2, 3, 4], 'Score': [85, 90, 95]})\n",
    "```\n",
    "\n",
    "Perform an inner merge on the `ID` column."
   ]
  },
  {
   "cell_type": "code",
   "execution_count": 18,
   "id": "6606305d",
   "metadata": {},
   "outputs": [
    {
     "data": {
      "text/html": [
       "<div>\n",
       "<style scoped>\n",
       "    .dataframe tbody tr th:only-of-type {\n",
       "        vertical-align: middle;\n",
       "    }\n",
       "\n",
       "    .dataframe tbody tr th {\n",
       "        vertical-align: top;\n",
       "    }\n",
       "\n",
       "    .dataframe thead th {\n",
       "        text-align: right;\n",
       "    }\n",
       "</style>\n",
       "<table border=\"1\" class=\"dataframe\">\n",
       "  <thead>\n",
       "    <tr style=\"text-align: right;\">\n",
       "      <th></th>\n",
       "      <th>ID</th>\n",
       "      <th>Name</th>\n",
       "      <th>Score</th>\n",
       "    </tr>\n",
       "  </thead>\n",
       "  <tbody>\n",
       "    <tr>\n",
       "      <th>0</th>\n",
       "      <td>2</td>\n",
       "      <td>Bob</td>\n",
       "      <td>85</td>\n",
       "    </tr>\n",
       "    <tr>\n",
       "      <th>1</th>\n",
       "      <td>3</td>\n",
       "      <td>Charlie</td>\n",
       "      <td>90</td>\n",
       "    </tr>\n",
       "  </tbody>\n",
       "</table>\n",
       "</div>"
      ],
      "text/plain": [
       "   ID     Name  Score\n",
       "0   2      Bob     85\n",
       "1   3  Charlie     90"
      ]
     },
     "execution_count": 18,
     "metadata": {},
     "output_type": "execute_result"
    }
   ],
   "source": [
    "df1 = pd.DataFrame({'ID': [1, 2, 3], 'Name': ['Alice', 'Bob', 'Charlie']})\n",
    "df2 = pd.DataFrame({'ID': [2, 3, 4], 'Score': [85, 90, 95]})\n",
    "pd.merge(df1,df2,on = \"ID\",how = \"inner\")"
   ]
  },
  {
   "cell_type": "markdown",
   "metadata": {},
   "source": [
    "### Exercise 7: Using Different Merge Types\n",
    "Using the DataFrames from Exercise 6, perform:\n",
    "- A left merge\n",
    "- A right merge\n",
    "- An outer merge\n",
    "\n",
    "Compare the outputs and explain the differences."
   ]
  },
  {
   "cell_type": "code",
   "execution_count": 19,
   "id": "82e60a16",
   "metadata": {},
   "outputs": [
    {
     "name": "stdout",
     "output_type": "stream",
     "text": [
      "   ID     Name  Score\n",
      "0   1    Alice    NaN\n",
      "1   2      Bob   85.0\n",
      "2   3  Charlie   90.0\n",
      "   ID     Name  Score\n",
      "0   2      Bob     85\n",
      "1   3  Charlie     90\n",
      "2   4      NaN     95\n",
      "   ID     Name  Score\n",
      "0   1    Alice    NaN\n",
      "1   2      Bob   85.0\n",
      "2   3  Charlie   90.0\n",
      "3   4      NaN   95.0\n"
     ]
    }
   ],
   "source": [
    "df1 = pd.DataFrame({'ID': [1, 2, 3], 'Name': ['Alice', 'Bob', 'Charlie']})\n",
    "df2 = pd.DataFrame({'ID': [2, 3, 4], 'Score': [85, 90, 95]})\n",
    "df = pd.merge(df1,df2,how = \"left\")\n",
    "print(df)\n",
    "df = pd.merge(df1,df2,how = \"right\")\n",
    "print(df)\n",
    "df = pd.merge(df1,df2,how = \"outer\")\n",
    "print(df)"
   ]
  },
  {
   "cell_type": "markdown",
   "metadata": {},
   "source": [
    "### Exercise 8: Grouping Data\n",
    "Given the following DataFrame:\n",
    "\n",
    "```python\n",
    "data = {'Department': ['HR', 'HR', 'IT', 'IT', 'Finance'],\n",
    "        'Employee': ['Alice', 'Bob', 'Charlie', 'David', 'Eve'],\n",
    "        'Salary': [50000, 55000, 60000, 65000, 70000]}\n",
    "df = pd.DataFrame(data)\n",
    "```\n",
    "\n",
    "Group by the `Department` column and compute the mean salary for each department."
   ]
  },
  {
   "cell_type": "code",
   "execution_count": 20,
   "id": "290f6f1c",
   "metadata": {},
   "outputs": [
    {
     "name": "stdout",
     "output_type": "stream",
     "text": [
      "  Department Employee  Salary\n",
      "0         HR    Alice   50000\n",
      "1         HR      Bob   55000\n",
      "2         IT  Charlie   60000\n",
      "3         IT    David   65000\n",
      "4    Finance      Eve   70000\n",
      "Department\n",
      "Finance    70000.0\n",
      "HR         52500.0\n",
      "IT         62500.0\n",
      "Name: Salary, dtype: float64\n"
     ]
    }
   ],
   "source": [
    "data = {'Department': ['HR', 'HR', 'IT', 'IT', 'Finance'],\n",
    "        'Employee': ['Alice', 'Bob', 'Charlie', 'David', 'Eve'],\n",
    "        'Salary': [50000, 55000, 60000, 65000, 70000]}\n",
    "df = pd.DataFrame(data)\n",
    "print(df)\n",
    "\n",
    "df = df.groupby(\"Department\")\n",
    "print(df[\"Salary\"].mean())"
   ]
  },
  {
   "cell_type": "markdown",
   "metadata": {},
   "source": [
    "### Exercise 9: Applying Multiple Aggregations\n",
    "Using the DataFrame from Exercise 8, apply multiple aggregations (`mean` and `max`) on the `Salary` column."
   ]
  },
  {
   "cell_type": "code",
   "execution_count": 21,
   "id": "47065474",
   "metadata": {},
   "outputs": [
    {
     "data": {
      "text/html": [
       "<div>\n",
       "<style scoped>\n",
       "    .dataframe tbody tr th:only-of-type {\n",
       "        vertical-align: middle;\n",
       "    }\n",
       "\n",
       "    .dataframe tbody tr th {\n",
       "        vertical-align: top;\n",
       "    }\n",
       "\n",
       "    .dataframe thead th {\n",
       "        text-align: right;\n",
       "    }\n",
       "</style>\n",
       "<table border=\"1\" class=\"dataframe\">\n",
       "  <thead>\n",
       "    <tr style=\"text-align: right;\">\n",
       "      <th></th>\n",
       "      <th>Salary</th>\n",
       "    </tr>\n",
       "  </thead>\n",
       "  <tbody>\n",
       "    <tr>\n",
       "      <th>mean</th>\n",
       "      <td>60000.0</td>\n",
       "    </tr>\n",
       "    <tr>\n",
       "      <th>max</th>\n",
       "      <td>70000.0</td>\n",
       "    </tr>\n",
       "  </tbody>\n",
       "</table>\n",
       "</div>"
      ],
      "text/plain": [
       "       Salary\n",
       "mean  60000.0\n",
       "max   70000.0"
      ]
     },
     "execution_count": 21,
     "metadata": {},
     "output_type": "execute_result"
    }
   ],
   "source": [
    "data = {'Department': ['HR', 'HR', 'IT', 'IT', 'Finance'],\n",
    "        'Employee': ['Alice', 'Bob', 'Charlie', 'David', 'Eve'],\n",
    "        'Salary': [50000, 55000, 60000, 65000, 70000]}\n",
    "df = pd.DataFrame(data)\n",
    "df.agg({\"Salary\" : ['mean','max']})\n"
   ]
  },
  {
   "cell_type": "markdown",
   "metadata": {},
   "source": [
    "### Exercise 10: Custom Aggregation Function\n",
    "Define a custom aggregation function that calculates the range (max - min) of salaries within each department in the DataFrame from Exercise 8. Apply this function using `.agg()`."
   ]
  },
  {
   "cell_type": "code",
   "execution_count": 22,
   "id": "0a696af7",
   "metadata": {},
   "outputs": [
    {
     "data": {
      "text/html": [
       "<div>\n",
       "<style scoped>\n",
       "    .dataframe tbody tr th:only-of-type {\n",
       "        vertical-align: middle;\n",
       "    }\n",
       "\n",
       "    .dataframe tbody tr th {\n",
       "        vertical-align: top;\n",
       "    }\n",
       "\n",
       "    .dataframe thead tr th {\n",
       "        text-align: left;\n",
       "    }\n",
       "\n",
       "    .dataframe thead tr:last-of-type th {\n",
       "        text-align: right;\n",
       "    }\n",
       "</style>\n",
       "<table border=\"1\" class=\"dataframe\">\n",
       "  <thead>\n",
       "    <tr>\n",
       "      <th></th>\n",
       "      <th>Salary</th>\n",
       "    </tr>\n",
       "    <tr>\n",
       "      <th></th>\n",
       "      <th>range_func</th>\n",
       "    </tr>\n",
       "    <tr>\n",
       "      <th>Department</th>\n",
       "      <th></th>\n",
       "    </tr>\n",
       "  </thead>\n",
       "  <tbody>\n",
       "    <tr>\n",
       "      <th>Finance</th>\n",
       "      <td>0</td>\n",
       "    </tr>\n",
       "    <tr>\n",
       "      <th>HR</th>\n",
       "      <td>5000</td>\n",
       "    </tr>\n",
       "    <tr>\n",
       "      <th>IT</th>\n",
       "      <td>5000</td>\n",
       "    </tr>\n",
       "  </tbody>\n",
       "</table>\n",
       "</div>"
      ],
      "text/plain": [
       "               Salary\n",
       "           range_func\n",
       "Department           \n",
       "Finance             0\n",
       "HR               5000\n",
       "IT               5000"
      ]
     },
     "execution_count": 22,
     "metadata": {},
     "output_type": "execute_result"
    }
   ],
   "source": [
    "def range_func(x):\n",
    "    return x.max()-x.min()\n",
    "\n",
    "df = pd.DataFrame(data)\n",
    "df = df.groupby(\"Department\")\n",
    "df.agg({\"Salary\" : [range_func]})"
   ]
  }
 ],
 "metadata": {
  "colab": {
   "provenance": []
  },
  "kernelspec": {
   "display_name": "Python 3",
   "language": "python",
   "name": "python3"
  },
  "language_info": {
   "codemirror_mode": {
    "name": "ipython",
    "version": 3
   },
   "file_extension": ".py",
   "mimetype": "text/x-python",
   "name": "python",
   "nbconvert_exporter": "python",
   "pygments_lexer": "ipython3",
   "version": "3.12.4"
  }
 },
 "nbformat": 4,
 "nbformat_minor": 5
}
